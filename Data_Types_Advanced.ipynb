{
 "cells": [
  {
   "cell_type": "markdown",
   "id": "f0d92457",
   "metadata": {},
   "source": [
    "# Let's take a deep dive into some of the most useful Python data types and applicable use cases in the Sports world!"
   ]
  },
  {
   "cell_type": "markdown",
   "id": "47145083",
   "metadata": {},
   "source": [
    "## Lists"
   ]
  },
  {
   "cell_type": "markdown",
   "id": "792149a3",
   "metadata": {},
   "source": [
    "Lists are a very useful way to store multiple items in one singularly named variable. This has so many use cases in the world of sports. Let me show you some examples and feel free to brainstorm some of your own!"
   ]
  },
  {
   "cell_type": "code",
   "execution_count": 16,
   "id": "7f2e0752",
   "metadata": {},
   "outputs": [],
   "source": [
    "#Say we want a breakdown of our positional requirements for our fantasy football team\n",
    "fantasy_football_roster_format = ['QB','RB','RB','WR','WR','WR','TE','FLEX','K','DEF/ST']"
   ]
  },
  {
   "cell_type": "markdown",
   "id": "2404cf01",
   "metadata": {},
   "source": [
    "A list has 4 main characteristics: \n",
    "1. Each item is indexed the first element is indexed at [0] (Not 1)\n",
    "2. The list items are set in a defined order\n",
    "3. Lists can be changed. We can change an item, remove an item, and add an item\n",
    "4. Allow duplicate entries. Multiple items can have the same value"
   ]
  },
  {
   "cell_type": "markdown",
   "id": "dae118b8",
   "metadata": {},
   "source": [
    "### Some Useful List Functions and Methods"
   ]
  },
  {
   "cell_type": "markdown",
   "id": "0739c5ad",
   "metadata": {},
   "source": [
    "How many roster spots are in the above example? Do you really want to count them by hand? Nope!"
   ]
  },
  {
   "cell_type": "code",
   "execution_count": 17,
   "id": "45fb0e33",
   "metadata": {},
   "outputs": [
    {
     "data": {
      "text/plain": [
       "10"
      ]
     },
     "execution_count": 17,
     "metadata": {},
     "output_type": "execute_result"
    }
   ],
   "source": [
    "#len() function\n",
    "len(fantasy_football_roster_format)"
   ]
  },
  {
   "cell_type": "markdown",
   "id": "eeca6bd8",
   "metadata": {},
   "source": [
    "Forgot you wanted to add an IDP this year? No worries!"
   ]
  },
  {
   "cell_type": "code",
   "execution_count": 18,
   "id": "6032273a",
   "metadata": {},
   "outputs": [
    {
     "data": {
      "text/plain": [
       "['QB', 'RB', 'RB', 'WR', 'WR', 'WR', 'TE', 'FLEX', 'K', 'DEF/ST', 'IDP']"
      ]
     },
     "execution_count": 18,
     "metadata": {},
     "output_type": "execute_result"
    }
   ],
   "source": [
    "#list.append()\n",
    "fantasy_football_roster_format.append('IDP')\n",
    "fantasy_football_roster_format"
   ]
  },
  {
   "cell_type": "markdown",
   "id": "4f4d8505",
   "metadata": {},
   "source": [
    "Only want two receivers this year? Simple enough.."
   ]
  },
  {
   "cell_type": "code",
   "execution_count": 19,
   "id": "a41c9f5b",
   "metadata": {},
   "outputs": [
    {
     "data": {
      "text/plain": [
       "['QB', 'RB', 'RB', 'WR', 'WR', 'TE', 'FLEX', 'K', 'DEF/ST', 'IDP']"
      ]
     },
     "execution_count": 19,
     "metadata": {},
     "output_type": "execute_result"
    }
   ],
   "source": [
    "#list.remove(item_value)\n",
    "fantasy_football_roster_format.remove('WR')\n",
    "fantasy_football_roster_format"
   ]
  },
  {
   "cell_type": "markdown",
   "id": "80023023",
   "metadata": {},
   "source": [
    "Want to make sure this worked without hand counting?"
   ]
  },
  {
   "cell_type": "code",
   "execution_count": 20,
   "id": "e1234362",
   "metadata": {},
   "outputs": [
    {
     "data": {
      "text/plain": [
       "2"
      ]
     },
     "execution_count": 20,
     "metadata": {},
     "output_type": "execute_result"
    }
   ],
   "source": [
    "#list.count()\n",
    "fantasy_football_roster_format.count('WR')"
   ]
  },
  {
   "cell_type": "markdown",
   "id": "ae7f27bd",
   "metadata": {},
   "source": [
    "## Tuples"
   ]
  },
  {
   "cell_type": "markdown",
   "id": "8504ed65",
   "metadata": {},
   "source": [
    "Like lists, tuples can store multiple items in one variable. Also similarly to lists, tuples are indexed starting at [0], ordered, and allow duplicates.\n",
    "\n",
    "The major difference is that tuples are Immutable which means they cannot be changed after they are created!\n",
    "\n",
    "A tuple looks similar to a list but instead of square brackets they are constructed with round parentheses."
   ]
  },
  {
   "cell_type": "code",
   "execution_count": 22,
   "id": "8008b570",
   "metadata": {},
   "outputs": [],
   "source": [
    "# Tuple\n",
    "fantasy_football_roster_format = ('QB','RB','RB','WR','WR','WR','TE','FLEX','K','DEF/ST')"
   ]
  },
  {
   "cell_type": "markdown",
   "id": "3acea749",
   "metadata": {},
   "source": [
    "A useful feature unique to tuples is called \"Unpacking\". This is a process where we are allowed to extract the values of a tuple back into a different variable.\n",
    "\n",
    "Say we had a tuple of the teams of the AFC East (NFL), but we wanted to be able to also call them by their City/State names."
   ]
  },
  {
   "cell_type": "code",
   "execution_count": 23,
   "id": "6a55121c",
   "metadata": {},
   "outputs": [],
   "source": [
    "afc_east_team_names = ('Patriots','Dolphins','Bills','Jets')"
   ]
  },
  {
   "cell_type": "code",
   "execution_count": 28,
   "id": "c1719b4b",
   "metadata": {},
   "outputs": [
    {
     "name": "stdout",
     "output_type": "stream",
     "text": [
      "Patriots\n",
      "Dolphins\n",
      "Bills\n",
      "Jets\n"
     ]
    }
   ],
   "source": [
    "#Unpacking\n",
    "(NewEngland,Miami,Buffalo,NewYork) = afc_east_team_names\n",
    "print(NewEngland)\n",
    "print(Miami)\n",
    "print(Buffalo)\n",
    "print(NewYork)\n"
   ]
  },
  {
   "cell_type": "markdown",
   "id": "3dce1c5c",
   "metadata": {},
   "source": [
    "### Tuple Methods"
   ]
  },
  {
   "cell_type": "markdown",
   "id": "829555bd",
   "metadata": {},
   "source": [
    "Count instances of the occurence of a specified value just like with lists!"
   ]
  },
  {
   "cell_type": "code",
   "execution_count": 31,
   "id": "51cd8b93",
   "metadata": {},
   "outputs": [
    {
     "data": {
      "text/plain": [
       "1"
      ]
     },
     "execution_count": 31,
     "metadata": {},
     "output_type": "execute_result"
    }
   ],
   "source": [
    "#tuple.count() Similar to list.count() \n",
    "afc_east_team_names.count('Patriots')"
   ]
  },
  {
   "cell_type": "markdown",
   "id": "f3671d55",
   "metadata": {},
   "source": [
    "Have a long tuple? Search where a specified value occurs in the tuple. Remember, the index starts at 0 not 1"
   ]
  },
  {
   "cell_type": "code",
   "execution_count": 32,
   "id": "d4eb93a2",
   "metadata": {},
   "outputs": [
    {
     "data": {
      "text/plain": [
       "3"
      ]
     },
     "execution_count": 32,
     "metadata": {},
     "output_type": "execute_result"
    }
   ],
   "source": [
    "#tuple.index() \n",
    "afc_east_team_names.index('Jets')"
   ]
  },
  {
   "cell_type": "markdown",
   "id": "acc1d2ed",
   "metadata": {},
   "source": [
    "# Dictionaries"
   ]
  },
  {
   "cell_type": "markdown",
   "id": "0267c99c",
   "metadata": {},
   "source": [
    "Dictionaries store information in key:value pairs. This means for each entry there is a \"key\" which is typically similar to a column head or some other descriptor of the data category. The corresponding \"value\" is the value assigned to that key for a given dictionary.\n",
    "\n",
    "Now, what's a sports related use case? There are many!\n",
    "\n",
    "Say for a given NBA game, we want a dictionary for each player's stats. We can create something that can function like a box score using a dictionary!"
   ]
  },
  {
   "cell_type": "code",
   "execution_count": 35,
   "id": "86a9f2b5",
   "metadata": {},
   "outputs": [],
   "source": [
    "kevin_durant_box_score={\n",
    "    \"player\" : 'Kevin Durant',\n",
    "    \"points\" : 38,\n",
    "    \"assists\" : 6,\n",
    "    \"rebounds\" : 12,\n",
    "    \"blocks\" : 2,\n",
    "    \"steals\" : 0,\n",
    "    \"minutes_played\" : 37\n",
    "}"
   ]
  },
  {
   "cell_type": "markdown",
   "id": "2f8b6fb8",
   "metadata": {},
   "source": [
    "And we can access each stat like this:"
   ]
  },
  {
   "cell_type": "code",
   "execution_count": 36,
   "id": "d120ecce",
   "metadata": {},
   "outputs": [
    {
     "data": {
      "text/plain": [
       "38"
      ]
     },
     "execution_count": 36,
     "metadata": {},
     "output_type": "execute_result"
    }
   ],
   "source": [
    "kevin_durant_box_score[\"points\"]"
   ]
  },
  {
   "cell_type": "markdown",
   "id": "6cfe29ba",
   "metadata": {},
   "source": [
    "### Dictionary Methods"
   ]
  },
  {
   "cell_type": "markdown",
   "id": "8db437e9",
   "metadata": {},
   "source": [
    "Which stats are available in the dictionary?"
   ]
  },
  {
   "cell_type": "code",
   "execution_count": 37,
   "id": "8c03641c",
   "metadata": {},
   "outputs": [
    {
     "data": {
      "text/plain": [
       "dict_keys(['player', 'points', 'assists', 'rebounds', 'blocks', 'steals', 'minutes_played'])"
      ]
     },
     "execution_count": 37,
     "metadata": {},
     "output_type": "execute_result"
    }
   ],
   "source": [
    "#dict.keys()\n",
    "kevin_durant_box_score.keys()"
   ]
  },
  {
   "cell_type": "markdown",
   "id": "9a26ebc8",
   "metadata": {},
   "source": [
    "Want the values?"
   ]
  },
  {
   "cell_type": "code",
   "execution_count": 38,
   "id": "fd55ad0d",
   "metadata": {},
   "outputs": [
    {
     "data": {
      "text/plain": [
       "dict_values(['Kevin Durant', 38, 6, 12, 2, 0, 37])"
      ]
     },
     "execution_count": 38,
     "metadata": {},
     "output_type": "execute_result"
    }
   ],
   "source": [
    "#dict.values()\n",
    "kevin_durant_box_score.values()"
   ]
  },
  {
   "cell_type": "markdown",
   "id": "952e04ea",
   "metadata": {},
   "source": [
    "Made a statistical error? KD actually scored 39. No problem!"
   ]
  },
  {
   "cell_type": "code",
   "execution_count": 40,
   "id": "d5193b0e",
   "metadata": {},
   "outputs": [
    {
     "data": {
      "text/plain": [
       "{'player': 'Kevin Durant',\n",
       " 'points': 39,\n",
       " 'assists': 6,\n",
       " 'rebounds': 12,\n",
       " 'blocks': 2,\n",
       " 'steals': 0,\n",
       " 'minutes_played': 37}"
      ]
     },
     "execution_count": 40,
     "metadata": {},
     "output_type": "execute_result"
    }
   ],
   "source": [
    "#dict.update()\n",
    "kevin_durant_box_score.update({\"points\":39})\n",
    "kevin_durant_box_score"
   ]
  },
  {
   "cell_type": "markdown",
   "id": "282bdb45",
   "metadata": {},
   "source": [
    "## Notes"
   ]
  },
  {
   "cell_type": "markdown",
   "id": "63298183",
   "metadata": {},
   "source": [
    "There are other data types and each of these has more functions and methods. We will encounter more throughout the curriculum but this should be a great start!"
   ]
  },
  {
   "cell_type": "code",
   "execution_count": null,
   "id": "80614b3b",
   "metadata": {},
   "outputs": [],
   "source": []
  }
 ],
 "metadata": {
  "kernelspec": {
   "display_name": "Python 3 (ipykernel)",
   "language": "python",
   "name": "python3"
  },
  "language_info": {
   "codemirror_mode": {
    "name": "ipython",
    "version": 3
   },
   "file_extension": ".py",
   "mimetype": "text/x-python",
   "name": "python",
   "nbconvert_exporter": "python",
   "pygments_lexer": "ipython3",
   "version": "3.9.13"
  }
 },
 "nbformat": 4,
 "nbformat_minor": 5
}
