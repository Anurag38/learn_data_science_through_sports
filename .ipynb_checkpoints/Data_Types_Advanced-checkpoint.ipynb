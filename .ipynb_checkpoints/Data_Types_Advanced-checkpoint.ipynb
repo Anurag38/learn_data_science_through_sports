{
 "cells": [
  {
   "cell_type": "markdown",
   "id": "bf24017d",
   "metadata": {},
   "source": [
    "# Let's take a deep dive into Python data types and applicable use cases in the Sports world!"
   ]
  },
  {
   "cell_type": "markdown",
   "id": "b7d88041",
   "metadata": {},
   "source": [
    "## Lists"
   ]
  },
  {
   "cell_type": "markdown",
   "id": "1222fde7",
   "metadata": {},
   "source": [
    "Lists are a very useful way to store multiple items in one singularly named variable. This has so many use cases in the world of sports. Let me show you some examples and feel free to brainstorm some of your own!"
   ]
  },
  {
   "cell_type": "code",
   "execution_count": 16,
   "id": "3ef77d73",
   "metadata": {},
   "outputs": [],
   "source": [
    "#Say we want a breakdown of our positional requirements for our fantasy football team\n",
    "fantasy_football_roster_format = ['QB','RB','RB','WR','WR','WR','TE','FLEX','K','DEF/ST']"
   ]
  },
  {
   "cell_type": "markdown",
   "id": "01f702be",
   "metadata": {},
   "source": [
    "A list has 4 main characteristics: \n",
    "1. Each item is indexed the first element is indexed at [0] (Not 1)\n",
    "2. The list items are set in a defined order\n",
    "3. Lists can be changed. We can change an item, remove an item, and add an item\n",
    "4. Allow duplicate entries. Multiple items can have the same value"
   ]
  },
  {
   "cell_type": "markdown",
   "id": "758ef5e8",
   "metadata": {},
   "source": [
    "### Some Useful List Functions and Methods"
   ]
  },
  {
   "cell_type": "markdown",
   "id": "9c823f91",
   "metadata": {},
   "source": [
    "How many roster spots are in the above example? Do you really want to count them by hand? Nope!"
   ]
  },
  {
   "cell_type": "code",
   "execution_count": 17,
   "id": "8d877e9c",
   "metadata": {},
   "outputs": [
    {
     "data": {
      "text/plain": [
       "10"
      ]
     },
     "execution_count": 17,
     "metadata": {},
     "output_type": "execute_result"
    }
   ],
   "source": [
    "#len() function\n",
    "len(fantasy_football_roster_format)"
   ]
  },
  {
   "cell_type": "markdown",
   "id": "2e9ad4ba",
   "metadata": {},
   "source": [
    "Forgot you wanted to add an IDP this year? No worries!"
   ]
  },
  {
   "cell_type": "code",
   "execution_count": 18,
   "id": "3ceec443",
   "metadata": {},
   "outputs": [
    {
     "data": {
      "text/plain": [
       "['QB', 'RB', 'RB', 'WR', 'WR', 'WR', 'TE', 'FLEX', 'K', 'DEF/ST', 'IDP']"
      ]
     },
     "execution_count": 18,
     "metadata": {},
     "output_type": "execute_result"
    }
   ],
   "source": [
    "#list.append()\n",
    "fantasy_football_roster_format.append('IDP')\n",
    "fantasy_football_roster_format"
   ]
  },
  {
   "cell_type": "markdown",
   "id": "f2d8ee55",
   "metadata": {},
   "source": [
    "Only want two receivers this year? Simple enough.."
   ]
  },
  {
   "cell_type": "code",
   "execution_count": 19,
   "id": "0b3bce8f",
   "metadata": {},
   "outputs": [
    {
     "data": {
      "text/plain": [
       "['QB', 'RB', 'RB', 'WR', 'WR', 'TE', 'FLEX', 'K', 'DEF/ST', 'IDP']"
      ]
     },
     "execution_count": 19,
     "metadata": {},
     "output_type": "execute_result"
    }
   ],
   "source": [
    "#list.remove(item_value)\n",
    "fantasy_football_roster_format.remove('WR')\n",
    "fantasy_football_roster_format"
   ]
  },
  {
   "cell_type": "markdown",
   "id": "4af1128a",
   "metadata": {},
   "source": [
    "Want to make sure this worked without hand counting?"
   ]
  },
  {
   "cell_type": "code",
   "execution_count": 20,
   "id": "aebe3a24",
   "metadata": {},
   "outputs": [
    {
     "data": {
      "text/plain": [
       "2"
      ]
     },
     "execution_count": 20,
     "metadata": {},
     "output_type": "execute_result"
    }
   ],
   "source": [
    "#list.count()\n",
    "fantasy_football_roster_format.count('WR')"
   ]
  },
  {
   "cell_type": "markdown",
   "id": "511e82b3",
   "metadata": {},
   "source": [
    "## Tuples"
   ]
  },
  {
   "cell_type": "markdown",
   "id": "f085a622",
   "metadata": {},
   "source": [
    "Like lists, tuples can store multiple items in one variable. Also similarly to lists, tuples are indexed starting at [0], ordered, and allow duplicates.\n",
    "\n",
    "The major difference is that tuples are Immutable which means they cannot be changed after they are created!\n",
    "\n",
    "A tuple looks similar to a list but instead of square brackets they are constructed with round parentheses."
   ]
  },
  {
   "cell_type": "code",
   "execution_count": 22,
   "id": "c67de6ca",
   "metadata": {},
   "outputs": [],
   "source": [
    "# Tuple\n",
    "fantasy_football_roster_format = ('QB','RB','RB','WR','WR','WR','TE','FLEX','K','DEF/ST')"
   ]
  },
  {
   "cell_type": "markdown",
   "id": "3b5d6ddb",
   "metadata": {},
   "source": [
    "A useful feature unique to tuples is called \"Unpacking\". This is a process where we are allowed to extract the values of a tuple back into a different variable.\n",
    "\n",
    "Say we had a tuple of the teams of the AFC East (NFL), but we wanted to be able to also call them by their City/State names."
   ]
  },
  {
   "cell_type": "code",
   "execution_count": 23,
   "id": "25798cfc",
   "metadata": {},
   "outputs": [],
   "source": [
    "afc_east_team_names = ('Patriots','Dolphins','Bills','Jets')"
   ]
  },
  {
   "cell_type": "code",
   "execution_count": 28,
   "id": "14080fe0",
   "metadata": {},
   "outputs": [
    {
     "name": "stdout",
     "output_type": "stream",
     "text": [
      "Patriots\n",
      "Dolphins\n",
      "Bills\n",
      "Jets\n"
     ]
    }
   ],
   "source": [
    "#Unpacking\n",
    "(NewEngland,Miami,Buffalo,NewYork) = afc_east_team_names\n",
    "print(NewEngland)\n",
    "print(Miami)\n",
    "print(Buffalo)\n",
    "print(NewYork)\n"
   ]
  },
  {
   "cell_type": "markdown",
   "id": "8c900f71",
   "metadata": {},
   "source": [
    "### Tuple Methods"
   ]
  },
  {
   "cell_type": "markdown",
   "id": "3abfdd03",
   "metadata": {},
   "source": [
    "Count instances of the occurence of a specified value just like with lists!"
   ]
  },
  {
   "cell_type": "code",
   "execution_count": 31,
   "id": "e1ee4fc1",
   "metadata": {},
   "outputs": [
    {
     "data": {
      "text/plain": [
       "1"
      ]
     },
     "execution_count": 31,
     "metadata": {},
     "output_type": "execute_result"
    }
   ],
   "source": [
    "#tuple.count() Similar to list.count() \n",
    "afc_east_team_names.count('Patriots')"
   ]
  },
  {
   "cell_type": "markdown",
   "id": "58bc57a7",
   "metadata": {},
   "source": [
    "Have a long tuple? Search where a specified value occurs in the tuple. Remember, the index starts at 0 not 1"
   ]
  },
  {
   "cell_type": "code",
   "execution_count": 32,
   "id": "ca8e09a0",
   "metadata": {},
   "outputs": [
    {
     "data": {
      "text/plain": [
       "3"
      ]
     },
     "execution_count": 32,
     "metadata": {},
     "output_type": "execute_result"
    }
   ],
   "source": [
    "#tuple.index() \n",
    "afc_east_team_names.index('Jets')"
   ]
  },
  {
   "cell_type": "markdown",
   "id": "e55e3739",
   "metadata": {},
   "source": [
    "# Dictionaries"
   ]
  },
  {
   "cell_type": "markdown",
   "id": "9be92694",
   "metadata": {},
   "source": [
    "Dictionaries store information in key:value pairs. This means for each entry there is a \"key\" which is typically similar to a column head or some other descriptor of the data category. The corresponding \"value\" is the value assigned to that key for a given dictionary.\n",
    "\n",
    "Now, what's a sports related use case? There are many!\n",
    "\n",
    "Say for a given NBA game, we want a dictionary for each player's stats. What would this look like? (We will start with two players)"
   ]
  },
  {
   "cell_type": "code",
   "execution_count": null,
   "id": "6c8b0261",
   "metadata": {},
   "outputs": [],
   "source": [
    "kevin_durant_box_score={\n",
    "    player = 'Kevin Durant',\n",
    "    points = 38,\n",
    "    assists = 6,\n",
    "    rebounds = 12,\n",
    "    blocks = 2,\n",
    "    steals = 0,\n",
    "    minutes_played = 37\n",
    "}"
   ]
  }
 ],
 "metadata": {
  "kernelspec": {
   "display_name": "Python 3 (ipykernel)",
   "language": "python",
   "name": "python3"
  },
  "language_info": {
   "codemirror_mode": {
    "name": "ipython",
    "version": 3
   },
   "file_extension": ".py",
   "mimetype": "text/x-python",
   "name": "python",
   "nbconvert_exporter": "python",
   "pygments_lexer": "ipython3",
   "version": "3.9.13"
  }
 },
 "nbformat": 4,
 "nbformat_minor": 5
}
