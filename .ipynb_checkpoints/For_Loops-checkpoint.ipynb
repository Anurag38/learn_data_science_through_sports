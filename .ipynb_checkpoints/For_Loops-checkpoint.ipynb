{
 "cells": [
  {
   "cell_type": "markdown",
   "id": "0d9af3b8",
   "metadata": {},
   "source": [
    "# For Loops in Python"
   ]
  },
  {
   "cell_type": "markdown",
   "id": "d2e397ff",
   "metadata": {},
   "source": [
    "### In Python, a for loop is essentially an iterator and can iterate over lists, tuples, dictionaries, sets, or a string."
   ]
  },
  {
   "cell_type": "markdown",
   "id": "7502e3c9",
   "metadata": {},
   "source": [
    "It's the trade deadline and you were sent a group of players that are available for trade and you received it in a list format. You want to simply extract their names and print them out one by one to make it more readable for your GM."
   ]
  },
  {
   "cell_type": "code",
   "execution_count": 1,
   "id": "06d7337f",
   "metadata": {},
   "outputs": [],
   "source": [
    "trading_block = ['Damian Lillard','Draymond Green','Lonzo Ball','Brandon Ingram','Brook Lopez']"
   ]
  },
  {
   "cell_type": "markdown",
   "id": "f550b871",
   "metadata": {},
   "source": [
    "This would be particularly more useful if the list was larger, but here we go!"
   ]
  },
  {
   "cell_type": "code",
   "execution_count": 2,
   "id": "cd4e77cb",
   "metadata": {},
   "outputs": [
    {
     "name": "stdout",
     "output_type": "stream",
     "text": [
      "Damian Lillard\n",
      "Draymond Green\n",
      "Lonzo Ball\n",
      "Brandon Ingram\n",
      "Brook Lopez\n"
     ]
    }
   ],
   "source": [
    "for x in trading_block:\n",
    "    print(x)"
   ]
  },
  {
   "cell_type": "markdown",
   "id": "22f634c6",
   "metadata": {},
   "source": [
    "The \"x\" here can pretty much be whatever you want. x is a commonly used variable. I like to use something a little more descriptive and applicable to the loop. The example below functions exactly the same."
   ]
  },
  {
   "cell_type": "code",
   "execution_count": 4,
   "id": "056bd68d",
   "metadata": {},
   "outputs": [
    {
     "name": "stdout",
     "output_type": "stream",
     "text": [
      "Damian Lillard\n",
      "Draymond Green\n",
      "Lonzo Ball\n",
      "Brandon Ingram\n",
      "Brook Lopez\n"
     ]
    }
   ],
   "source": [
    "for player in trading_block:\n",
    "    print(player)"
   ]
  },
  {
   "cell_type": "markdown",
   "id": "73d2097e",
   "metadata": {},
   "source": [
    "## Append to a list using a for loop"
   ]
  },
  {
   "cell_type": "markdown",
   "id": "0471862e",
   "metadata": {},
   "source": [
    "A common use of a for loop is to add items to a list from another object. Say we have rushing yards recorded for the first 6 games of the season in a list. We then get rushing yards for the remaining 11 games in a separate list and we want to combine them."
   ]
  },
  {
   "cell_type": "code",
   "execution_count": 6,
   "id": "cf67e90f",
   "metadata": {},
   "outputs": [
    {
     "data": {
      "text/plain": [
       "[109, 68, 88, 46, 158, 96, 84, 54, 90, 102, 126, 68, 83, 185, 28, 56, 77]"
      ]
     },
     "execution_count": 6,
     "metadata": {},
     "output_type": "execute_result"
    }
   ],
   "source": [
    "rushing_yards = [109,68,88,46,158,96]\n",
    "rushing_yards_last_eleven = [84,54,90,102,126,68,83,185,28,56,77]\n",
    "\n",
    "# Let's combine them using a for loop\n",
    "\n",
    "for game in rushing_yards_last_eleven:\n",
    "    rushing_yards.append(game)\n",
    "    \n",
    "rushing_yards"
   ]
  },
  {
   "cell_type": "markdown",
   "id": "af79580f",
   "metadata": {},
   "source": [
    "## Apply some arithmetic to multiple items using a for loop"
   ]
  },
  {
   "cell_type": "markdown",
   "id": "36455ff2",
   "metadata": {},
   "source": [
    "Let's say we now have that list of all 17 games and their corresponding rushing yards. We now want to calculate average yards per quarter for each game. To do this mathematically, all we have to do is \"Rushing Yards\"/4. However, we don't want to do this manually for every game!"
   ]
  },
  {
   "cell_type": "code",
   "execution_count": 7,
   "id": "c3704e65",
   "metadata": {},
   "outputs": [
    {
     "data": {
      "text/plain": [
       "[27.25,\n",
       " 17.0,\n",
       " 22.0,\n",
       " 11.5,\n",
       " 39.5,\n",
       " 24.0,\n",
       " 21.0,\n",
       " 13.5,\n",
       " 22.5,\n",
       " 25.5,\n",
       " 31.5,\n",
       " 17.0,\n",
       " 20.75,\n",
       " 46.25,\n",
       " 7.0,\n",
       " 14.0,\n",
       " 19.25]"
      ]
     },
     "execution_count": 7,
     "metadata": {},
     "output_type": "execute_result"
    }
   ],
   "source": [
    "per_quarter=[] #start with empty list\n",
    "for game in rushing_yards:\n",
    "    per_quarter.append(game/4)\n",
    "per_quarter"
   ]
  },
  {
   "cell_type": "markdown",
   "id": "91fa5306",
   "metadata": {},
   "source": [
    "The capabilities of a For loop are significantly greater than what is shown in these examples and we will get into more complicated uses further in the curriculum!"
   ]
  },
  {
   "cell_type": "code",
   "execution_count": null,
   "id": "01b4f2bb",
   "metadata": {},
   "outputs": [],
   "source": []
  }
 ],
 "metadata": {
  "kernelspec": {
   "display_name": "Python 3 (ipykernel)",
   "language": "python",
   "name": "python3"
  },
  "language_info": {
   "codemirror_mode": {
    "name": "ipython",
    "version": 3
   },
   "file_extension": ".py",
   "mimetype": "text/x-python",
   "name": "python",
   "nbconvert_exporter": "python",
   "pygments_lexer": "ipython3",
   "version": "3.9.13"
  }
 },
 "nbformat": 4,
 "nbformat_minor": 5
}
