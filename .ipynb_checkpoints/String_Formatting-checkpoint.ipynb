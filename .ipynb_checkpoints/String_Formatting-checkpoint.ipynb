{
 "cells": [
  {
   "cell_type": "markdown",
   "id": "37771d48",
   "metadata": {},
   "source": [
    "# String Formatting"
   ]
  },
  {
   "cell_type": "markdown",
   "id": "f9f66170",
   "metadata": {},
   "source": [
    "In Python, there are a few different ways to format strings. To explain simply, a formatted string allows you to include a custom or created python variable into a predefined text. There are numerous cases where this is useful and efficient."
   ]
  },
  {
   "cell_type": "markdown",
   "id": "a48218d5",
   "metadata": {},
   "source": [
    "## My favorite string formatting method, the f-string"
   ]
  },
  {
   "cell_type": "markdown",
   "id": "b961a7b8",
   "metadata": {},
   "source": [
    "A statistic that has recently become popular in the NBA is points+assists+rebounds (pts/reb/ast). We are given a player's stats for a given night as three separate variables and we want to write a simple print function that expresses this statistic without multiple steps."
   ]
  },
  {
   "cell_type": "code",
   "execution_count": 1,
   "id": "25ff6b71",
   "metadata": {},
   "outputs": [],
   "source": [
    "player = 'Kevin Durant'\n",
    "points = 38\n",
    "rebounds = 18\n",
    "assists = 6"
   ]
  },
  {
   "cell_type": "markdown",
   "id": "89967ef6",
   "metadata": {},
   "source": [
    "Let's express what we want in one line of code!"
   ]
  },
  {
   "cell_type": "code",
   "execution_count": 3,
   "id": "25495de3",
   "metadata": {},
   "outputs": [
    {
     "data": {
      "text/plain": [
       "'Player: Kevin Durant pts/reb/ast: 62'"
      ]
     },
     "execution_count": 3,
     "metadata": {},
     "output_type": "execute_result"
    }
   ],
   "source": [
    "f\"Player: {player} pts/reb/ast: {points+rebounds+assists}\""
   ]
  },
  {
   "cell_type": "markdown",
   "id": "8d789414",
   "metadata": {},
   "source": [
    "As you can see, using the notation f\" dicates an f-string! In those f-strings you can write a string as you normally would but you can call other Python variables into them denoting them with {}. You can also see that you can perform arithmetic operations without pre-calculating the result!"
   ]
  },
  {
   "cell_type": "markdown",
   "id": "0449d002",
   "metadata": {},
   "source": [
    "### Let's combine an f-string with our knowledge of functions!"
   ]
  },
  {
   "cell_type": "markdown",
   "id": "e0f54427",
   "metadata": {},
   "source": [
    "We are going to be receiving player's stats in this format a lot going forward. We want to create a function that outputs that f-string without us having to recreate it."
   ]
  },
  {
   "cell_type": "code",
   "execution_count": 4,
   "id": "882b3fca",
   "metadata": {},
   "outputs": [],
   "source": [
    "def pts_reb_ast(player,points,rebounds,assists):\n",
    "    print(f\"Player: {player} pts/reb/ast: {points+rebounds+assists}\")"
   ]
  },
  {
   "cell_type": "markdown",
   "id": "353bf3cb",
   "metadata": {},
   "source": [
    "You can now call this function, input those 4 arguments, and bam! You get your output string."
   ]
  },
  {
   "cell_type": "code",
   "execution_count": 6,
   "id": "2544a6c6",
   "metadata": {},
   "outputs": [
    {
     "name": "stdout",
     "output_type": "stream",
     "text": [
      "Player: Kevin Durant pts/reb/ast: 62\n"
     ]
    }
   ],
   "source": [
    "# Let's bring this back down here for simplicity\n",
    "player = 'Kevin Durant'\n",
    "points = 38\n",
    "rebounds = 18\n",
    "assists = 6\n",
    "\n",
    "pts_reb_ast(player,points,rebounds,assists)"
   ]
  },
  {
   "cell_type": "markdown",
   "id": "600fc558",
   "metadata": {},
   "source": [
    "Why is this useful? Say we have 3 player's stats for a given night..."
   ]
  },
  {
   "cell_type": "markdown",
   "id": "7ea772ef",
   "metadata": {},
   "source": [
    "## Let's combine f-strings, dictionaries, functions, and for loops!"
   ]
  },
  {
   "cell_type": "code",
   "execution_count": 8,
   "id": "937ffaef",
   "metadata": {},
   "outputs": [],
   "source": [
    "players = ['Kevin Durant','Tyler Herro','Paul George']\n",
    "points = [38,24,44]\n",
    "rebounds = [18,3,12]\n",
    "assists = [6,4,4]"
   ]
  },
  {
   "cell_type": "markdown",
   "id": "197ba145",
   "metadata": {},
   "source": [
    "### And I am going to introduce you to DataFrames!"
   ]
  },
  {
   "cell_type": "markdown",
   "id": "bfcf8310",
   "metadata": {},
   "source": [
    "A dataframe in python is most easily described as a tabular data store. It contains labeled rows and columns.\n",
    "\n",
    "DataFrames are very useful for data storage, extraction, manipulation, etc"
   ]
  },
  {
   "cell_type": "code",
   "execution_count": 12,
   "id": "b27e2c8c",
   "metadata": {},
   "outputs": [
    {
     "data": {
      "text/plain": [
       "{'player': ['Kevin Durant', 'Tyler Herro', 'Paul George'],\n",
       " 'points': [38, 24, 44],\n",
       " 'rebounds': [18, 3, 12],\n",
       " 'assists': [6, 4, 4]}"
      ]
     },
     "execution_count": 12,
     "metadata": {},
     "output_type": "execute_result"
    }
   ],
   "source": [
    "#Let's create our dataframe with the above lists\n",
    "# Let's first create a dictionary from our lists\n",
    "stats_dict = {'player': players, 'points': points,'rebounds': rebounds, 'assists': assists}\n",
    "stats_dict"
   ]
  },
  {
   "cell_type": "code",
   "execution_count": 14,
   "id": "0b24f84b",
   "metadata": {},
   "outputs": [
    {
     "data": {
      "text/html": [
       "<div>\n",
       "<style scoped>\n",
       "    .dataframe tbody tr th:only-of-type {\n",
       "        vertical-align: middle;\n",
       "    }\n",
       "\n",
       "    .dataframe tbody tr th {\n",
       "        vertical-align: top;\n",
       "    }\n",
       "\n",
       "    .dataframe thead th {\n",
       "        text-align: right;\n",
       "    }\n",
       "</style>\n",
       "<table border=\"1\" class=\"dataframe\">\n",
       "  <thead>\n",
       "    <tr style=\"text-align: right;\">\n",
       "      <th></th>\n",
       "      <th>player</th>\n",
       "      <th>points</th>\n",
       "      <th>rebounds</th>\n",
       "      <th>assists</th>\n",
       "    </tr>\n",
       "  </thead>\n",
       "  <tbody>\n",
       "    <tr>\n",
       "      <th>0</th>\n",
       "      <td>Kevin Durant</td>\n",
       "      <td>38</td>\n",
       "      <td>18</td>\n",
       "      <td>6</td>\n",
       "    </tr>\n",
       "    <tr>\n",
       "      <th>1</th>\n",
       "      <td>Tyler Herro</td>\n",
       "      <td>24</td>\n",
       "      <td>3</td>\n",
       "      <td>4</td>\n",
       "    </tr>\n",
       "    <tr>\n",
       "      <th>2</th>\n",
       "      <td>Paul George</td>\n",
       "      <td>44</td>\n",
       "      <td>12</td>\n",
       "      <td>4</td>\n",
       "    </tr>\n",
       "  </tbody>\n",
       "</table>\n",
       "</div>"
      ],
      "text/plain": [
       "         player  points  rebounds  assists\n",
       "0  Kevin Durant      38        18        6\n",
       "1   Tyler Herro      24         3        4\n",
       "2   Paul George      44        12        4"
      ]
     },
     "execution_count": 14,
     "metadata": {},
     "output_type": "execute_result"
    }
   ],
   "source": [
    "import pandas as pd #Needed for DataFrames\n",
    "\n",
    "dataframe = pd.DataFrame(stats_dict)\n",
    "dataframe"
   ]
  },
  {
   "cell_type": "markdown",
   "id": "ce2ac3e0",
   "metadata": {},
   "source": [
    "A thing of beauty! And also extremely useful. Now back to our function and using it inside a for loop. An extremely useful DataFrame function is DataFrame.iterrows() which allows you to iterate over rows in a dataframe. Let's see how this will help us in our problem here."
   ]
  },
  {
   "cell_type": "code",
   "execution_count": 18,
   "id": "f5c66e77",
   "metadata": {},
   "outputs": [
    {
     "name": "stdout",
     "output_type": "stream",
     "text": [
      "Player: Kevin Durant pts/reb/ast: 62\n",
      "Player: Tyler Herro pts/reb/ast: 31\n",
      "Player: Paul George pts/reb/ast: 60\n"
     ]
    }
   ],
   "source": [
    "for index, row in dataframe.iterrows():\n",
    "    pts_reb_ast(row['player'],row['points'],row['rebounds'],row['assists'])"
   ]
  },
  {
   "cell_type": "markdown",
   "id": "cd09074a",
   "metadata": {},
   "source": [
    "As you can see in the function arguments, the way to iterate over each row is to use the \"row\" keyword followed by the column name you wish to include."
   ]
  },
  {
   "cell_type": "markdown",
   "id": "dca2cbbc",
   "metadata": {},
   "source": [
    "# Other String formatting methods"
   ]
  },
  {
   "cell_type": "markdown",
   "id": "0946fd07",
   "metadata": {},
   "source": [
    "## Oldest style: % Operator "
   ]
  },
  {
   "cell_type": "markdown",
   "id": "d9dff9c3",
   "metadata": {},
   "source": [
    "I will recreate the same original f-string example using these other methods"
   ]
  },
  {
   "cell_type": "code",
   "execution_count": 30,
   "id": "f2f39898",
   "metadata": {},
   "outputs": [],
   "source": [
    "player = 'Kevin Durant'\n",
    "points = 38\n",
    "rebounds = 18\n",
    "assists = 6"
   ]
  },
  {
   "cell_type": "code",
   "execution_count": 34,
   "id": "6a409f03",
   "metadata": {},
   "outputs": [
    {
     "data": {
      "text/plain": [
       "'Player: Kevin Durant pts/reb/ast 62'"
      ]
     },
     "execution_count": 34,
     "metadata": {},
     "output_type": "execute_result"
    }
   ],
   "source": [
    "'Player: %s pts/reb/ast %s' % (player,points+rebounds+assists)"
   ]
  },
  {
   "cell_type": "markdown",
   "id": "d9cfc822",
   "metadata": {},
   "source": [
    "## \"Newer Style\" before f-strings: The str.format"
   ]
  },
  {
   "cell_type": "code",
   "execution_count": 35,
   "id": "d39ed156",
   "metadata": {},
   "outputs": [],
   "source": [
    "player = 'Kevin Durant'\n",
    "points = 38\n",
    "rebounds = 18\n",
    "assists = 6"
   ]
  },
  {
   "cell_type": "code",
   "execution_count": 38,
   "id": "8f31ace7",
   "metadata": {},
   "outputs": [
    {
     "data": {
      "text/plain": [
       "'Player: Kevin Durant pts/reb/ast: 62'"
      ]
     },
     "execution_count": 38,
     "metadata": {},
     "output_type": "execute_result"
    }
   ],
   "source": [
    "'Player: {player} pts/reb/ast: {pts_reb_ast}'.format(player=player,pts_reb_ast=points+rebounds+assists)"
   ]
  },
  {
   "cell_type": "markdown",
   "id": "9a78576c",
   "metadata": {},
   "source": [
    "These methods are personal preference for the most part but there are definitely cases where one is better than the others! You will learn with time which you prefer for different use cases."
   ]
  },
  {
   "cell_type": "code",
   "execution_count": null,
   "id": "e0242200",
   "metadata": {},
   "outputs": [],
   "source": []
  }
 ],
 "metadata": {
  "kernelspec": {
   "display_name": "Python 3 (ipykernel)",
   "language": "python",
   "name": "python3"
  },
  "language_info": {
   "codemirror_mode": {
    "name": "ipython",
    "version": 3
   },
   "file_extension": ".py",
   "mimetype": "text/x-python",
   "name": "python",
   "nbconvert_exporter": "python",
   "pygments_lexer": "ipython3",
   "version": "3.9.13"
  }
 },
 "nbformat": 4,
 "nbformat_minor": 5
}
