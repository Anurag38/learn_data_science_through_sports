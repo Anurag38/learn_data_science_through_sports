{
 "cells": [
  {
   "cell_type": "markdown",
   "id": "8e85f6cf",
   "metadata": {},
   "source": [
    "# Rookie Final Challenge"
   ]
  },
  {
   "cell_type": "markdown",
   "id": "e781f72b",
   "metadata": {},
   "source": [
    "We now have a good amount of knowledge in our Python toolbox! Let's do one more challenge to finish off your rookie campaign. "
   ]
  },
  {
   "cell_type": "markdown",
   "id": "9ba158dc",
   "metadata": {},
   "source": [
    "As with all challenges, I recommend reading the problem statement, due some brainstorming, attempt each step by yourself, and use the Solutions provided here as a guide and check against your work"
   ]
  },
  {
   "cell_type": "markdown",
   "id": "4bb9a9df",
   "metadata": {},
   "source": [
    "## Problem Statement"
   ]
  },
  {
   "cell_type": "markdown",
   "id": "32ca601e",
   "metadata": {},
   "source": [
    "You have the roster of the 2022 New York Yankees along with several statistics for each player. These are provided in individual lists you will have to combine into a dataframe. First, create a function that prints out a string with each player's name and their corresponding batting average. Then, create a plot showing the relationship between player batting average and runs scored by that player."
   ]
  },
  {
   "cell_type": "code",
   "execution_count": 2,
   "id": "820abd4a",
   "metadata": {},
   "outputs": [],
   "source": [
    "players = ['Jose Travino','Anthony Rizzo','Gleyber Torres','Isiah Kiner-Falefa','Josh Donaldson','Aaron Hicks','Aaron Judge','Joey Gallo','Giancarlo Stanton']\n",
    "batting_averages = [.248,.224,.257,.261,.222,.216,.311,.159,.211]\n",
    "runs_scored = [39,77,73,66,59,54,133,32,53]"
   ]
  },
  {
   "cell_type": "markdown",
   "id": "dd0a0750",
   "metadata": {},
   "source": [
    "STOP HERE AND TRY FOR YOURSELF!"
   ]
  },
  {
   "cell_type": "markdown",
   "id": "dd7fae57",
   "metadata": {},
   "source": [
    "### Imports"
   ]
  },
  {
   "cell_type": "code",
   "execution_count": 11,
   "id": "0eb1a457",
   "metadata": {},
   "outputs": [],
   "source": [
    "import pandas as pd\n",
    "import numpy as np\n",
    "import matplotlib\n",
    "from matplotlib import pyplot as plt"
   ]
  },
  {
   "cell_type": "markdown",
   "id": "179d58ef",
   "metadata": {},
   "source": [
    "### Create dictionary and dataframe from the data"
   ]
  },
  {
   "cell_type": "code",
   "execution_count": 12,
   "id": "d4518148",
   "metadata": {},
   "outputs": [
    {
     "data": {
      "text/html": [
       "<div>\n",
       "<style scoped>\n",
       "    .dataframe tbody tr th:only-of-type {\n",
       "        vertical-align: middle;\n",
       "    }\n",
       "\n",
       "    .dataframe tbody tr th {\n",
       "        vertical-align: top;\n",
       "    }\n",
       "\n",
       "    .dataframe thead th {\n",
       "        text-align: right;\n",
       "    }\n",
       "</style>\n",
       "<table border=\"1\" class=\"dataframe\">\n",
       "  <thead>\n",
       "    <tr style=\"text-align: right;\">\n",
       "      <th></th>\n",
       "      <th>player</th>\n",
       "      <th>batting_average</th>\n",
       "      <th>runs</th>\n",
       "    </tr>\n",
       "  </thead>\n",
       "  <tbody>\n",
       "    <tr>\n",
       "      <th>0</th>\n",
       "      <td>Jose Travino</td>\n",
       "      <td>0.248</td>\n",
       "      <td>39</td>\n",
       "    </tr>\n",
       "    <tr>\n",
       "      <th>1</th>\n",
       "      <td>Anthony Rizzo</td>\n",
       "      <td>0.224</td>\n",
       "      <td>77</td>\n",
       "    </tr>\n",
       "    <tr>\n",
       "      <th>2</th>\n",
       "      <td>Gleyber Torres</td>\n",
       "      <td>0.257</td>\n",
       "      <td>73</td>\n",
       "    </tr>\n",
       "    <tr>\n",
       "      <th>3</th>\n",
       "      <td>Isiah Kiner-Falefa</td>\n",
       "      <td>0.261</td>\n",
       "      <td>66</td>\n",
       "    </tr>\n",
       "    <tr>\n",
       "      <th>4</th>\n",
       "      <td>Josh Donaldson</td>\n",
       "      <td>0.222</td>\n",
       "      <td>59</td>\n",
       "    </tr>\n",
       "    <tr>\n",
       "      <th>5</th>\n",
       "      <td>Aaron Hicks</td>\n",
       "      <td>0.216</td>\n",
       "      <td>54</td>\n",
       "    </tr>\n",
       "    <tr>\n",
       "      <th>6</th>\n",
       "      <td>Aaron Judge</td>\n",
       "      <td>0.311</td>\n",
       "      <td>133</td>\n",
       "    </tr>\n",
       "    <tr>\n",
       "      <th>7</th>\n",
       "      <td>Joey Gallo</td>\n",
       "      <td>0.159</td>\n",
       "      <td>32</td>\n",
       "    </tr>\n",
       "    <tr>\n",
       "      <th>8</th>\n",
       "      <td>Giancarlo Stanton</td>\n",
       "      <td>0.211</td>\n",
       "      <td>53</td>\n",
       "    </tr>\n",
       "  </tbody>\n",
       "</table>\n",
       "</div>"
      ],
      "text/plain": [
       "               player  batting_average  runs\n",
       "0        Jose Travino            0.248    39\n",
       "1       Anthony Rizzo            0.224    77\n",
       "2      Gleyber Torres            0.257    73\n",
       "3  Isiah Kiner-Falefa            0.261    66\n",
       "4      Josh Donaldson            0.222    59\n",
       "5         Aaron Hicks            0.216    54\n",
       "6         Aaron Judge            0.311   133\n",
       "7          Joey Gallo            0.159    32\n",
       "8   Giancarlo Stanton            0.211    53"
      ]
     },
     "execution_count": 12,
     "metadata": {},
     "output_type": "execute_result"
    }
   ],
   "source": [
    "nyy_dict = {'player': players, 'batting_average': batting_averages, 'runs': runs_scored}\n",
    "dataframe = pd.DataFrame(nyy_dict)\n",
    "dataframe"
   ]
  },
  {
   "cell_type": "markdown",
   "id": "fa83ea37",
   "metadata": {},
   "source": [
    "### Create a string generating function"
   ]
  },
  {
   "cell_type": "code",
   "execution_count": 13,
   "id": "a5136342",
   "metadata": {},
   "outputs": [],
   "source": [
    "def nyy_ba(player,batting_average):\n",
    "    print(f\"Player: {player} | Batting Average: {batting_average}\")"
   ]
  },
  {
   "cell_type": "markdown",
   "id": "d4f1d7e4",
   "metadata": {},
   "source": [
    "Our trusty for loop!"
   ]
  },
  {
   "cell_type": "code",
   "execution_count": 14,
   "id": "b1a426b0",
   "metadata": {},
   "outputs": [
    {
     "name": "stdout",
     "output_type": "stream",
     "text": [
      "Player: Jose Travino | Batting Average: 0.248\n",
      "Player: Anthony Rizzo | Batting Average: 0.224\n",
      "Player: Gleyber Torres | Batting Average: 0.257\n",
      "Player: Isiah Kiner-Falefa | Batting Average: 0.261\n",
      "Player: Josh Donaldson | Batting Average: 0.222\n",
      "Player: Aaron Hicks | Batting Average: 0.216\n",
      "Player: Aaron Judge | Batting Average: 0.311\n",
      "Player: Joey Gallo | Batting Average: 0.159\n",
      "Player: Giancarlo Stanton | Batting Average: 0.211\n"
     ]
    }
   ],
   "source": [
    "for index, row in dataframe.iterrows():\n",
    "    nyy_ba(row['player'],row['batting_average'])"
   ]
  },
  {
   "cell_type": "markdown",
   "id": "dc9ba126",
   "metadata": {},
   "source": [
    "## Let's Visualize the relationship between batting average and runs scored"
   ]
  },
  {
   "cell_type": "markdown",
   "id": "bac0b1e8",
   "metadata": {},
   "source": [
    "Let's see what the trend looks like between these two variables, create axis labels and a title"
   ]
  },
  {
   "cell_type": "code",
   "execution_count": 18,
   "id": "0f2bf5b1",
   "metadata": {},
   "outputs": [
    {
     "data": {
      "image/png": "[encoded data removed]",
      "text/plain": [
       "<Figure size 640x480 with 1 Axes>"
      ]
     },
     "metadata": {},
     "output_type": "display_data"
    }
   ],
   "source": [
    "plt.scatter(batting_averages, runs_scored)\n",
    "\n",
    "z = np.polyfit(batting_averages, runs_scored, 1)\n",
    "p = np.poly1d(z)\n",
    "plt.plot(batting_averages,p(batting_averages),\"r--\")\n",
    "\n",
    "plt.title(\"Runs Scored versus Batting Average by Player\")\n",
    "plt.xlabel(\"Batting Average\")\n",
    "plt.ylabel(\"Runs Scored\")\n",
    "\n",
    "plt.show()"
   ]
  },
  {
   "cell_type": "markdown",
   "id": "255e603f",
   "metadata": {},
   "source": [
    "Using this simple methodology, we can see there is a positive correlation between Batting Average and Runs scored. Now let's move on to some real fun!"
   ]
  },
  {
   "cell_type": "code",
   "execution_count": null,
   "id": "704fcb6c",
   "metadata": {},
   "outputs": [],
   "source": []
  }
 ],
 "metadata": {
  "kernelspec": {
   "display_name": "Python 3 (ipykernel)",
   "language": "python",
   "name": "python3"
  },
  "language_info": {
   "codemirror_mode": {
    "name": "ipython",
    "version": 3
   },
   "file_extension": ".py",
   "mimetype": "text/x-python",
   "name": "python",
   "nbconvert_exporter": "python",
   "pygments_lexer": "ipython3",
   "version": "3.9.13"
  }
 },
 "nbformat": 4,
 "nbformat_minor": 5
}
