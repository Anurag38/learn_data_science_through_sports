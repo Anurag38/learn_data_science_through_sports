{
 "cells": [
  {
   "cell_type": "code",
   "execution_count": 53,
   "id": "04efced4",
   "metadata": {},
   "outputs": [],
   "source": [
    "import pandas as pd\n",
    "import numpy as np\n",
    "import requests\n",
    "import string\n",
    "from bs4 import BeautifulSoup\n",
    "import sportsdataverse\n",
    "from urllib.request import urlopen\n",
    "from itertools import product\n",
    "from string import ascii_lowercase\n",
    "import gc\n",
    "from time import sleep"
   ]
  },
  {
   "cell_type": "code",
   "execution_count": 35,
   "id": "5febe3f2",
   "metadata": {},
   "outputs": [],
   "source": [
    "# df = pd.read_csv('Aurls.csv')\n",
    "# df"
   ]
  },
  {
   "cell_type": "code",
   "execution_count": null,
   "id": "a343189a",
   "metadata": {},
   "outputs": [],
   "source": [
    "first_list = df['0'][461034:461036].values"
   ]
  },
  {
   "cell_type": "code",
   "execution_count": 5,
   "id": "32437f55",
   "metadata": {},
   "outputs": [],
   "source": [
    "\n",
    "def wAV_extract(url):\n",
    "        df2 = pd.DataFrame(None, columns =('name','wAV'))\n",
    "        html = urlopen(url)\n",
    "        stats_page = BeautifulSoup(html)\n",
    "        playerName = stats_page.h1.get_text()\n",
    "        playerName = playerName.strip()\n",
    "        wAV = stats_page(text=lambda t: \"since 1960\" in t.text)\n",
    "        wAV = str(wAV)\n",
    "        wAV = wAV.split()[1]\n",
    "        stats = {\"name\" :playerName, \"wAV\" : wAV}\n",
    "        df2 = df2.append(stats, ignore_index=True)\n",
    "        df2.to_csv('playerswAV.csv', mode='a', header=False)\n",
    "        print(df2)\n"
   ]
  },
  {
   "cell_type": "code",
   "execution_count": null,
   "id": "acb36dc4",
   "metadata": {},
   "outputs": [],
   "source": [
    "wAV_extract('https://www.pro-football-reference.com/players/B/BailDa00.htm')"
   ]
  },
  {
   "cell_type": "code",
   "execution_count": null,
   "id": "12f28840",
   "metadata": {},
   "outputs": [],
   "source": [
    "first_list[0]"
   ]
  },
  {
   "cell_type": "code",
   "execution_count": null,
   "id": "6352b446",
   "metadata": {},
   "outputs": [],
   "source": [
    "for x in first_list:\n",
    "    wAV_extract(x)"
   ]
  },
  {
   "cell_type": "code",
   "execution_count": null,
   "id": "bc1932ca",
   "metadata": {},
   "outputs": [],
   "source": [
    "https://www.pro-football-reference.com/players/A/AaitIs00.htm"
   ]
  },
  {
   "cell_type": "code",
   "execution_count": null,
   "id": "4ca8dfac",
   "metadata": {},
   "outputs": [],
   "source": []
  },
  {
   "cell_type": "code",
   "execution_count": null,
   "id": "bacf26b9",
   "metadata": {},
   "outputs": [],
   "source": []
  },
  {
   "cell_type": "code",
   "execution_count": 74,
   "id": "111fcf83",
   "metadata": {},
   "outputs": [],
   "source": [
    "urls = ['https://www.pro-football-reference.com/players/Y/Ya-SRo00.htm',\n",
    "        'https://www.pro-football-reference.com/players/Y/YamiBa20.htm',\n",
    "        'https://www.pro-football-reference.com/players/Y/YandMa20.htm',\n",
    "        'https://www.pro-football-reference.com/players/Y/YankDa00.htm',\n",
    "        'https://www.pro-football-reference.com/players/Y/YarbEd01.htm',\n",
    "        'https://www.pro-football-reference.com/players/Y/YateBi20.htm',\n",
    "        'https://www.pro-football-reference.com/players/Y/YateMa20.htm',\n",
    "        'https://www.pro-football-reference.com/players/Y/YateT.00.htm',\n",
    "        'https://www.pro-football-reference.com/players/Y/YeatWi00.htm',\n",
    "        'https://www.pro-football-reference.com/players/Y/YeldDe00.htm',\n",
    "        'https://www.pro-football-reference.com/players/Y/YeldT.00.htm',\n",
    "        'https://www.pro-football-reference.com/players/Y/YiadIs00.htm',\n",
    "        'https://www.pro-football-reference.com/players/Y/YodeTo00.htm',\n",
    "        'https://www.pro-football-reference.com/players/Y/YoubAs20.htm',\n",
    "        'https://www.pro-football-reference.com/players/Y/YounAl01.htm',\n",
    "        'https://www.pro-football-reference.com/players/Y/YounBr20.htm',\n",
    "        'https://www.pro-football-reference.com/players/Y/YounCh20.htm',\n",
    "        'https://www.pro-football-reference.com/players/Y/YounDa01.htm',\n",
    "        'https://www.pro-football-reference.com/players/Y/YounDa20.htm',\n",
    "        'https://www.pro-football-reference.com/players/Y/YounKe03.htm',\n",
    "        'https://www.pro-football-reference.com/players/Y/YounLo00.htm',\n",
    "        'https://www.pro-football-reference.com/players/Y/YounMi20.htm',\n",
    "        'https://www.pro-football-reference.com/players/Y/YounSa21.htm',\n",
    "        'https://www.pro-football-reference.com/players/Y/YounSc20.htm',\n",
    "        'https://www.pro-football-reference.com/players/Y/YounSe00.htm',\n",
    "        'https://www.pro-football-reference.com/players/Y/YounTa01.htm',\n",
    "        'https://www.pro-football-reference.com/players/Y/YounTi00.htm',\n",
    "        'https://www.pro-football-reference.com/players/Y/YounTr00.htm',\n",
    "        'https://www.pro-football-reference.com/players/Y/YounUs99.htm',\n",
    "        'https://www.pro-football-reference.com/players/Y/YounVi00.htm',\n",
    "        'https://www.pro-football-reference.com/players/Y/YounWa00.htm',\n",
    "        'https://www.pro-football-reference.com/players/Y/YounWi99.htm',\n",
    "        'https://www.pro-football-reference.com/players/Y/YounKe00.htm',\n",
    "        'https://www.pro-football-reference.com/players/Y/YounCh02.htm',\n",
    "        'https://www.pro-football-reference.com/players/Y/YovaDa20.htm'\n",
    "        \n",
    "           \n",
    "        \n",
    "        \n",
    "       ]"
   ]
  },
  {
   "cell_type": "code",
   "execution_count": 75,
   "id": "7da3e5b0",
   "metadata": {},
   "outputs": [
    {
     "name": "stderr",
     "output_type": "stream",
     "text": [
      "C:\\Users\\antve\\AppData\\Local\\Temp\\ipykernel_31828\\2121620167.py:11: FutureWarning: The frame.append method is deprecated and will be removed from pandas in a future version. Use pandas.concat instead.\n",
      "  df2 = df2.append(stats, ignore_index=True)\n"
     ]
    },
    {
     "name": "stdout",
     "output_type": "stream",
     "text": [
      "          name wAV\n",
      "0  Rock Ya-Sin  13\n"
     ]
    },
    {
     "name": "stderr",
     "output_type": "stream",
     "text": [
      "C:\\Users\\antve\\AppData\\Local\\Temp\\ipykernel_31828\\2121620167.py:11: FutureWarning: The frame.append method is deprecated and will be removed from pandas in a future version. Use pandas.concat instead.\n",
      "  df2 = df2.append(stats, ignore_index=True)\n"
     ]
    },
    {
     "name": "stdout",
     "output_type": "stream",
     "text": [
      "            name wAV\n",
      "0  Bashir Yamini   0\n"
     ]
    },
    {
     "name": "stderr",
     "output_type": "stream",
     "text": [
      "C:\\Users\\antve\\AppData\\Local\\Temp\\ipykernel_31828\\2121620167.py:11: FutureWarning: The frame.append method is deprecated and will be removed from pandas in a future version. Use pandas.concat instead.\n",
      "  df2 = df2.append(stats, ignore_index=True)\n"
     ]
    },
    {
     "name": "stdout",
     "output_type": "stream",
     "text": [
      "            name wAV\n",
      "0  Marshal Yanda  92\n"
     ]
    },
    {
     "name": "stderr",
     "output_type": "stream",
     "text": [
      "C:\\Users\\antve\\AppData\\Local\\Temp\\ipykernel_31828\\2121620167.py:11: FutureWarning: The frame.append method is deprecated and will be removed from pandas in a future version. Use pandas.concat instead.\n",
      "  df2 = df2.append(stats, ignore_index=True)\n"
     ]
    },
    {
     "name": "stdout",
     "output_type": "stream",
     "text": [
      "           name wAV\n",
      "0  David Yankey   0\n"
     ]
    },
    {
     "name": "stderr",
     "output_type": "stream",
     "text": [
      "C:\\Users\\antve\\AppData\\Local\\Temp\\ipykernel_31828\\2121620167.py:11: FutureWarning: The frame.append method is deprecated and will be removed from pandas in a future version. Use pandas.concat instead.\n",
      "  df2 = df2.append(stats, ignore_index=True)\n"
     ]
    },
    {
     "name": "stdout",
     "output_type": "stream",
     "text": [
      "              name wAV\n",
      "0  Eddie Yarbrough   5\n"
     ]
    },
    {
     "name": "stderr",
     "output_type": "stream",
     "text": [
      "C:\\Users\\antve\\AppData\\Local\\Temp\\ipykernel_31828\\2121620167.py:11: FutureWarning: The frame.append method is deprecated and will be removed from pandas in a future version. Use pandas.concat instead.\n",
      "  df2 = df2.append(stats, ignore_index=True)\n"
     ]
    },
    {
     "name": "stdout",
     "output_type": "stream",
     "text": [
      "          name wAV\n",
      "0  Billy Yates   9\n"
     ]
    },
    {
     "name": "stderr",
     "output_type": "stream",
     "text": [
      "C:\\Users\\antve\\AppData\\Local\\Temp\\ipykernel_31828\\2121620167.py:11: FutureWarning: The frame.append method is deprecated and will be removed from pandas in a future version. Use pandas.concat instead.\n",
      "  df2 = df2.append(stats, ignore_index=True)\n"
     ]
    },
    {
     "name": "stdout",
     "output_type": "stream",
     "text": [
      "        name wAV\n",
      "0  Max Yates   0\n"
     ]
    },
    {
     "name": "stderr",
     "output_type": "stream",
     "text": [
      "C:\\Users\\antve\\AppData\\Local\\Temp\\ipykernel_31828\\2121620167.py:11: FutureWarning: The frame.append method is deprecated and will be removed from pandas in a future version. Use pandas.concat instead.\n",
      "  df2 = df2.append(stats, ignore_index=True)\n"
     ]
    },
    {
     "name": "stdout",
     "output_type": "stream",
     "text": [
      "         name wAV\n",
      "0  T.J. Yates   6\n"
     ]
    },
    {
     "name": "stderr",
     "output_type": "stream",
     "text": [
      "C:\\Users\\antve\\AppData\\Local\\Temp\\ipykernel_31828\\2121620167.py:11: FutureWarning: The frame.append method is deprecated and will be removed from pandas in a future version. Use pandas.concat instead.\n",
      "  df2 = df2.append(stats, ignore_index=True)\n"
     ]
    },
    {
     "name": "stdout",
     "output_type": "stream",
     "text": [
      "           name wAV\n",
      "0  Will Yeatman   1\n"
     ]
    },
    {
     "name": "stderr",
     "output_type": "stream",
     "text": [
      "C:\\Users\\antve\\AppData\\Local\\Temp\\ipykernel_31828\\2121620167.py:11: FutureWarning: The frame.append method is deprecated and will be removed from pandas in a future version. Use pandas.concat instead.\n",
      "  df2 = df2.append(stats, ignore_index=True)\n"
     ]
    },
    {
     "name": "stdout",
     "output_type": "stream",
     "text": [
      "          name wAV\n",
      "0  Deon Yelder   1\n"
     ]
    },
    {
     "name": "stderr",
     "output_type": "stream",
     "text": [
      "C:\\Users\\antve\\AppData\\Local\\Temp\\ipykernel_31828\\2121620167.py:11: FutureWarning: The frame.append method is deprecated and will be removed from pandas in a future version. Use pandas.concat instead.\n",
      "  df2 = df2.append(stats, ignore_index=True)\n"
     ]
    },
    {
     "name": "stdout",
     "output_type": "stream",
     "text": [
      "          name wAV\n",
      "0  T.J. Yeldon  20\n"
     ]
    },
    {
     "name": "stderr",
     "output_type": "stream",
     "text": [
      "C:\\Users\\antve\\AppData\\Local\\Temp\\ipykernel_31828\\2121620167.py:11: FutureWarning: The frame.append method is deprecated and will be removed from pandas in a future version. Use pandas.concat instead.\n",
      "  df2 = df2.append(stats, ignore_index=True)\n"
     ]
    },
    {
     "name": "stdout",
     "output_type": "stream",
     "text": [
      "           name wAV\n",
      "0  Isaac Yiadom  10\n"
     ]
    },
    {
     "name": "stderr",
     "output_type": "stream",
     "text": [
      "C:\\Users\\antve\\AppData\\Local\\Temp\\ipykernel_31828\\2121620167.py:11: FutureWarning: The frame.append method is deprecated and will be removed from pandas in a future version. Use pandas.concat instead.\n",
      "  df2 = df2.append(stats, ignore_index=True)\n"
     ]
    },
    {
     "name": "stdout",
     "output_type": "stream",
     "text": [
      "         name wAV\n",
      "0  Todd Yoder   3\n"
     ]
    },
    {
     "name": "stderr",
     "output_type": "stream",
     "text": [
      "C:\\Users\\antve\\AppData\\Local\\Temp\\ipykernel_31828\\2121620167.py:11: FutureWarning: The frame.append method is deprecated and will be removed from pandas in a future version. Use pandas.concat instead.\n",
      "  df2 = df2.append(stats, ignore_index=True)\n"
     ]
    },
    {
     "name": "stdout",
     "output_type": "stream",
     "text": [
      "             name wAV\n",
      "0  Ashton Youboty   8\n"
     ]
    },
    {
     "name": "stderr",
     "output_type": "stream",
     "text": [
      "C:\\Users\\antve\\AppData\\Local\\Temp\\ipykernel_31828\\2121620167.py:11: FutureWarning: The frame.append method is deprecated and will be removed from pandas in a future version. Use pandas.concat instead.\n",
      "  df2 = df2.append(stats, ignore_index=True)\n"
     ]
    },
    {
     "name": "stdout",
     "output_type": "stream",
     "text": [
      "           name wAV\n",
      "0  Albert Young   0\n"
     ]
    },
    {
     "name": "stderr",
     "output_type": "stream",
     "text": [
      "C:\\Users\\antve\\AppData\\Local\\Temp\\ipykernel_31828\\2121620167.py:11: FutureWarning: The frame.append method is deprecated and will be removed from pandas in a future version. Use pandas.concat instead.\n",
      "  df2 = df2.append(stats, ignore_index=True)\n"
     ]
    },
    {
     "name": "stdout",
     "output_type": "stream",
     "text": [
      "          name wAV\n",
      "0  Brian Young  39\n"
     ]
    },
    {
     "name": "stderr",
     "output_type": "stream",
     "text": [
      "C:\\Users\\antve\\AppData\\Local\\Temp\\ipykernel_31828\\2121620167.py:11: FutureWarning: The frame.append method is deprecated and will be removed from pandas in a future version. Use pandas.concat instead.\n",
      "  df2 = df2.append(stats, ignore_index=True)\n"
     ]
    },
    {
     "name": "stdout",
     "output_type": "stream",
     "text": [
      "          name wAV\n",
      "0  Chris Young   2\n"
     ]
    },
    {
     "name": "stderr",
     "output_type": "stream",
     "text": [
      "C:\\Users\\antve\\AppData\\Local\\Temp\\ipykernel_31828\\2121620167.py:11: FutureWarning: The frame.append method is deprecated and will be removed from pandas in a future version. Use pandas.concat instead.\n",
      "  df2 = df2.append(stats, ignore_index=True)\n"
     ]
    },
    {
     "name": "stdout",
     "output_type": "stream",
     "text": [
      "           name wAV\n",
      "0  Darrel Young   5\n"
     ]
    },
    {
     "name": "stderr",
     "output_type": "stream",
     "text": [
      "C:\\Users\\antve\\AppData\\Local\\Temp\\ipykernel_31828\\2121620167.py:11: FutureWarning: The frame.append method is deprecated and will be removed from pandas in a future version. Use pandas.concat instead.\n",
      "  df2 = df2.append(stats, ignore_index=True)\n"
     ]
    },
    {
     "name": "stdout",
     "output_type": "stream",
     "text": [
      "          name wAV\n",
      "0  David Young   0\n"
     ]
    },
    {
     "name": "stderr",
     "output_type": "stream",
     "text": [
      "C:\\Users\\antve\\AppData\\Local\\Temp\\ipykernel_31828\\2121620167.py:11: FutureWarning: The frame.append method is deprecated and will be removed from pandas in a future version. Use pandas.concat instead.\n",
      "  df2 = df2.append(stats, ignore_index=True)\n"
     ]
    },
    {
     "name": "stdout",
     "output_type": "stream",
     "text": [
      "          name wAV\n",
      "0  Kenny Young  18\n"
     ]
    },
    {
     "name": "stderr",
     "output_type": "stream",
     "text": [
      "C:\\Users\\antve\\AppData\\Local\\Temp\\ipykernel_31828\\2121620167.py:11: FutureWarning: The frame.append method is deprecated and will be removed from pandas in a future version. Use pandas.concat instead.\n",
      "  df2 = df2.append(stats, ignore_index=True)\n"
     ]
    },
    {
     "name": "stdout",
     "output_type": "stream",
     "text": [
      "        name wAV\n",
      "0  Lou Young   0\n"
     ]
    },
    {
     "name": "stderr",
     "output_type": "stream",
     "text": [
      "C:\\Users\\antve\\AppData\\Local\\Temp\\ipykernel_31828\\2121620167.py:11: FutureWarning: The frame.append method is deprecated and will be removed from pandas in a future version. Use pandas.concat instead.\n",
      "  df2 = df2.append(stats, ignore_index=True)\n"
     ]
    },
    {
     "name": "stdout",
     "output_type": "stream",
     "text": [
      "            name wAV\n",
      "0  Michael Young   2\n"
     ]
    },
    {
     "name": "stderr",
     "output_type": "stream",
     "text": [
      "C:\\Users\\antve\\AppData\\Local\\Temp\\ipykernel_31828\\2121620167.py:11: FutureWarning: The frame.append method is deprecated and will be removed from pandas in a future version. Use pandas.concat instead.\n",
      "  df2 = df2.append(stats, ignore_index=True)\n"
     ]
    },
    {
     "name": "stdout",
     "output_type": "stream",
     "text": [
      "        name wAV\n",
      "0  Sam Young  16\n"
     ]
    },
    {
     "name": "stderr",
     "output_type": "stream",
     "text": [
      "C:\\Users\\antve\\AppData\\Local\\Temp\\ipykernel_31828\\2121620167.py:11: FutureWarning: The frame.append method is deprecated and will be removed from pandas in a future version. Use pandas.concat instead.\n",
      "  df2 = df2.append(stats, ignore_index=True)\n"
     ]
    },
    {
     "name": "stdout",
     "output_type": "stream",
     "text": [
      "          name wAV\n",
      "0  Scott Young   1\n"
     ]
    },
    {
     "name": "stderr",
     "output_type": "stream",
     "text": [
      "C:\\Users\\antve\\AppData\\Local\\Temp\\ipykernel_31828\\2121620167.py:11: FutureWarning: The frame.append method is deprecated and will be removed from pandas in a future version. Use pandas.concat instead.\n",
      "  df2 = df2.append(stats, ignore_index=True)\n"
     ]
    },
    {
     "name": "stdout",
     "output_type": "stream",
     "text": [
      "           name wAV\n",
      "0  Selvin Young   9\n"
     ]
    },
    {
     "name": "stderr",
     "output_type": "stream",
     "text": [
      "C:\\Users\\antve\\AppData\\Local\\Temp\\ipykernel_31828\\2121620167.py:11: FutureWarning: The frame.append method is deprecated and will be removed from pandas in a future version. Use pandas.concat instead.\n",
      "  df2 = df2.append(stats, ignore_index=True)\n"
     ]
    },
    {
     "name": "stdout",
     "output_type": "stream",
     "text": [
      "          name wAV\n",
      "0  Tavon Young  14\n"
     ]
    },
    {
     "name": "stderr",
     "output_type": "stream",
     "text": [
      "C:\\Users\\antve\\AppData\\Local\\Temp\\ipykernel_31828\\2121620167.py:11: FutureWarning: The frame.append method is deprecated and will be removed from pandas in a future version. Use pandas.concat instead.\n",
      "  df2 = df2.append(stats, ignore_index=True)\n"
     ]
    },
    {
     "name": "stdout",
     "output_type": "stream",
     "text": [
      "          name wAV\n",
      "0  Titus Young   8\n"
     ]
    },
    {
     "name": "stderr",
     "output_type": "stream",
     "text": [
      "C:\\Users\\antve\\AppData\\Local\\Temp\\ipykernel_31828\\2121620167.py:11: FutureWarning: The frame.append method is deprecated and will be removed from pandas in a future version. Use pandas.concat instead.\n",
      "  df2 = df2.append(stats, ignore_index=True)\n"
     ]
    },
    {
     "name": "stdout",
     "output_type": "stream",
     "text": [
      "           name wAV\n",
      "0  Trevon Young   0\n"
     ]
    },
    {
     "name": "stderr",
     "output_type": "stream",
     "text": [
      "C:\\Users\\antve\\AppData\\Local\\Temp\\ipykernel_31828\\2121620167.py:11: FutureWarning: The frame.append method is deprecated and will be removed from pandas in a future version. Use pandas.concat instead.\n",
      "  df2 = df2.append(stats, ignore_index=True)\n"
     ]
    },
    {
     "name": "stdout",
     "output_type": "stream",
     "text": [
      "          name wAV\n",
      "0  Usama Young  17\n"
     ]
    },
    {
     "name": "stderr",
     "output_type": "stream",
     "text": [
      "C:\\Users\\antve\\AppData\\Local\\Temp\\ipykernel_31828\\2121620167.py:11: FutureWarning: The frame.append method is deprecated and will be removed from pandas in a future version. Use pandas.concat instead.\n",
      "  df2 = df2.append(stats, ignore_index=True)\n"
     ]
    },
    {
     "name": "stdout",
     "output_type": "stream",
     "text": [
      "          name wAV\n",
      "0  Vince Young  33\n"
     ]
    },
    {
     "name": "stderr",
     "output_type": "stream",
     "text": [
      "C:\\Users\\antve\\AppData\\Local\\Temp\\ipykernel_31828\\2121620167.py:11: FutureWarning: The frame.append method is deprecated and will be removed from pandas in a future version. Use pandas.concat instead.\n",
      "  df2 = df2.append(stats, ignore_index=True)\n"
     ]
    },
    {
     "name": "stdout",
     "output_type": "stream",
     "text": [
      "           name wAV\n",
      "0  Walter Young   0\n"
     ]
    },
    {
     "name": "stderr",
     "output_type": "stream",
     "text": [
      "C:\\Users\\antve\\AppData\\Local\\Temp\\ipykernel_31828\\2121620167.py:11: FutureWarning: The frame.append method is deprecated and will be removed from pandas in a future version. Use pandas.concat instead.\n",
      "  df2 = df2.append(stats, ignore_index=True)\n"
     ]
    },
    {
     "name": "stdout",
     "output_type": "stream",
     "text": [
      "           name wAV\n",
      "0  Willie Young  22\n"
     ]
    },
    {
     "name": "stderr",
     "output_type": "stream",
     "text": [
      "C:\\Users\\antve\\AppData\\Local\\Temp\\ipykernel_31828\\2121620167.py:11: FutureWarning: The frame.append method is deprecated and will be removed from pandas in a future version. Use pandas.concat instead.\n",
      "  df2 = df2.append(stats, ignore_index=True)\n"
     ]
    },
    {
     "name": "stdout",
     "output_type": "stream",
     "text": [
      "               name wAV\n",
      "0  Kevin Youngblood   0\n"
     ]
    },
    {
     "name": "stderr",
     "output_type": "stream",
     "text": [
      "C:\\Users\\antve\\AppData\\Local\\Temp\\ipykernel_31828\\2121620167.py:11: FutureWarning: The frame.append method is deprecated and will be removed from pandas in a future version. Use pandas.concat instead.\n",
      "  df2 = df2.append(stats, ignore_index=True)\n"
     ]
    },
    {
     "name": "stdout",
     "output_type": "stream",
     "text": [
      "              name wAV\n",
      "0  Christian Yount   3\n"
     ]
    },
    {
     "name": "stderr",
     "output_type": "stream",
     "text": [
      "C:\\Users\\antve\\AppData\\Local\\Temp\\ipykernel_31828\\2121620167.py:11: FutureWarning: The frame.append method is deprecated and will be removed from pandas in a future version. Use pandas.concat instead.\n",
      "  df2 = df2.append(stats, ignore_index=True)\n"
     ]
    },
    {
     "name": "stdout",
     "output_type": "stream",
     "text": [
      "              name wAV\n",
      "0  Dave Yovanovits   0\n"
     ]
    }
   ],
   "source": [
    "for x in urls:\n",
    "    wAV_extract(x)\n",
    "    sleep(5)"
   ]
  },
  {
   "cell_type": "code",
   "execution_count": null,
   "id": "08fcd81f",
   "metadata": {},
   "outputs": [],
   "source": []
  },
  {
   "cell_type": "code",
   "execution_count": null,
   "id": "e4f06682",
   "metadata": {},
   "outputs": [],
   "source": []
  },
  {
   "cell_type": "code",
   "execution_count": 46,
   "id": "0509eb5e",
   "metadata": {},
   "outputs": [],
   "source": []
  },
  {
   "cell_type": "code",
   "execution_count": null,
   "id": "67e3e022",
   "metadata": {},
   "outputs": [],
   "source": []
  },
  {
   "cell_type": "code",
   "execution_count": null,
   "id": "643eb5cf",
   "metadata": {},
   "outputs": [],
   "source": []
  }
 ],
 "metadata": {
  "kernelspec": {
   "display_name": "Python 3 (ipykernel)",
   "language": "python",
   "name": "python3"
  },
  "language_info": {
   "codemirror_mode": {
    "name": "ipython",
    "version": 3
   },
   "file_extension": ".py",
   "mimetype": "text/x-python",
   "name": "python",
   "nbconvert_exporter": "python",
   "pygments_lexer": "ipython3",
   "version": "3.9.13"
  }
 },
 "nbformat": 4,
 "nbformat_minor": 5
}
