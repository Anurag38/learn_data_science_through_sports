{
 "cells": [
  {
   "cell_type": "markdown",
   "id": "894a6a7d",
   "metadata": {},
   "source": [
    "# Can We Finally Crack the Code? Is there any way to accurately predict the success of an NFL prospect?"
   ]
  },
  {
   "cell_type": "markdown",
   "id": "f6080164",
   "metadata": {},
   "source": [
    "## The NFL Draft"
   ]
  },
  {
   "cell_type": "markdown",
   "id": "f3d27754",
   "metadata": {},
   "source": [
    "The NFL Draft is a holiday for us football fans! It's a time to gather with our friends, family, and fellow fans to watch as our favorite teams make critical decisions that will shape the future of their franchise. With the anticipation of the first pick, we hold our breath and wait for the announcement, wondering who will be the next superstar to grace our team's roster. It's a time of hope, excitement, and endless possibilities as we watch talented young athletes achieve their dreams and make their way to the big leagues. And with each pick, we cheer, we debate, we celebrate, and we commiserate, as we share in the ups and downs of the draft together. "
   ]
  },
  {
   "cell_type": "markdown",
   "id": "720c98ee",
   "metadata": {},
   "source": [
    "### HOWEVER"
   ]
  },
  {
   "cell_type": "markdown",
   "id": "4a45ab3e",
   "metadata": {},
   "source": [
    "How many players really live up to the hype? How many are doomed to be \"busts\"? And why does it seem like there is always a diamond in the rough that ends up being a Hall of Famer despite being picked 199th overall (TB <3)?  With all the advancements in scouting, analytics, and technology, why can't we seem to get this right? "
   ]
  },
  {
   "cell_type": "markdown",
   "id": "5f886e7d",
   "metadata": {},
   "source": [
    "### Let's throw our hats in the ring and give it a go!"
   ]
  },
  {
   "cell_type": "markdown",
   "id": "61db6908",
   "metadata": {},
   "source": [
    "Let's see if we could use our Data Science toolbox to correct the NFL Draft player evaluation process once and for all!"
   ]
  },
  {
   "cell_type": "markdown",
   "id": "20a882ef",
   "metadata": {},
   "source": [
    "## Quantifying a Player's Value in the Pros"
   ]
  },
  {
   "cell_type": "markdown",
   "id": "4e03c3f2",
   "metadata": {},
   "source": [
    "## Pro-Football Reference's Approximate Value (AV)"
   ]
  },
  {
   "cell_type": "markdown",
   "id": "3a9433bb",
   "metadata": {},
   "source": [
    "For the full breakdown, visit here: https://www.pro-football-reference.com/about/approximate_value.htm\n",
    "\n",
    "But essentitally, AV is a metric that was created to attempt to quantify the \"value\" of a pleyer for a particular season in one single number. I find it to be analogous for the WAR metric in baseball. Now what's even better is there is a Career \"Weighted\" Approximate Value (wAV) assigned to every player's career! \n",
    "\n",
    "From pro-football-reference.com : Weighted AV is calculated as: \"100% of the player's best season, plus 95% of his 2nd-best season, plus 90% of his 3rd-best season, plus 85% of his 4th-best season, and so on...\"\n",
    "\n",
    "If there is any ONE number to quantify the \"success\" of a player's career, this is it! If you want proof, check the leaderboard and see the GOAT on top :) (Yes I'm from New England)\n"
   ]
  },
  {
   "cell_type": "markdown",
   "id": "1616727e",
   "metadata": {},
   "source": [
    "<img src=\"WAV_Leaders2.jpg\" alt=\"Weighted AV All Time Leaderboard\" />"
   ]
  },
  {
   "cell_type": "markdown",
   "id": "93b98277",
   "metadata": {},
   "source": [
    "Image Source: https://www.pro-football-reference.com/leaders/career_av_career.htm"
   ]
  },
  {
   "cell_type": "code",
   "execution_count": 227,
   "id": "53091929",
   "metadata": {},
   "outputs": [],
   "source": [
    "import pandas as pd\n",
    "import numpy as np\n",
    "import requests\n",
    "import string\n",
    "from string import digits\n",
    "from bs4 import BeautifulSoup\n",
    "import sportsdataverse\n",
    "from urllib.request import urlopen\n",
    "from itertools import product\n",
    "from string import ascii_lowercase\n",
    "import gc\n",
    "from matplotlib import pyplot as plt\n",
    "import re\n",
    "import seaborn as sns"
   ]
  },
  {
   "cell_type": "markdown",
   "id": "2a60d7d3",
   "metadata": {},
   "source": [
    "## Let's Build a Web Scraper!"
   ]
  },
  {
   "cell_type": "markdown",
   "id": "f25c9b7e",
   "metadata": {},
   "source": [
    "Web scraping is the process of extracting data from a website. This won't be a web scraping tutorial, so I am not going to go into full detail. But essentially, the HTML structure of a webpage allows for repeatable/consistent extraction based on different names and labels.\n",
    "\n",
    "BeautifulSoup is the major Python library used for web scraping and we will use that here"
   ]
  },
  {
   "cell_type": "markdown",
   "id": "37f5c7e6",
   "metadata": {},
   "source": [
    "### Our Webpage "
   ]
  },
  {
   "cell_type": "markdown",
   "id": "d6751277",
   "metadata": {},
   "source": [
    "Let's take a look at one of my favorite players of this generation, Julio Jones.\n",
    "\n",
    "https://www.pro-football-reference.com/players/J/JoneJu02.htm\n",
    "\n",
    "This isn't the prettiest URL, but as we can see there is a pattern here we can use. The URL pertaining to a specific player follows:\n",
    "\n",
    "Base_URL (https://www.pro-football-reference.com) / players / First Initial of Last Name / Player ID\n",
    "\n",
    "When you build a scraper it is good to look for patterns like this to make your life easier as you will see as we move forward!"
   ]
  },
  {
   "cell_type": "markdown",
   "id": "7fea7236",
   "metadata": {},
   "source": [
    "<img src=\"juliopage.jpg\" alt=\"Julio Jones\" />"
   ]
  },
  {
   "cell_type": "markdown",
   "id": "486f3cab",
   "metadata": {},
   "source": [
    "Now from this page we simply want 2 things:\n",
    "1. The player's name\n",
    "2. The player's Weighted Career AV"
   ]
  },
  {
   "cell_type": "markdown",
   "id": "954b9a94",
   "metadata": {},
   "source": [
    "### Inspecting an HTML"
   ]
  },
  {
   "cell_type": "markdown",
   "id": "03a159ee",
   "metadata": {},
   "source": [
    "As I mentioned, this is not a web scraping tutorial, but I will show how we extract the Player's name.\n",
    "\n",
    "Right click on the page and click \"Inspect\", this will appear:"
   ]
  },
  {
   "cell_type": "markdown",
   "id": "9b47208a",
   "metadata": {},
   "source": [
    "<img src=\"julioinspect.jpg\" alt=\"Julio Jones\" />"
   ]
  },
  {
   "cell_type": "markdown",
   "id": "ca76a3b9",
   "metadata": {},
   "source": [
    "As you can see, the player's name is contained in a \"span\" inside an \"h1\". This is a pretty easy extraction."
   ]
  },
  {
   "cell_type": "markdown",
   "id": "72f465a5",
   "metadata": {},
   "source": [
    "First we will extract the entire HTML from the page:"
   ]
  },
  {
   "cell_type": "code",
   "execution_count": 2,
   "id": "bce6cd06",
   "metadata": {},
   "outputs": [],
   "source": [
    "# URL of page\n",
    "url = 'https://www.pro-football-reference.com/players/J/JoneJu02.htm'\n",
    "html = urlopen(url)\n",
    "stats_page = BeautifulSoup(html)\n"
   ]
  },
  {
   "cell_type": "markdown",
   "id": "e8a6adb1",
   "metadata": {},
   "source": [
    "This is the entire HTML structure of this URL. Now let's get what we want from it."
   ]
  },
  {
   "cell_type": "markdown",
   "id": "fc259537",
   "metadata": {},
   "source": [
    "#### Player Name"
   ]
  },
  {
   "cell_type": "code",
   "execution_count": 3,
   "id": "896f9249",
   "metadata": {},
   "outputs": [
    {
     "name": "stdout",
     "output_type": "stream",
     "text": [
      "Julio Jones\n"
     ]
    }
   ],
   "source": [
    "playerName = stats_page.h1.get_text()\n",
    "playerName = playerName.strip()\n",
    "print(playerName)"
   ]
  },
  {
   "cell_type": "markdown",
   "id": "5d9ffbf1",
   "metadata": {},
   "source": [
    "#### wAV"
   ]
  },
  {
   "cell_type": "code",
   "execution_count": 4,
   "id": "6e3e2843",
   "metadata": {},
   "outputs": [
    {
     "name": "stdout",
     "output_type": "stream",
     "text": [
      "100\n"
     ]
    }
   ],
   "source": [
    "wAV = stats_page(text=lambda t: \"since 1960\" in t.text)\n",
    "wAV = str(wAV)\n",
    "wAV = wAV.split()[1]\n",
    "print(wAV)"
   ]
  },
  {
   "cell_type": "markdown",
   "id": "0cbc9838",
   "metadata": {},
   "source": [
    "I highly recommend you become familiar with more uses of BeautifulSoup. Here is the documentation: \n",
    "https://www.crummy.com/software/BeautifulSoup/bs4/doc/"
   ]
  },
  {
   "cell_type": "markdown",
   "id": "930cf61b",
   "metadata": {},
   "source": [
    "### Let's turn this into a function"
   ]
  },
  {
   "cell_type": "code",
   "execution_count": 5,
   "id": "d5b3bc97",
   "metadata": {},
   "outputs": [],
   "source": [
    "def wAV_extract(url):\n",
    "    html = urlopen(url)\n",
    "    stats_page = BeautifulSoup(html)\n",
    "    playerName = stats_page.h1.get_text()\n",
    "    playerName = playerName.strip()\n",
    "    wAV = stats_page(text=lambda t: \"since 1960\" in t.text)\n",
    "    wAV = str(wAV)\n",
    "    wAV = wAV.split()[1]\n",
    "    return playerName, wAV\n",
    "\n"
   ]
  },
  {
   "cell_type": "markdown",
   "id": "f5d64d3b",
   "metadata": {},
   "source": [
    "And how we use it:"
   ]
  },
  {
   "cell_type": "code",
   "execution_count": 6,
   "id": "42fc180f",
   "metadata": {
    "scrolled": true
   },
   "outputs": [
    {
     "data": {
      "text/plain": [
       "('Julio Jones', '100')"
      ]
     },
     "execution_count": 6,
     "metadata": {},
     "output_type": "execute_result"
    }
   ],
   "source": [
    "playerName, wAV = wAV_extract('https://www.pro-football-reference.com/players/J/JoneJu02.htm')\n",
    "playerName, wAV"
   ]
  },
  {
   "cell_type": "markdown",
   "id": "aaf46cc5",
   "metadata": {},
   "source": [
    "## What do we do with this?"
   ]
  },
  {
   "cell_type": "markdown",
   "id": "2883325c",
   "metadata": {},
   "source": [
    "Using this scraper we will loop through every in the pro-football-reference database! "
   ]
  },
  {
   "cell_type": "markdown",
   "id": "98437c8c",
   "metadata": {},
   "source": [
    "#### NOTE: Some of the methods required to do this scraping are extremely computationally heavy and therefore will not be done in this notebook/exercise. I will go over the methodology in here at a surface level, and we will use the resulting data set."
   ]
  },
  {
   "cell_type": "markdown",
   "id": "d73a74d0",
   "metadata": {},
   "source": [
    "We have already established the pattern of the player page URLs. Now let's do problem solving to address how we can scan through every possible URL pertaining to a player in the PFR database. Unfortunately, this isn't as simple as something like:\n",
    "\n",
    "BASE_URL / players / player_name\n",
    "\n",
    "If it was, we can build a simple loop just based on the player's names. But let's take a brute force approach to scrape this data."
   ]
  },
  {
   "cell_type": "markdown",
   "id": "562dc9ce",
   "metadata": {},
   "source": [
    "#### First step: attaching a Capital Letter/Same Capital Letter to the base URL"
   ]
  },
  {
   "cell_type": "code",
   "execution_count": 7,
   "id": "c2afdbd5",
   "metadata": {},
   "outputs": [
    {
     "data": {
      "text/plain": [
       "['https://www.pro-football-reference.com/players/A/A',\n",
       " 'https://www.pro-football-reference.com/players/B/B',\n",
       " 'https://www.pro-football-reference.com/players/C/C']"
      ]
     },
     "execution_count": 7,
     "metadata": {},
     "output_type": "execute_result"
    }
   ],
   "source": [
    "base_url = 'https://www.pro-football-reference.com/players/'\n",
    "alphabet = list(string.ascii_uppercase) # Creates list of capital letters\n",
    "\n",
    "########## Create all possible URLs containing the First Letter of the players last name\n",
    "letter_urls = []\n",
    "for letter in alphabet:\n",
    "    new_url = base_url + letter + '/' + letter\n",
    "    letter_urls.append(new_url)\n",
    "letter_urls[:3] ## Prints A-C\n"
   ]
  },
  {
   "cell_type": "markdown",
   "id": "9bfa7b85",
   "metadata": {},
   "source": [
    "Hopefully you are starting to get the idea!"
   ]
  },
  {
   "cell_type": "markdown",
   "id": "27270df8",
   "metadata": {},
   "source": [
    "After the initial part, all we know is that there are infinite possibilites of 3 lowercase letters following the first capital letter. For computation's sake, we will iterate by letter (and the heavy lifting will be done outside of this notebook)."
   ]
  },
  {
   "cell_type": "code",
   "execution_count": 11,
   "id": "85e65dae",
   "metadata": {},
   "outputs": [
    {
     "data": {
      "text/plain": [
       "['https://www.pro-football-reference.com/players/A/Aaaa',\n",
       " 'https://www.pro-football-reference.com/players/A/Aaab',\n",
       " 'https://www.pro-football-reference.com/players/A/Aaac',\n",
       " 'https://www.pro-football-reference.com/players/A/Aaad',\n",
       " 'https://www.pro-football-reference.com/players/A/Aaae',\n",
       " 'https://www.pro-football-reference.com/players/A/Aaaf',\n",
       " 'https://www.pro-football-reference.com/players/A/Aaag',\n",
       " 'https://www.pro-football-reference.com/players/A/Aaah',\n",
       " 'https://www.pro-football-reference.com/players/A/Aaai',\n",
       " 'https://www.pro-football-reference.com/players/A/Aaaj']"
      ]
     },
     "execution_count": 11,
     "metadata": {},
     "output_type": "execute_result"
    }
   ],
   "source": [
    "# Letter A\n",
    "three_letter_combos = [''.join(i) for i in product(ascii_lowercase, repeat = 3)]\n",
    "letter_urls_A = letter_urls[0]\n",
    "three_letter_combo_urls_A = []\n",
    "for combo in three_letter_combos:\n",
    "    new_url = letter_urls_A+combo\n",
    "    three_letter_combo_urls_A.append(new_url)\n",
    "three_letter_combo_urls_A[:10]"
   ]
  },
  {
   "cell_type": "markdown",
   "id": "a2d887c2",
   "metadata": {},
   "source": [
    "We then know the next part of the URL is a two letter combination where the first is a capital letter."
   ]
  },
  {
   "cell_type": "code",
   "execution_count": 12,
   "id": "ee624503",
   "metadata": {},
   "outputs": [
    {
     "data": {
      "text/plain": [
       "['Aa', 'Ab', 'Ac', 'Ad', 'Ae', 'Af', 'Ag', 'Ah', 'Ai', 'Aj']"
      ]
     },
     "execution_count": 12,
     "metadata": {},
     "output_type": "execute_result"
    }
   ],
   "source": [
    "# Generates all possible 2 letter combos\n",
    "two_letter_combos = [''.join(i) for i in product(ascii_lowercase, repeat = 2)]\n",
    "capitalized_combos = []\n",
    "## This loop capitalizes the first letter of each\n",
    "for combo in two_letter_combos:\n",
    "    new = combo.capitalize()\n",
    "    capitalized_combos.append(new)\n",
    "gc.collect()\n",
    "capitalized_combos[:10]"
   ]
  },
  {
   "cell_type": "markdown",
   "id": "ee665619",
   "metadata": {},
   "source": [
    "And the next part is to append these combos to all of the \"A\" Urls"
   ]
  },
  {
   "cell_type": "code",
   "execution_count": 13,
   "id": "d4d0c431",
   "metadata": {},
   "outputs": [
    {
     "data": {
      "text/plain": [
       "['https://www.pro-football-reference.com/players/A/AaaaAa',\n",
       " 'https://www.pro-football-reference.com/players/A/AaaaAb',\n",
       " 'https://www.pro-football-reference.com/players/A/AaaaAc',\n",
       " 'https://www.pro-football-reference.com/players/A/AaaaAd',\n",
       " 'https://www.pro-football-reference.com/players/A/AaaaAe',\n",
       " 'https://www.pro-football-reference.com/players/A/AaaaAf',\n",
       " 'https://www.pro-football-reference.com/players/A/AaaaAg',\n",
       " 'https://www.pro-football-reference.com/players/A/AaaaAh',\n",
       " 'https://www.pro-football-reference.com/players/A/AaaaAi',\n",
       " 'https://www.pro-football-reference.com/players/A/AaaaAj']"
      ]
     },
     "execution_count": 13,
     "metadata": {},
     "output_type": "execute_result"
    }
   ],
   "source": [
    "three_and_two_combo_urls_A = []\n",
    "for x in three_letter_combo_urls_A:\n",
    "    for combo in capitalized_combos:\n",
    "        new_url = x+combo\n",
    "        three_and_two_combo_urls_A.append(new_url)\n",
    "three_and_two_combo_urls_A[:10]"
   ]
  },
  {
   "cell_type": "markdown",
   "id": "e4cadc98",
   "metadata": {},
   "source": [
    "The last thing that needs to complete the URL is the \"0x.htm\" portion. So let's do that. \n",
    "\n",
    "#### Note: Most 6 letter combos have 1-3 instances so 00,01,02 suffice. For edge cases where there are a lot of players, i.e. https://www.pro-football-reference.com/players/J/JoneJa12.htm (12), we will handle those separately by filtering for which combos got up to \"03\"."
   ]
  },
  {
   "cell_type": "code",
   "execution_count": 14,
   "id": "5fe73209",
   "metadata": {},
   "outputs": [],
   "source": [
    "ends = ['00.htm','01.htm','02.htm']"
   ]
  },
  {
   "cell_type": "code",
   "execution_count": 16,
   "id": "e807ea45",
   "metadata": {},
   "outputs": [
    {
     "data": {
      "text/plain": [
       "['https://www.pro-football-reference.com/players/A/AaaaAa00.htm',\n",
       " 'https://www.pro-football-reference.com/players/A/AaaaAa01.htm',\n",
       " 'https://www.pro-football-reference.com/players/A/AaaaAa02.htm',\n",
       " 'https://www.pro-football-reference.com/players/A/AaaaAb00.htm',\n",
       " 'https://www.pro-football-reference.com/players/A/AaaaAb01.htm',\n",
       " 'https://www.pro-football-reference.com/players/A/AaaaAb02.htm',\n",
       " 'https://www.pro-football-reference.com/players/A/AaaaAc00.htm',\n",
       " 'https://www.pro-football-reference.com/players/A/AaaaAc01.htm',\n",
       " 'https://www.pro-football-reference.com/players/A/AaaaAc02.htm',\n",
       " 'https://www.pro-football-reference.com/players/A/AaaaAd00.htm']"
      ]
     },
     "execution_count": 16,
     "metadata": {},
     "output_type": "execute_result"
    }
   ],
   "source": [
    "full_urls_A = []\n",
    "for x in three_and_two_combo_urls_A:\n",
    "    for combo in ends:\n",
    "        new_url = x+combo\n",
    "        full_urls_A.append(new_url)\n",
    "full_urls_A[:10]"
   ]
  },
  {
   "cell_type": "code",
   "execution_count": 21,
   "id": "0c9a6f32",
   "metadata": {},
   "outputs": [],
   "source": [
    "df=pd.DataFrame(full_urls_A)\n",
    "df.to_csv(\"Aurls.csv\")"
   ]
  },
  {
   "cell_type": "markdown",
   "id": "755bec59",
   "metadata": {},
   "source": [
    "###  Iterate our function over the URLs to get the data we want!"
   ]
  },
  {
   "cell_type": "code",
   "execution_count": null,
   "id": "9cf62fbc",
   "metadata": {},
   "outputs": [],
   "source": [
    "df = pd.DataFrame(None, columns =('name','wAV'))\n",
    "def wAV_extract(url):\n",
    "    try:\n",
    "        html = urlopen(url)\n",
    "        stats_page = BeautifulSoup(html)\n",
    "        playerName = stats_page.h1.get_text()\n",
    "        playerName = playerName.strip()\n",
    "        wAV = stats_page(text=lambda t: \"since 1960\" in t.text)\n",
    "        wAV = str(wAV)\n",
    "        wAV = wAV.split()[1]\n",
    "        stats = [playerName, wAV]\n",
    "        return\n",
    "    except:\n",
    "        return print(\"URL doesn't exist\",url)"
   ]
  },
  {
   "cell_type": "markdown",
   "id": "093ef959",
   "metadata": {},
   "source": [
    "## The Scraping was done outside of this notebook and compiled into a dataset in this project's directory. We will use it for the remainder of this project!"
   ]
  },
  {
   "cell_type": "markdown",
   "id": "8cfe6ae7",
   "metadata": {},
   "source": [
    "For this project we are only going to take players who's career started in 2000 or later and before 2019."
   ]
  },
  {
   "cell_type": "markdown",
   "id": "285d30e4",
   "metadata": {},
   "source": [
    "### Let's Ingest that Final Table for wAV"
   ]
  },
  {
   "cell_type": "code",
   "execution_count": 247,
   "id": "7ea2f1c3",
   "metadata": {},
   "outputs": [
    {
     "data": {
      "text/html": [
       "<div>\n",
       "<style scoped>\n",
       "    .dataframe tbody tr th:only-of-type {\n",
       "        vertical-align: middle;\n",
       "    }\n",
       "\n",
       "    .dataframe tbody tr th {\n",
       "        vertical-align: top;\n",
       "    }\n",
       "\n",
       "    .dataframe thead th {\n",
       "        text-align: right;\n",
       "    }\n",
       "</style>\n",
       "<table border=\"1\" class=\"dataframe\">\n",
       "  <thead>\n",
       "    <tr style=\"text-align: right;\">\n",
       "      <th></th>\n",
       "      <th>Name</th>\n",
       "      <th>wAV</th>\n",
       "    </tr>\n",
       "  </thead>\n",
       "  <tbody>\n",
       "    <tr>\n",
       "      <th>0</th>\n",
       "      <td>Isaako Aaitui</td>\n",
       "      <td>0</td>\n",
       "    </tr>\n",
       "    <tr>\n",
       "      <th>1</th>\n",
       "      <td>Jared Abbrederis</td>\n",
       "      <td>1</td>\n",
       "    </tr>\n",
       "    <tr>\n",
       "      <th>2</th>\n",
       "      <td>Mehdi Abdesmad</td>\n",
       "      <td>0</td>\n",
       "    </tr>\n",
       "    <tr>\n",
       "      <th>3</th>\n",
       "      <td>Isa Abdul-Quddus</td>\n",
       "      <td>13</td>\n",
       "    </tr>\n",
       "    <tr>\n",
       "      <th>4</th>\n",
       "      <td>Ameer Abdullah</td>\n",
       "      <td>17</td>\n",
       "    </tr>\n",
       "    <tr>\n",
       "      <th>...</th>\n",
       "      <td>...</td>\n",
       "      <td>...</td>\n",
       "    </tr>\n",
       "    <tr>\n",
       "      <th>1080</th>\n",
       "      <td>Frank Zombo</td>\n",
       "      <td>23</td>\n",
       "    </tr>\n",
       "    <tr>\n",
       "      <th>1081</th>\n",
       "      <td>Greg Zuerlein</td>\n",
       "      <td>26</td>\n",
       "    </tr>\n",
       "    <tr>\n",
       "      <th>1082</th>\n",
       "      <td>Paul Zukauskas</td>\n",
       "      <td>9</td>\n",
       "    </tr>\n",
       "    <tr>\n",
       "      <th>1083</th>\n",
       "      <td>Jeremy Zuttah</td>\n",
       "      <td>46</td>\n",
       "    </tr>\n",
       "    <tr>\n",
       "      <th>1084</th>\n",
       "      <td>Brandon Zylstra</td>\n",
       "      <td>3</td>\n",
       "    </tr>\n",
       "  </tbody>\n",
       "</table>\n",
       "<p>1085 rows × 2 columns</p>\n",
       "</div>"
      ],
      "text/plain": [
       "                  Name  wAV\n",
       "0        Isaako Aaitui    0\n",
       "1     Jared Abbrederis    1\n",
       "2       Mehdi Abdesmad    0\n",
       "3     Isa Abdul-Quddus   13\n",
       "4       Ameer Abdullah   17\n",
       "...                ...  ...\n",
       "1080       Frank Zombo   23\n",
       "1081     Greg Zuerlein   26\n",
       "1082    Paul Zukauskas    9\n",
       "1083     Jeremy Zuttah   46\n",
       "1084   Brandon Zylstra    3\n",
       "\n",
       "[1085 rows x 2 columns]"
      ]
     },
     "execution_count": 247,
     "metadata": {},
     "output_type": "execute_result"
    }
   ],
   "source": [
    "wAV_df = pd.read_excel('playerswAV.xlsx')\n",
    "wAV_df = wAV_df[['Name','wAV']]\n",
    "wAV_df"
   ]
  },
  {
   "cell_type": "markdown",
   "id": "f7491e1c",
   "metadata": {},
   "source": [
    "### And a quick look at wAV distribution"
   ]
  },
  {
   "cell_type": "code",
   "execution_count": 249,
   "id": "0b49a7ed",
   "metadata": {},
   "outputs": [
    {
     "data": {
      "image/png": "[encoded data removed]",
      "text/plain": [
       "<Figure size 1000x700 with 1 Axes>"
      ]
     },
     "metadata": {},
     "output_type": "display_data"
    }
   ],
   "source": [
    "fig, ax = plt.subplots(figsize =(10, 7))\n",
    "ax.hist(wAV_df['wAV'], bins = 70)\n",
    "plt.xlabel('wAV')\n",
    "plt.ylabel('# of Players')\n",
    "plt.title(\"Histogram of wAV Distribution\")\n",
    "plt.show()"
   ]
  },
  {
   "cell_type": "markdown",
   "id": "d37c1647",
   "metadata": {},
   "source": [
    "## Let's take a look at Pre Draft Grades from the Professionals!"
   ]
  },
  {
   "cell_type": "markdown",
   "id": "1860868f",
   "metadata": {},
   "source": [
    "The following grades were scraped from ESPN.com. This data was not available before 2004, so for this comparison, we will only include grades from 2004-2018."
   ]
  },
  {
   "cell_type": "markdown",
   "id": "9837d43b",
   "metadata": {},
   "source": [
    "### The Grading Scale"
   ]
  },
  {
   "cell_type": "markdown",
   "id": "6be15c49",
   "metadata": {},
   "source": [
    "From ESPN.com:\n",
    "\n",
    "90-100 Rare Prospect\n",
    "Player demonstrates rare abilities and can create mismatches that have an obvious impact on the game. Is a premier college player that has all the skill to take over a game and play at a championship level. He rates in the top 5 players in the nation at his position and is considered a first round draft prospect.\n",
    "\n",
    "80-89 Outstanding Prospect\n",
    "Player has abilities to create mismatches versus most opponents in the NFL. A feature player that has an impact on the outcome of the game. Cannot be shut down by a single player and plays on a consistent level week in and week out. He rates in the top 10 at his position and is considered a second round draft prospect.\n",
    "\n",
    "70-79 Solid Prospect\n",
    "Still a standout player at the college level that is close to being an elite player. He has no glaring weaknesses and will usually win his individual matchups, but does not dominate in every game, especially when matched up against the top players in the country. He will usually rate in the top third of players at his position and is considered a third round draft prospect.\n",
    "\n",
    "60-69 Good Prospect\n",
    "This player is an good starter that will give a solid effort week in and week out, but he is overmatched versus the better players in the nation. His weaknesses will be exposed against top competition. He is usually a prospect that is missing something from his game. For example, he has the size and skills to be an outstanding prospect, but lacks the speed. He will usually rate in the top half of the players at his position and is considered a middle round draft choice.\n",
    "\n",
    "50-59 Adequate Prospect\n",
    "These are usually players that play at a high level in college, but lack some measurables or skills to play at that same level in the NFL. He may be a player that has a lot of developmental qualities, or could be a player that will contribute right away on special teams or in a situational capacity. He will usually rate in the second-third at his position and is considered a fifth round draft choice.\n",
    "\n",
    "21-49 Borderline Draft Prospect\n",
    "These are players that teams like something about, but certainly do not have the full package in terms of NFL talent. A lot of times, teams will take chances on character players or developmental type athletes with this grade. And often, these are players that come from smaller schools or did not standout at the college level. NFL teams are looking for 'diamonds in the rough' with this type of prospect. He will usually rate in the bottom third of players at his position and will be considered a late round draft choice or un-drafted free agent.\n",
    "\n",
    "20 Free Agent Prospect\n",
    "These are players that did not make our original 'evaluation list' but are prospects that need to be monitored. Especially in the pre-season, these players will fluctuate up and down depending on performance in their final year of eligibility.\n",
    "\n",
    "10 Not a legitimate Prospect\n",
    "These are players that lack NFL measurables and/or skills. They are players that we feel would not even make a solid contribution as a training camp body."
   ]
  },
  {
   "cell_type": "markdown",
   "id": "520bdf60",
   "metadata": {},
   "source": [
    "Now, let's see how well these pre draft grades play out in terms of forecasting a player's career value!"
   ]
  },
  {
   "cell_type": "markdown",
   "id": "ebf81415",
   "metadata": {},
   "source": [
    "### Scout Grades Pre Draft"
   ]
  },
  {
   "cell_type": "code",
   "execution_count": 222,
   "id": "e5df34be",
   "metadata": {},
   "outputs": [
    {
     "data": {
      "text/html": [
       "<div>\n",
       "<style scoped>\n",
       "    .dataframe tbody tr th:only-of-type {\n",
       "        vertical-align: middle;\n",
       "    }\n",
       "\n",
       "    .dataframe tbody tr th {\n",
       "        vertical-align: top;\n",
       "    }\n",
       "\n",
       "    .dataframe thead th {\n",
       "        text-align: right;\n",
       "    }\n",
       "</style>\n",
       "<table border=\"1\" class=\"dataframe\">\n",
       "  <thead>\n",
       "    <tr style=\"text-align: right;\">\n",
       "      <th></th>\n",
       "      <th>Name</th>\n",
       "      <th>Position</th>\n",
       "      <th>Height</th>\n",
       "      <th>Weight</th>\n",
       "      <th>College</th>\n",
       "      <th>Grade</th>\n",
       "      <th>Position Rank</th>\n",
       "      <th>Overall Rank</th>\n",
       "    </tr>\n",
       "  </thead>\n",
       "  <tbody>\n",
       "    <tr>\n",
       "      <th>0</th>\n",
       "      <td>Shawn Andrews</td>\n",
       "      <td>OT</td>\n",
       "      <td>6'4½\"</td>\n",
       "      <td>345</td>\n",
       "      <td>Arkansas</td>\n",
       "      <td>93.0</td>\n",
       "      <td>2.0</td>\n",
       "      <td>20.0</td>\n",
       "    </tr>\n",
       "    <tr>\n",
       "      <th>1</th>\n",
       "      <td>Matthias Askew</td>\n",
       "      <td>DT</td>\n",
       "      <td>6'5⅜\"</td>\n",
       "      <td>301</td>\n",
       "      <td>Michigan State</td>\n",
       "      <td>77.0</td>\n",
       "      <td>10.0</td>\n",
       "      <td>78.0</td>\n",
       "    </tr>\n",
       "    <tr>\n",
       "      <th>2</th>\n",
       "      <td>Will Allen</td>\n",
       "      <td>DB</td>\n",
       "      <td>6'0½\"</td>\n",
       "      <td>202</td>\n",
       "      <td>Ohio State</td>\n",
       "      <td>73.0</td>\n",
       "      <td>6.0</td>\n",
       "      <td>95.0</td>\n",
       "    </tr>\n",
       "    <tr>\n",
       "      <th>3</th>\n",
       "      <td>Tim Anderson</td>\n",
       "      <td>DT</td>\n",
       "      <td>6'3⅛\"</td>\n",
       "      <td>307</td>\n",
       "      <td>Ohio State</td>\n",
       "      <td>73.0</td>\n",
       "      <td>12.0</td>\n",
       "      <td>90.0</td>\n",
       "    </tr>\n",
       "    <tr>\n",
       "      <th>4</th>\n",
       "      <td>Courtney Anderson</td>\n",
       "      <td>TE</td>\n",
       "      <td>6'6¼\"</td>\n",
       "      <td>269</td>\n",
       "      <td>San José State</td>\n",
       "      <td>64.0</td>\n",
       "      <td>9.0</td>\n",
       "      <td>137.0</td>\n",
       "    </tr>\n",
       "    <tr>\n",
       "      <th>...</th>\n",
       "      <td>...</td>\n",
       "      <td>...</td>\n",
       "      <td>...</td>\n",
       "      <td>...</td>\n",
       "      <td>...</td>\n",
       "      <td>...</td>\n",
       "      <td>...</td>\n",
       "      <td>...</td>\n",
       "    </tr>\n",
       "    <tr>\n",
       "      <th>6010</th>\n",
       "      <td>Eddie Young</td>\n",
       "      <td>CB</td>\n",
       "      <td>6'0⅜\"</td>\n",
       "      <td>202</td>\n",
       "      <td>Fort Valley State</td>\n",
       "      <td>20.0</td>\n",
       "      <td>85.0</td>\n",
       "      <td>NaN</td>\n",
       "    </tr>\n",
       "    <tr>\n",
       "      <th>6011</th>\n",
       "      <td>Kameron Young</td>\n",
       "      <td>OT</td>\n",
       "      <td>6'5\"</td>\n",
       "      <td>295</td>\n",
       "      <td>NaN</td>\n",
       "      <td>20.0</td>\n",
       "      <td>86.0</td>\n",
       "      <td>NaN</td>\n",
       "    </tr>\n",
       "    <tr>\n",
       "      <th>6012</th>\n",
       "      <td>Zeek Zacharie</td>\n",
       "      <td>FB</td>\n",
       "      <td>6'1¼\"</td>\n",
       "      <td>236</td>\n",
       "      <td>UL Monroe</td>\n",
       "      <td>30.0</td>\n",
       "      <td>15.0</td>\n",
       "      <td>NaN</td>\n",
       "    </tr>\n",
       "    <tr>\n",
       "      <th>6013</th>\n",
       "      <td>Chris Zellner</td>\n",
       "      <td>TE</td>\n",
       "      <td>6'1½\"</td>\n",
       "      <td>240</td>\n",
       "      <td>Miami</td>\n",
       "      <td>30.0</td>\n",
       "      <td>39.0</td>\n",
       "      <td>NaN</td>\n",
       "    </tr>\n",
       "    <tr>\n",
       "      <th>6014</th>\n",
       "      <td>Stanley Zwinggi</td>\n",
       "      <td>RB</td>\n",
       "      <td>5'9¾\"</td>\n",
       "      <td>186</td>\n",
       "      <td>Southwestern Assemblies of God</td>\n",
       "      <td>20.0</td>\n",
       "      <td>75.0</td>\n",
       "      <td>NaN</td>\n",
       "    </tr>\n",
       "  </tbody>\n",
       "</table>\n",
       "<p>6015 rows × 8 columns</p>\n",
       "</div>"
      ],
      "text/plain": [
       "                   Name Position Height Weight  \\\n",
       "0         Shawn Andrews       OT  6'4½\"    345   \n",
       "1        Matthias Askew       DT  6'5⅜\"    301   \n",
       "2            Will Allen       DB  6'0½\"    202   \n",
       "3          Tim Anderson       DT  6'3⅛\"    307   \n",
       "4     Courtney Anderson       TE  6'6¼\"    269   \n",
       "...                 ...      ...    ...    ...   \n",
       "6010        Eddie Young       CB  6'0⅜\"    202   \n",
       "6011      Kameron Young       OT   6'5\"    295   \n",
       "6012      Zeek Zacharie       FB  6'1¼\"    236   \n",
       "6013      Chris Zellner       TE  6'1½\"    240   \n",
       "6014    Stanley Zwinggi       RB  5'9¾\"    186   \n",
       "\n",
       "                             College  Grade  Position Rank  Overall Rank  \n",
       "0                           Arkansas   93.0            2.0          20.0  \n",
       "1                     Michigan State   77.0           10.0          78.0  \n",
       "2                         Ohio State   73.0            6.0          95.0  \n",
       "3                         Ohio State   73.0           12.0          90.0  \n",
       "4                     San José State   64.0            9.0         137.0  \n",
       "...                              ...    ...            ...           ...  \n",
       "6010               Fort Valley State   20.0           85.0           NaN  \n",
       "6011                             NaN   20.0           86.0           NaN  \n",
       "6012                       UL Monroe   30.0           15.0           NaN  \n",
       "6013                           Miami   30.0           39.0           NaN  \n",
       "6014  Southwestern Assemblies of God   20.0           75.0           NaN  \n",
       "\n",
       "[6015 rows x 8 columns]"
      ]
     },
     "execution_count": 222,
     "metadata": {},
     "output_type": "execute_result"
    }
   ],
   "source": [
    "scout_rankings = pd.read_excel('Espn_Grade.xlsx')\n",
    "scout_rankings['Name'] = scout_rankings['Name'].astype(str)\n",
    "scout_rankings['Name'] = scout_rankings['Name'].apply(lambda x: x.title())\n",
    "scout_rankings['Name'] = scout_rankings['Name'].apply(lambda x: ''.join(filter(str.isalnum, x)))\n",
    "scout_rankings['Name'] = scout_rankings['Name'].apply(lambda x: re.sub(r\"\\B([A-Z])\", r\" \\1\", x))\n",
    "\n",
    "\n",
    "scout_rankings"
   ]
  },
  {
   "cell_type": "code",
   "execution_count": 246,
   "id": "8044ebbb",
   "metadata": {},
   "outputs": [
    {
     "data": {
      "text/html": [
       "<div>\n",
       "<style scoped>\n",
       "    .dataframe tbody tr th:only-of-type {\n",
       "        vertical-align: middle;\n",
       "    }\n",
       "\n",
       "    .dataframe tbody tr th {\n",
       "        vertical-align: top;\n",
       "    }\n",
       "\n",
       "    .dataframe thead th {\n",
       "        text-align: right;\n",
       "    }\n",
       "</style>\n",
       "<table border=\"1\" class=\"dataframe\">\n",
       "  <thead>\n",
       "    <tr style=\"text-align: right;\">\n",
       "      <th></th>\n",
       "      <th>Name</th>\n",
       "      <th>Position</th>\n",
       "      <th>Height</th>\n",
       "      <th>Weight</th>\n",
       "      <th>College</th>\n",
       "      <th>Grade</th>\n",
       "      <th>Position Rank</th>\n",
       "      <th>Overall Rank</th>\n",
       "    </tr>\n",
       "  </thead>\n",
       "  <tbody>\n",
       "    <tr>\n",
       "      <th>7</th>\n",
       "      <td>Jared Allen</td>\n",
       "      <td>DE</td>\n",
       "      <td>6'6\"</td>\n",
       "      <td>260</td>\n",
       "      <td>Idaho State</td>\n",
       "      <td>51.0</td>\n",
       "      <td>21.0</td>\n",
       "      <td>209.0</td>\n",
       "    </tr>\n",
       "    <tr>\n",
       "      <th>864</th>\n",
       "      <td>Jared Allen</td>\n",
       "      <td>QB</td>\n",
       "      <td>6'2¼\"</td>\n",
       "      <td>218</td>\n",
       "      <td>Florida Atlantic</td>\n",
       "      <td>33.0</td>\n",
       "      <td>21.0</td>\n",
       "      <td>326.0</td>\n",
       "    </tr>\n",
       "  </tbody>\n",
       "</table>\n",
       "</div>"
      ],
      "text/plain": [
       "            Name Position Height Weight           College  Grade  \\\n",
       "7    Jared Allen       DE   6'6\"    260       Idaho State   51.0   \n",
       "864  Jared Allen       QB  6'2¼\"    218  Florida Atlantic   33.0   \n",
       "\n",
       "     Position Rank  Overall Rank  \n",
       "7             21.0         209.0  \n",
       "864           21.0         326.0  "
      ]
     },
     "execution_count": 246,
     "metadata": {},
     "output_type": "execute_result"
    }
   ],
   "source": [
    "scout_rankings.loc[scout_rankings['Name']=='Jared Allen']"
   ]
  },
  {
   "cell_type": "code",
   "execution_count": 226,
   "id": "712a03f4",
   "metadata": {},
   "outputs": [
    {
     "data": {
      "text/html": [
       "<div>\n",
       "<style scoped>\n",
       "    .dataframe tbody tr th:only-of-type {\n",
       "        vertical-align: middle;\n",
       "    }\n",
       "\n",
       "    .dataframe tbody tr th {\n",
       "        vertical-align: top;\n",
       "    }\n",
       "\n",
       "    .dataframe thead th {\n",
       "        text-align: right;\n",
       "    }\n",
       "</style>\n",
       "<table border=\"1\" class=\"dataframe\">\n",
       "  <thead>\n",
       "    <tr style=\"text-align: right;\">\n",
       "      <th></th>\n",
       "      <th>Name</th>\n",
       "      <th>wAV</th>\n",
       "      <th>Position</th>\n",
       "      <th>Height</th>\n",
       "      <th>Weight</th>\n",
       "      <th>College</th>\n",
       "      <th>Grade</th>\n",
       "      <th>Position Rank</th>\n",
       "      <th>Overall Rank</th>\n",
       "    </tr>\n",
       "  </thead>\n",
       "  <tbody>\n",
       "    <tr>\n",
       "      <th>0</th>\n",
       "      <td>Hamza Abdullah</td>\n",
       "      <td>5</td>\n",
       "      <td>DB</td>\n",
       "      <td>6'1¾\"</td>\n",
       "      <td>213</td>\n",
       "      <td>Washington State</td>\n",
       "      <td>34.0</td>\n",
       "      <td>25.0</td>\n",
       "      <td>314.0</td>\n",
       "    </tr>\n",
       "    <tr>\n",
       "      <th>1</th>\n",
       "      <td>Husain Abdullah</td>\n",
       "      <td>18</td>\n",
       "      <td>S</td>\n",
       "      <td>5'11⅞\"</td>\n",
       "      <td>204</td>\n",
       "      <td>Washington State</td>\n",
       "      <td>30.0</td>\n",
       "      <td>22.0</td>\n",
       "      <td>NaN</td>\n",
       "    </tr>\n",
       "    <tr>\n",
       "      <th>2</th>\n",
       "      <td>Victor Abiamiri</td>\n",
       "      <td>5</td>\n",
       "      <td>DE</td>\n",
       "      <td>6'4¼\"</td>\n",
       "      <td>267</td>\n",
       "      <td>Notre Dame</td>\n",
       "      <td>79.0</td>\n",
       "      <td>11.0</td>\n",
       "      <td>69.0</td>\n",
       "    </tr>\n",
       "    <tr>\n",
       "      <th>3</th>\n",
       "      <td>Gaines Adams</td>\n",
       "      <td>17</td>\n",
       "      <td>DE</td>\n",
       "      <td>6'4¾\"</td>\n",
       "      <td>258</td>\n",
       "      <td>Clemson</td>\n",
       "      <td>97.0</td>\n",
       "      <td>1.0</td>\n",
       "      <td>6.0</td>\n",
       "    </tr>\n",
       "    <tr>\n",
       "      <th>4</th>\n",
       "      <td>Jamar Adams</td>\n",
       "      <td>0</td>\n",
       "      <td>S</td>\n",
       "      <td>6'2\"</td>\n",
       "      <td>212</td>\n",
       "      <td>Michigan</td>\n",
       "      <td>54.0</td>\n",
       "      <td>13.0</td>\n",
       "      <td>NaN</td>\n",
       "    </tr>\n",
       "    <tr>\n",
       "      <th>...</th>\n",
       "      <td>...</td>\n",
       "      <td>...</td>\n",
       "      <td>...</td>\n",
       "      <td>...</td>\n",
       "      <td>...</td>\n",
       "      <td>...</td>\n",
       "      <td>...</td>\n",
       "      <td>...</td>\n",
       "      <td>...</td>\n",
       "    </tr>\n",
       "    <tr>\n",
       "      <th>299</th>\n",
       "      <td>Terry Butler</td>\n",
       "      <td>0</td>\n",
       "      <td>RB</td>\n",
       "      <td>6'0⅜\"</td>\n",
       "      <td>197</td>\n",
       "      <td>Villanova</td>\n",
       "      <td>20.0</td>\n",
       "      <td>71.0</td>\n",
       "      <td>NaN</td>\n",
       "    </tr>\n",
       "    <tr>\n",
       "      <th>300</th>\n",
       "      <td>Victor Butler</td>\n",
       "      <td>6</td>\n",
       "      <td>OLB</td>\n",
       "      <td>6'1¾\"</td>\n",
       "      <td>235</td>\n",
       "      <td>Oregon State</td>\n",
       "      <td>52.0</td>\n",
       "      <td>16.0</td>\n",
       "      <td>180.0</td>\n",
       "    </tr>\n",
       "    <tr>\n",
       "      <th>301</th>\n",
       "      <td>Dominique Byrd</td>\n",
       "      <td>0</td>\n",
       "      <td>TE</td>\n",
       "      <td>6'2⅝\"</td>\n",
       "      <td>255</td>\n",
       "      <td>USC</td>\n",
       "      <td>78.0</td>\n",
       "      <td>6.0</td>\n",
       "      <td>75.0</td>\n",
       "    </tr>\n",
       "    <tr>\n",
       "      <th>302</th>\n",
       "      <td>Jairus Byrd</td>\n",
       "      <td>38</td>\n",
       "      <td>CB</td>\n",
       "      <td>5'10⅛\"</td>\n",
       "      <td>207</td>\n",
       "      <td>Oregon</td>\n",
       "      <td>81.0</td>\n",
       "      <td>7.0</td>\n",
       "      <td>58.0</td>\n",
       "    </tr>\n",
       "    <tr>\n",
       "      <th>303</th>\n",
       "      <td>Dion Byrum</td>\n",
       "      <td>0</td>\n",
       "      <td>CB</td>\n",
       "      <td>5'11⅛\"</td>\n",
       "      <td>178</td>\n",
       "      <td>Ohio</td>\n",
       "      <td>61.0</td>\n",
       "      <td>18.0</td>\n",
       "      <td>NaN</td>\n",
       "    </tr>\n",
       "  </tbody>\n",
       "</table>\n",
       "<p>304 rows × 9 columns</p>\n",
       "</div>"
      ],
      "text/plain": [
       "                Name  wAV Position  Height Weight           College  Grade  \\\n",
       "0     Hamza Abdullah    5       DB   6'1¾\"    213  Washington State   34.0   \n",
       "1    Husain Abdullah   18        S  5'11⅞\"    204  Washington State   30.0   \n",
       "2    Victor Abiamiri    5       DE   6'4¼\"    267        Notre Dame   79.0   \n",
       "3       Gaines Adams   17       DE   6'4¾\"    258           Clemson   97.0   \n",
       "4        Jamar Adams    0        S    6'2\"    212          Michigan   54.0   \n",
       "..               ...  ...      ...     ...    ...               ...    ...   \n",
       "299     Terry Butler    0       RB   6'0⅜\"    197         Villanova   20.0   \n",
       "300    Victor Butler    6      OLB   6'1¾\"    235      Oregon State   52.0   \n",
       "301   Dominique Byrd    0       TE   6'2⅝\"    255               USC   78.0   \n",
       "302      Jairus Byrd   38       CB  5'10⅛\"    207            Oregon   81.0   \n",
       "303       Dion Byrum    0       CB  5'11⅛\"    178              Ohio   61.0   \n",
       "\n",
       "     Position Rank  Overall Rank  \n",
       "0             25.0         314.0  \n",
       "1             22.0           NaN  \n",
       "2             11.0          69.0  \n",
       "3              1.0           6.0  \n",
       "4             13.0           NaN  \n",
       "..             ...           ...  \n",
       "299           71.0           NaN  \n",
       "300           16.0         180.0  \n",
       "301            6.0          75.0  \n",
       "302            7.0          58.0  \n",
       "303           18.0           NaN  \n",
       "\n",
       "[304 rows x 9 columns]"
      ]
     },
     "execution_count": 226,
     "metadata": {},
     "output_type": "execute_result"
    }
   ],
   "source": [
    "new_df = pd.merge(wAV_df,scout_rankings, left_on=\"Name\",right_on=\"Name\", how = 'inner')\n",
    "new_df"
   ]
  },
  {
   "cell_type": "code",
   "execution_count": 238,
   "id": "606b3819",
   "metadata": {},
   "outputs": [],
   "source": [
    "new_df = new_df.sort_values('Grade', ascending=False).drop_duplicates(['Name','Position']).sort_index()"
   ]
  },
  {
   "cell_type": "code",
   "execution_count": 239,
   "id": "b7a4e95d",
   "metadata": {},
   "outputs": [
    {
     "data": {
      "image/png": "[encoded data removed]",
      "text/plain": [
       "<Figure size 500x500 with 1 Axes>"
      ]
     },
     "metadata": {},
     "output_type": "display_data"
    }
   ],
   "source": [
    "sns.lmplot(x=\"Grade\", y=\"wAV\", data=new_df);"
   ]
  },
  {
   "cell_type": "code",
   "execution_count": 242,
   "id": "67fe13ad",
   "metadata": {},
   "outputs": [
    {
     "data": {
      "text/html": [
       "<div>\n",
       "<style scoped>\n",
       "    .dataframe tbody tr th:only-of-type {\n",
       "        vertical-align: middle;\n",
       "    }\n",
       "\n",
       "    .dataframe tbody tr th {\n",
       "        vertical-align: top;\n",
       "    }\n",
       "\n",
       "    .dataframe thead th {\n",
       "        text-align: right;\n",
       "    }\n",
       "</style>\n",
       "<table border=\"1\" class=\"dataframe\">\n",
       "  <thead>\n",
       "    <tr style=\"text-align: right;\">\n",
       "      <th></th>\n",
       "      <th>Name</th>\n",
       "      <th>wAV</th>\n",
       "      <th>Position</th>\n",
       "      <th>Height</th>\n",
       "      <th>Weight</th>\n",
       "      <th>College</th>\n",
       "      <th>Grade</th>\n",
       "      <th>Position Rank</th>\n",
       "      <th>Overall Rank</th>\n",
       "    </tr>\n",
       "  </thead>\n",
       "  <tbody>\n",
       "    <tr>\n",
       "      <th>5</th>\n",
       "      <td>Mike Adams</td>\n",
       "      <td>57</td>\n",
       "      <td>S</td>\n",
       "      <td>5'10¼\"</td>\n",
       "      <td>189</td>\n",
       "      <td>Delaware</td>\n",
       "      <td>30.0</td>\n",
       "      <td>34.0</td>\n",
       "      <td>NaN</td>\n",
       "    </tr>\n",
       "    <tr>\n",
       "      <th>8</th>\n",
       "      <td>Joseph Addai</td>\n",
       "      <td>50</td>\n",
       "      <td>RB</td>\n",
       "      <td>5'11¼\"</td>\n",
       "      <td>214</td>\n",
       "      <td>LSU</td>\n",
       "      <td>86.0</td>\n",
       "      <td>5.0</td>\n",
       "      <td>47.0</td>\n",
       "    </tr>\n",
       "    <tr>\n",
       "      <th>14</th>\n",
       "      <td>Branden Albert</td>\n",
       "      <td>41</td>\n",
       "      <td>OG</td>\n",
       "      <td>6'5⅝\"</td>\n",
       "      <td>309</td>\n",
       "      <td>Virginia</td>\n",
       "      <td>95.0</td>\n",
       "      <td>1.0</td>\n",
       "      <td>12.0</td>\n",
       "    </tr>\n",
       "    <tr>\n",
       "      <th>24</th>\n",
       "      <td>Jared Allen</td>\n",
       "      <td>101</td>\n",
       "      <td>DE</td>\n",
       "      <td>6'6\"</td>\n",
       "      <td>260</td>\n",
       "      <td>Idaho State</td>\n",
       "      <td>51.0</td>\n",
       "      <td>21.0</td>\n",
       "      <td>209.0</td>\n",
       "    </tr>\n",
       "    <tr>\n",
       "      <th>25</th>\n",
       "      <td>Jared Allen</td>\n",
       "      <td>101</td>\n",
       "      <td>QB</td>\n",
       "      <td>6'2¼\"</td>\n",
       "      <td>218</td>\n",
       "      <td>Florida Atlantic</td>\n",
       "      <td>33.0</td>\n",
       "      <td>21.0</td>\n",
       "      <td>326.0</td>\n",
       "    </tr>\n",
       "    <tr>\n",
       "      <th>27</th>\n",
       "      <td>Jonathan Allen</td>\n",
       "      <td>44</td>\n",
       "      <td>TE</td>\n",
       "      <td>6'3½\"</td>\n",
       "      <td>213</td>\n",
       "      <td>Norfolk State</td>\n",
       "      <td>30.0</td>\n",
       "      <td>35.0</td>\n",
       "      <td>NaN</td>\n",
       "    </tr>\n",
       "    <tr>\n",
       "      <th>36</th>\n",
       "      <td>Will Allen</td>\n",
       "      <td>41</td>\n",
       "      <td>DB</td>\n",
       "      <td>6'0½\"</td>\n",
       "      <td>202</td>\n",
       "      <td>Ohio State</td>\n",
       "      <td>73.0</td>\n",
       "      <td>6.0</td>\n",
       "      <td>95.0</td>\n",
       "    </tr>\n",
       "    <tr>\n",
       "      <th>72</th>\n",
       "      <td>Cliff Avril</td>\n",
       "      <td>51</td>\n",
       "      <td>DE</td>\n",
       "      <td>6'2⅞\"</td>\n",
       "      <td>253</td>\n",
       "      <td>Purdue</td>\n",
       "      <td>81.0</td>\n",
       "      <td>9.0</td>\n",
       "      <td>62.0</td>\n",
       "    </tr>\n",
       "    <tr>\n",
       "      <th>76</th>\n",
       "      <td>Jason Babin</td>\n",
       "      <td>46</td>\n",
       "      <td>LB</td>\n",
       "      <td>6'2⅝\"</td>\n",
       "      <td>258</td>\n",
       "      <td>Western Michigan</td>\n",
       "      <td>86.0</td>\n",
       "      <td>4.0</td>\n",
       "      <td>43.0</td>\n",
       "    </tr>\n",
       "    <tr>\n",
       "      <th>77</th>\n",
       "      <td>Jonathan Babineaux</td>\n",
       "      <td>52</td>\n",
       "      <td>DT</td>\n",
       "      <td>6'2⅛\"</td>\n",
       "      <td>286</td>\n",
       "      <td>Iowa</td>\n",
       "      <td>80.0</td>\n",
       "      <td>6.0</td>\n",
       "      <td>66.0</td>\n",
       "    </tr>\n",
       "    <tr>\n",
       "      <th>101</th>\n",
       "      <td>Khalif Barnes</td>\n",
       "      <td>51</td>\n",
       "      <td>OT</td>\n",
       "      <td>6'5¾\"</td>\n",
       "      <td>305</td>\n",
       "      <td>Washington</td>\n",
       "      <td>91.0</td>\n",
       "      <td>2.0</td>\n",
       "      <td>22.0</td>\n",
       "    </tr>\n",
       "    <tr>\n",
       "      <th>112</th>\n",
       "      <td>Connor Barwin</td>\n",
       "      <td>51</td>\n",
       "      <td>DE</td>\n",
       "      <td>6'3⅝\"</td>\n",
       "      <td>256</td>\n",
       "      <td>Cincinnati</td>\n",
       "      <td>85.0</td>\n",
       "      <td>7.0</td>\n",
       "      <td>47.0</td>\n",
       "    </tr>\n",
       "    <tr>\n",
       "      <th>124</th>\n",
       "      <td>Jon Beason</td>\n",
       "      <td>55</td>\n",
       "      <td>LB</td>\n",
       "      <td>6'0¼\"</td>\n",
       "      <td>237</td>\n",
       "      <td>Miami</td>\n",
       "      <td>91.0</td>\n",
       "      <td>2.0</td>\n",
       "      <td>27.0</td>\n",
       "    </tr>\n",
       "    <tr>\n",
       "      <th>143</th>\n",
       "      <td>Michael Bennett</td>\n",
       "      <td>57</td>\n",
       "      <td>DE</td>\n",
       "      <td>6'3½\"</td>\n",
       "      <td>274</td>\n",
       "      <td>Texas A&amp;M</td>\n",
       "      <td>70.0</td>\n",
       "      <td>12.0</td>\n",
       "      <td>99.0</td>\n",
       "    </tr>\n",
       "    <tr>\n",
       "      <th>152</th>\n",
       "      <td>Antoine Bethea</td>\n",
       "      <td>63</td>\n",
       "      <td>DB</td>\n",
       "      <td>5'11\"</td>\n",
       "      <td>203</td>\n",
       "      <td>Howard</td>\n",
       "      <td>48.0</td>\n",
       "      <td>17.0</td>\n",
       "      <td>NaN</td>\n",
       "    </tr>\n",
       "    <tr>\n",
       "      <th>164</th>\n",
       "      <td>Justin Blalock</td>\n",
       "      <td>55</td>\n",
       "      <td>OG</td>\n",
       "      <td>6'3¼\"</td>\n",
       "      <td>320</td>\n",
       "      <td>Texas</td>\n",
       "      <td>88.0</td>\n",
       "      <td>2.0</td>\n",
       "      <td>38.0</td>\n",
       "    </tr>\n",
       "    <tr>\n",
       "      <th>170</th>\n",
       "      <td>Michael Boley</td>\n",
       "      <td>41</td>\n",
       "      <td>LB</td>\n",
       "      <td>6'2¾\"</td>\n",
       "      <td>236</td>\n",
       "      <td>Southern Miss</td>\n",
       "      <td>77.0</td>\n",
       "      <td>5.0</td>\n",
       "      <td>83.0</td>\n",
       "    </tr>\n",
       "    <tr>\n",
       "      <th>180</th>\n",
       "      <td>Dwayne Bowe</td>\n",
       "      <td>50</td>\n",
       "      <td>WR</td>\n",
       "      <td>6'2¼\"</td>\n",
       "      <td>221</td>\n",
       "      <td>LSU</td>\n",
       "      <td>94.0</td>\n",
       "      <td>2.0</td>\n",
       "      <td>15.0</td>\n",
       "    </tr>\n",
       "    <tr>\n",
       "      <th>191</th>\n",
       "      <td>Sam Bradford</td>\n",
       "      <td>44</td>\n",
       "      <td>QB</td>\n",
       "      <td>--</td>\n",
       "      <td>218</td>\n",
       "      <td>Oklahoma</td>\n",
       "      <td>0.0</td>\n",
       "      <td>NaN</td>\n",
       "      <td>NaN</td>\n",
       "    </tr>\n",
       "    <tr>\n",
       "      <th>194</th>\n",
       "      <td>Ahmad Bradshaw</td>\n",
       "      <td>42</td>\n",
       "      <td>RB</td>\n",
       "      <td>5'9½\"</td>\n",
       "      <td>198</td>\n",
       "      <td>Marshall</td>\n",
       "      <td>54.0</td>\n",
       "      <td>15.0</td>\n",
       "      <td>176.0</td>\n",
       "    </tr>\n",
       "    <tr>\n",
       "      <th>195</th>\n",
       "      <td>Alan Branch</td>\n",
       "      <td>42</td>\n",
       "      <td>DT</td>\n",
       "      <td>6'5¾\"</td>\n",
       "      <td>324</td>\n",
       "      <td>Michigan</td>\n",
       "      <td>93.0</td>\n",
       "      <td>2.0</td>\n",
       "      <td>18.0</td>\n",
       "    </tr>\n",
       "    <tr>\n",
       "      <th>206</th>\n",
       "      <td>Justin Britt</td>\n",
       "      <td>41</td>\n",
       "      <td>OG</td>\n",
       "      <td>6'4\"</td>\n",
       "      <td>275</td>\n",
       "      <td>Alabama</td>\n",
       "      <td>30.0</td>\n",
       "      <td>43.0</td>\n",
       "      <td>NaN</td>\n",
       "    </tr>\n",
       "    <tr>\n",
       "      <th>216</th>\n",
       "      <td>Ahmad Brooks</td>\n",
       "      <td>54</td>\n",
       "      <td>ILB</td>\n",
       "      <td>--</td>\n",
       "      <td>247</td>\n",
       "      <td>Virginia</td>\n",
       "      <td>0.0</td>\n",
       "      <td>NaN</td>\n",
       "      <td>NaN</td>\n",
       "    </tr>\n",
       "    <tr>\n",
       "      <th>236</th>\n",
       "      <td>Duane Brown</td>\n",
       "      <td>90</td>\n",
       "      <td>OT</td>\n",
       "      <td>6'4⅛\"</td>\n",
       "      <td>315</td>\n",
       "      <td>Virginia Tech</td>\n",
       "      <td>82.0</td>\n",
       "      <td>7.0</td>\n",
       "      <td>58.0</td>\n",
       "    </tr>\n",
       "    <tr>\n",
       "      <th>239</th>\n",
       "      <td>Jammal Brown</td>\n",
       "      <td>49</td>\n",
       "      <td>OT</td>\n",
       "      <td>6'5⅞\"</td>\n",
       "      <td>316</td>\n",
       "      <td>Oklahoma</td>\n",
       "      <td>90.0</td>\n",
       "      <td>3.0</td>\n",
       "      <td>28.0</td>\n",
       "    </tr>\n",
       "    <tr>\n",
       "      <th>254</th>\n",
       "      <td>Ronnie Brown</td>\n",
       "      <td>41</td>\n",
       "      <td>RB</td>\n",
       "      <td>6'0¼\"</td>\n",
       "      <td>233</td>\n",
       "      <td>Auburn</td>\n",
       "      <td>98.0</td>\n",
       "      <td>1.0</td>\n",
       "      <td>4.0</td>\n",
       "    </tr>\n",
       "    <tr>\n",
       "      <th>289</th>\n",
       "      <td>Reggie Bush</td>\n",
       "      <td>61</td>\n",
       "      <td>RB</td>\n",
       "      <td>5'10⅞\"</td>\n",
       "      <td>201</td>\n",
       "      <td>USC</td>\n",
       "      <td>99.0</td>\n",
       "      <td>1.0</td>\n",
       "      <td>1.0</td>\n",
       "    </tr>\n",
       "    <tr>\n",
       "      <th>290</th>\n",
       "      <td>Jermon Bushrod</td>\n",
       "      <td>62</td>\n",
       "      <td>OT</td>\n",
       "      <td>6'4⅜\"</td>\n",
       "      <td>315</td>\n",
       "      <td>Towson</td>\n",
       "      <td>54.0</td>\n",
       "      <td>15.0</td>\n",
       "      <td>175.0</td>\n",
       "    </tr>\n",
       "  </tbody>\n",
       "</table>\n",
       "</div>"
      ],
      "text/plain": [
       "                   Name  wAV Position  Height Weight           College  Grade  \\\n",
       "5            Mike Adams   57        S  5'10¼\"    189          Delaware   30.0   \n",
       "8          Joseph Addai   50       RB  5'11¼\"    214               LSU   86.0   \n",
       "14       Branden Albert   41       OG   6'5⅝\"    309          Virginia   95.0   \n",
       "24          Jared Allen  101       DE    6'6\"    260       Idaho State   51.0   \n",
       "25          Jared Allen  101       QB   6'2¼\"    218  Florida Atlantic   33.0   \n",
       "27       Jonathan Allen   44       TE   6'3½\"    213     Norfolk State   30.0   \n",
       "36           Will Allen   41       DB   6'0½\"    202        Ohio State   73.0   \n",
       "72          Cliff Avril   51       DE   6'2⅞\"    253            Purdue   81.0   \n",
       "76          Jason Babin   46       LB   6'2⅝\"    258  Western Michigan   86.0   \n",
       "77   Jonathan Babineaux   52       DT   6'2⅛\"    286              Iowa   80.0   \n",
       "101       Khalif Barnes   51       OT   6'5¾\"    305        Washington   91.0   \n",
       "112       Connor Barwin   51       DE   6'3⅝\"    256        Cincinnati   85.0   \n",
       "124          Jon Beason   55       LB   6'0¼\"    237             Miami   91.0   \n",
       "143     Michael Bennett   57       DE   6'3½\"    274         Texas A&M   70.0   \n",
       "152      Antoine Bethea   63       DB   5'11\"    203            Howard   48.0   \n",
       "164      Justin Blalock   55       OG   6'3¼\"    320             Texas   88.0   \n",
       "170       Michael Boley   41       LB   6'2¾\"    236     Southern Miss   77.0   \n",
       "180         Dwayne Bowe   50       WR   6'2¼\"    221               LSU   94.0   \n",
       "191        Sam Bradford   44       QB      --    218          Oklahoma    0.0   \n",
       "194      Ahmad Bradshaw   42       RB   5'9½\"    198          Marshall   54.0   \n",
       "195         Alan Branch   42       DT   6'5¾\"    324          Michigan   93.0   \n",
       "206        Justin Britt   41       OG    6'4\"    275           Alabama   30.0   \n",
       "216        Ahmad Brooks   54      ILB      --    247          Virginia    0.0   \n",
       "236         Duane Brown   90       OT   6'4⅛\"    315     Virginia Tech   82.0   \n",
       "239        Jammal Brown   49       OT   6'5⅞\"    316          Oklahoma   90.0   \n",
       "254        Ronnie Brown   41       RB   6'0¼\"    233            Auburn   98.0   \n",
       "289         Reggie Bush   61       RB  5'10⅞\"    201               USC   99.0   \n",
       "290      Jermon Bushrod   62       OT   6'4⅜\"    315            Towson   54.0   \n",
       "\n",
       "     Position Rank  Overall Rank  \n",
       "5             34.0           NaN  \n",
       "8              5.0          47.0  \n",
       "14             1.0          12.0  \n",
       "24            21.0         209.0  \n",
       "25            21.0         326.0  \n",
       "27            35.0           NaN  \n",
       "36             6.0          95.0  \n",
       "72             9.0          62.0  \n",
       "76             4.0          43.0  \n",
       "77             6.0          66.0  \n",
       "101            2.0          22.0  \n",
       "112            7.0          47.0  \n",
       "124            2.0          27.0  \n",
       "143           12.0          99.0  \n",
       "152           17.0           NaN  \n",
       "164            2.0          38.0  \n",
       "170            5.0          83.0  \n",
       "180            2.0          15.0  \n",
       "191            NaN           NaN  \n",
       "194           15.0         176.0  \n",
       "195            2.0          18.0  \n",
       "206           43.0           NaN  \n",
       "216            NaN           NaN  \n",
       "236            7.0          58.0  \n",
       "239            3.0          28.0  \n",
       "254            1.0           4.0  \n",
       "289            1.0           1.0  \n",
       "290           15.0         175.0  "
      ]
     },
     "execution_count": 242,
     "metadata": {},
     "output_type": "execute_result"
    }
   ],
   "source": [
    "new_df.loc[new_df['wAV'] > 40]"
   ]
  },
  {
   "cell_type": "code",
   "execution_count": null,
   "id": "82afed1e",
   "metadata": {},
   "outputs": [],
   "source": [
    "nfl_combine = pd.read_excel('NFL Combine Data.xlsx')\n",
    "nfl_combine\n",
    "new_df = pd.merge(wAV_df,nfl_combine, left_on=\"Name\",right_on=\"Name\", how = 'left')\n",
    "new_df"
   ]
  },
  {
   "cell_type": "code",
   "execution_count": null,
   "id": "fcfdbbc8",
   "metadata": {},
   "outputs": [],
   "source": []
  },
  {
   "cell_type": "code",
   "execution_count": null,
   "id": "45a0c407",
   "metadata": {},
   "outputs": [],
   "source": []
  },
  {
   "cell_type": "code",
   "execution_count": null,
   "id": "9ffc30c6",
   "metadata": {},
   "outputs": [],
   "source": []
  },
  {
   "cell_type": "code",
   "execution_count": null,
   "id": "5a23dc55",
   "metadata": {},
   "outputs": [],
   "source": []
  },
  {
   "cell_type": "code",
   "execution_count": null,
   "id": "61487168",
   "metadata": {},
   "outputs": [],
   "source": []
  },
  {
   "cell_type": "code",
   "execution_count": null,
   "id": "71b35b99",
   "metadata": {},
   "outputs": [],
   "source": []
  },
  {
   "cell_type": "code",
   "execution_count": null,
   "id": "f1fcfb74",
   "metadata": {},
   "outputs": [],
   "source": []
  },
  {
   "cell_type": "code",
   "execution_count": null,
   "id": "5f561124",
   "metadata": {},
   "outputs": [],
   "source": []
  },
  {
   "cell_type": "code",
   "execution_count": null,
   "id": "71ae74ce",
   "metadata": {},
   "outputs": [],
   "source": []
  },
  {
   "cell_type": "code",
   "execution_count": null,
   "id": "95f3ae56",
   "metadata": {},
   "outputs": [],
   "source": []
  },
  {
   "cell_type": "code",
   "execution_count": null,
   "id": "6fb36c70",
   "metadata": {},
   "outputs": [],
   "source": []
  },
  {
   "cell_type": "code",
   "execution_count": null,
   "id": "5f7609ed",
   "metadata": {},
   "outputs": [],
   "source": []
  },
  {
   "cell_type": "code",
   "execution_count": null,
   "id": "1c3cad6e",
   "metadata": {},
   "outputs": [],
   "source": []
  },
  {
   "cell_type": "code",
   "execution_count": null,
   "id": "dbbe3c3e",
   "metadata": {},
   "outputs": [],
   "source": []
  },
  {
   "cell_type": "code",
   "execution_count": null,
   "id": "5fb3df37",
   "metadata": {},
   "outputs": [],
   "source": []
  },
  {
   "cell_type": "code",
   "execution_count": null,
   "id": "e7627e90",
   "metadata": {},
   "outputs": [],
   "source": []
  },
  {
   "cell_type": "code",
   "execution_count": null,
   "id": "9d5379c1",
   "metadata": {},
   "outputs": [],
   "source": []
  }
 ],
 "metadata": {
  "kernelspec": {
   "display_name": "Python 3 (ipykernel)",
   "language": "python",
   "name": "python3"
  },
  "language_info": {
   "codemirror_mode": {
    "name": "ipython",
    "version": 3
   },
   "file_extension": ".py",
   "mimetype": "text/x-python",
   "name": "python",
   "nbconvert_exporter": "python",
   "pygments_lexer": "ipython3",
   "version": "3.9.13"
  }
 },
 "nbformat": 4,
 "nbformat_minor": 5
}
