{
 "cells": [
  {
   "cell_type": "code",
   "execution_count": 53,
   "id": "04efced4",
   "metadata": {},
   "outputs": [],
   "source": [
    "import pandas as pd\n",
    "import numpy as np\n",
    "import requests\n",
    "import string\n",
    "from bs4 import BeautifulSoup\n",
    "import sportsdataverse\n",
    "from urllib.request import urlopen\n",
    "from itertools import product\n",
    "from string import ascii_lowercase\n",
    "import gc\n",
    "from time import sleep"
   ]
  },
  {
   "cell_type": "code",
   "execution_count": 35,
   "id": "5febe3f2",
   "metadata": {},
   "outputs": [],
   "source": [
    "# df = pd.read_csv('Aurls.csv')\n",
    "# df"
   ]
  },
  {
   "cell_type": "code",
   "execution_count": null,
   "id": "a343189a",
   "metadata": {},
   "outputs": [],
   "source": [
    "first_list = df['0'][461034:461036].values"
   ]
  },
  {
   "cell_type": "code",
   "execution_count": 5,
   "id": "32437f55",
   "metadata": {},
   "outputs": [],
   "source": [
    "\n",
    "def wAV_extract(url):\n",
    "        df2 = pd.DataFrame(None, columns =('name','wAV'))\n",
    "        html = urlopen(url)\n",
    "        stats_page = BeautifulSoup(html)\n",
    "        playerName = stats_page.h1.get_text()\n",
    "        playerName = playerName.strip()\n",
    "        wAV = stats_page(text=lambda t: \"since 1960\" in t.text)\n",
    "        wAV = str(wAV)\n",
    "        wAV = wAV.split()[1]\n",
    "        stats = {\"name\" :playerName, \"wAV\" : wAV}\n",
    "        df2 = df2.append(stats, ignore_index=True)\n",
    "        df2.to_csv('playerswAV.csv', mode='a', header=False)\n",
    "        print(df2)\n"
   ]
  },
  {
   "cell_type": "code",
   "execution_count": null,
   "id": "acb36dc4",
   "metadata": {},
   "outputs": [],
   "source": [
    "wAV_extract('https://www.pro-football-reference.com/players/B/BailDa00.htm')"
   ]
  },
  {
   "cell_type": "code",
   "execution_count": null,
   "id": "12f28840",
   "metadata": {},
   "outputs": [],
   "source": [
    "first_list[0]"
   ]
  },
  {
   "cell_type": "code",
   "execution_count": null,
   "id": "6352b446",
   "metadata": {},
   "outputs": [],
   "source": [
    "for x in first_list:\n",
    "    wAV_extract(x)"
   ]
  },
  {
   "cell_type": "code",
   "execution_count": null,
   "id": "bc1932ca",
   "metadata": {},
   "outputs": [],
   "source": [
    "https://www.pro-football-reference.com/players/A/AaitIs00.htm"
   ]
  },
  {
   "cell_type": "code",
   "execution_count": null,
   "id": "4ca8dfac",
   "metadata": {},
   "outputs": [],
   "source": []
  },
  {
   "cell_type": "code",
   "execution_count": null,
   "id": "bacf26b9",
   "metadata": {},
   "outputs": [],
   "source": []
  },
  {
   "cell_type": "code",
   "execution_count": 83,
   "id": "111fcf83",
   "metadata": {},
   "outputs": [],
   "source": [
    "urls = ['https://www.pro-football-reference.com/players/C/ClarKe22.htm',\n",
    "        'https://www.pro-football-reference.com/players/C/ClarKe01.htm',\n",
    "        'https://www.pro-football-reference.com/players/C/ClarLe01.htm',\n",
    "        'https://www.pro-football-reference.com/players/C/ClarMi00.htm',\n",
    "        'https://www.pro-football-reference.com/players/C/ClarRy20.htm',\n",
    "        'https://www.pro-football-reference.com/players/C/ClarAd20.htm',\n",
    "        'https://www.pro-football-reference.com/players/C/ClarWi00.htm',\n",
    "        'https://www.pro-football-reference.com/players/C/ClarJe20.htm',\n",
    "        'https://www.pro-football-reference.com/players/C/ClauBl01.htm',\n",
    "        'https://www.pro-football-reference.com/players/C/ClauJi00.htm',\n",
    "        'https://www.pro-football-reference.com/players/C/ClauJa20.htm',\n",
    "        'https://www.pro-football-reference.com/players/C/ClaxBe20.htm',\n",
    "        'https://www.pro-football-reference.com/players/C/ClayCh00.htm',\n",
    "        'https://www.pro-football-reference.com/players/C/ClayJo00.htm',\n",
    "        'https://www.pro-football-reference.com/players/C/ClayKa00.htm',\n",
    "        'https://www.pro-football-reference.com/players/C/ClayAd00.htm',\n",
    "        'https://www.pro-football-reference.com/players/C/ClayDe20.htm',\n",
    "        'https://www.pro-football-reference.com/players/C/ClayFe20.htm',\n",
    "        'https://www.pro-football-reference.com/players/C/ClayCa20.htm',\n",
    "        'https://www.pro-football-reference.com/players/C/ClayKe99.htm',\n",
    "        'https://www.pro-football-reference.com/players/C/ClayMa01.htm',\n",
    "        'https://www.pro-football-reference.com/players/C/ClayMi00.htm',\n",
    "        'https://www.pro-football-reference.com/players/C/ClayTh00.htm',\n",
    "        'https://www.pro-football-reference.com/players/C/ClayZa00.htm',\n",
    "        'https://www.pro-football-reference.com/players/C/CleaEm01.htm',\n",
    "        'https://www.pro-football-reference.com/players/C/ClemKe00.htm',\n",
    "        'https://www.pro-football-reference.com/players/C/ClemCo00.htm',\n",
    "        'https://www.pro-football-reference.com/players/C/ClemCh00.htm',\n",
    "        'https://www.pro-football-reference.com/players/C/ClemNa99.htm',\n",
    "        'https://www.pro-football-reference.com/players/C/ClemT.00.htm',\n",
    "        'https://www.pro-football-reference.com/players/C/ClemCh23.htm',\n",
    "        'https://www.pro-football-reference.com/players/C/ClemCh97.htm',\n",
    "        'https://www.pro-football-reference.com/players/C/ClemNi20.htm',\n",
    "        'https://www.pro-football-reference.com/players/C/ClemTo00.htm',\n",
    "        'https://www.pro-football-reference.com/players/C/ClevAs00.htm',\n",
    "        'https://www.pro-football-reference.com/players/C/ClifCh20.htm',\n",
    "        'https://www.pro-football-reference.com/players/C/ClinHa00.htm',\n",
    "        'https://www.pro-football-reference.com/players/C/ClohCo00.htm',\n",
    "        'https://www.pro-football-reference.com/players/C/ClowDa00.htm',\n",
    "        'https://www.pro-football-reference.com/players/C/ClowJa00.htm',\n",
    "        'https://www.pro-football-reference.com/players/C/ClutTy00.htm',\n",
    "        'https://www.pro-football-reference.com/players/C/CoatSa00.htm',\n",
    "        'https://www.pro-football-reference.com/players/C/CoatSh20.htm',\n",
    "        'https://www.pro-football-reference.com/players/C/CoatDa00.htm',\n",
    "        'https://www.pro-football-reference.com/players/C/CobbDa00.htm',\n",
    "        'https://www.pro-football-reference.com/players/C/CobbDe00.htm',\n",
    "        'https://www.pro-football-reference.com/players/C/CobbRa00.htm',\n",
    "        'https://www.pro-football-reference.com/players/C/CobbCe00.htm',\n",
    "        'https://www.pro-football-reference.com/players/C/CobbPa00.htm',\n",
    "        'https://www.pro-football-reference.com/players/C/CobbR.20.htm',\n",
    "        'https://www.pro-football-reference.com/players/C/CoboAv00.htm',\n",
    "        'https://www.pro-football-reference.com/players/C/CochCo00.htm'\n",
    "        \n",
    "       ]"
   ]
  },
  {
   "cell_type": "code",
   "execution_count": 84,
   "id": "36ec5d01",
   "metadata": {},
   "outputs": [
    {
     "name": "stdout",
     "output_type": "stream",
     "text": [
      "           name wAV\n",
      "0  Brad Cieslak   0\n",
      "            name wAV\n",
      "0  Vinny Ciurciu   9\n",
      "          name wAV\n",
      "0  Tyson Clabo  54\n",
      "         name wAV\n",
      "0  Ryan Clady  65\n",
      "               name wAV\n",
      "0  Morris Claiborne  25\n",
      "              name wAV\n",
      "0  Kendrick Clancy  24\n",
      "         name wAV\n",
      "0  Will Clapp   7\n",
      "              name wAV\n",
      "0  Travis Claridge  23\n",
      "          name wAV\n",
      "0  Brian Clark   0\n",
      "          name wAV\n",
      "0  Chris Clark  36\n",
      "          name wAV\n",
      "0  Chuck Clark  27\n",
      "          name wAV\n",
      "0  Corey Clark   0\n",
      "           name wAV\n",
      "0  Dallas Clark  51\n",
      "          name wAV\n",
      "0  Danny Clark  39\n",
      "           name wAV\n",
      "0  Darius Clark   0\n",
      "          name wAV\n",
      "0  Devin Clark   0\n",
      "          name wAV\n",
      "0  Frank Clark  49\n",
      "           name wAV\n",
      "0  Jeremy Clark   0\n",
      "           name wAV\n",
      "0  Jeremy Clark   0\n"
     ]
    }
   ],
   "source": [
    "for x in urls:\n",
    "    wAV_extract(x)\n",
    "    sleep(5)"
   ]
  },
  {
   "cell_type": "code",
   "execution_count": 77,
   "id": "25afd21c",
   "metadata": {},
   "outputs": [],
   "source": [
    "import warnings\n",
    "warnings.filterwarnings(\"ignore\")\n"
   ]
  },
  {
   "cell_type": "code",
   "execution_count": null,
   "id": "07bb8bdf",
   "metadata": {},
   "outputs": [],
   "source": []
  },
  {
   "cell_type": "code",
   "execution_count": 46,
   "id": "64ad2c3f",
   "metadata": {},
   "outputs": [],
   "source": []
  },
  {
   "cell_type": "code",
   "execution_count": null,
   "id": "17259aec",
   "metadata": {},
   "outputs": [],
   "source": []
  },
  {
   "cell_type": "code",
   "execution_count": null,
   "id": "c4e0352d",
   "metadata": {},
   "outputs": [],
   "source": []
  }
 ],
 "metadata": {
  "kernelspec": {
   "display_name": "Python 3 (ipykernel)",
   "language": "python",
   "name": "python3"
  },
  "language_info": {
   "codemirror_mode": {
    "name": "ipython",
    "version": 3
   },
   "file_extension": ".py",
   "mimetype": "text/x-python",
   "name": "python",
   "nbconvert_exporter": "python",
   "pygments_lexer": "ipython3",
   "version": "3.9.13"
  }
 },
 "nbformat": 4,
 "nbformat_minor": 5
}
