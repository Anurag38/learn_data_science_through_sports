{
 "cells": [
  {
   "cell_type": "code",
   "execution_count": 53,
   "id": "04efced4",
   "metadata": {},
   "outputs": [],
   "source": [
    "import pandas as pd\n",
    "import numpy as np\n",
    "import requests\n",
    "import string\n",
    "from bs4 import BeautifulSoup\n",
    "import sportsdataverse\n",
    "from urllib.request import urlopen\n",
    "from itertools import product\n",
    "from string import ascii_lowercase\n",
    "import gc\n",
    "from time import sleep"
   ]
  },
  {
   "cell_type": "code",
   "execution_count": 35,
   "id": "5febe3f2",
   "metadata": {},
   "outputs": [],
   "source": [
    "# df = pd.read_csv('Aurls.csv')\n",
    "# df"
   ]
  },
  {
   "cell_type": "code",
   "execution_count": null,
   "id": "a343189a",
   "metadata": {},
   "outputs": [],
   "source": [
    "first_list = df['0'][461034:461036].values"
   ]
  },
  {
   "cell_type": "code",
   "execution_count": 5,
   "id": "32437f55",
   "metadata": {},
   "outputs": [],
   "source": [
    "\n",
    "def wAV_extract(url):\n",
    "        df2 = pd.DataFrame(None, columns =('name','wAV'))\n",
    "        html = urlopen(url)\n",
    "        stats_page = BeautifulSoup(html)\n",
    "        playerName = stats_page.h1.get_text()\n",
    "        playerName = playerName.strip()\n",
    "        wAV = stats_page(text=lambda t: \"since 1960\" in t.text)\n",
    "        wAV = str(wAV)\n",
    "        wAV = wAV.split()[1]\n",
    "        stats = {\"name\" :playerName, \"wAV\" : wAV}\n",
    "        df2 = df2.append(stats, ignore_index=True)\n",
    "        df2.to_csv('playerswAV.csv', mode='a', header=False)\n",
    "        print(df2)\n"
   ]
  },
  {
   "cell_type": "code",
   "execution_count": null,
   "id": "acb36dc4",
   "metadata": {},
   "outputs": [],
   "source": [
    "wAV_extract('https://www.pro-football-reference.com/players/B/BailDa00.htm')"
   ]
  },
  {
   "cell_type": "code",
   "execution_count": null,
   "id": "12f28840",
   "metadata": {},
   "outputs": [],
   "source": [
    "first_list[0]"
   ]
  },
  {
   "cell_type": "code",
   "execution_count": null,
   "id": "6352b446",
   "metadata": {},
   "outputs": [],
   "source": [
    "for x in first_list:\n",
    "    wAV_extract(x)"
   ]
  },
  {
   "cell_type": "code",
   "execution_count": null,
   "id": "bc1932ca",
   "metadata": {},
   "outputs": [],
   "source": [
    "https://www.pro-football-reference.com/players/A/AaitIs00.htm"
   ]
  },
  {
   "cell_type": "code",
   "execution_count": null,
   "id": "4ca8dfac",
   "metadata": {},
   "outputs": [],
   "source": []
  },
  {
   "cell_type": "code",
   "execution_count": null,
   "id": "bacf26b9",
   "metadata": {},
   "outputs": [],
   "source": []
  },
  {
   "cell_type": "code",
   "execution_count": 72,
   "id": "111fcf83",
   "metadata": {},
   "outputs": [],
   "source": [
    "urls = ['https://www.pro-football-reference.com/players/Y/Ya-SRo00.htm',\n",
    "        'https://www.pro-football-reference.com/players/Y/YamiBa20.htm',\n",
    "        'https://www.pro-football-reference.com/players/Y/YandMa20.htm',\n",
    "        'https://www.pro-football-reference.com/players/Y/YankDa00.htm',\n",
    "        'https://www.pro-football-reference.com/players/Y/YarbEd01.htm',\n",
    "        'https://www.pro-football-reference.com/players/Y/YateBi20.htm',\n",
    "        'https://www.pro-football-reference.com/players/Y/YateMa20.htm',\n",
    "        'https://www.pro-football-reference.com/players/Y/YateT.00.htm',\n",
    "        'https://www.pro-football-reference.com/players/Y/YeatWi00.htm',\n",
    "        'https://www.pro-football-reference.com/players/Y/YeldDe00.htm',\n",
    "        'https://www.pro-football-reference.com/players/Y/YeldT.00.htm',\n",
    "        'https://www.pro-football-reference.com/players/Y/YiadIs00.htm',\n",
    "        'https://www.pro-football-reference.com/players/Y/YodeTo00.htm',\n",
    "        'https://www.pro-football-reference.com/players/Y/YoubAs20.htm',\n",
    "        'https://www.pro-football-reference.com/players/Y/YounAl01.htm',\n",
    "        'https://www.pro-football-reference.com/players/Y/YounBr20.htm',\n",
    "        'https://www.pro-football-reference.com/players/Y/YounCh20.htm',\n",
    "        'https://www.pro-football-reference.com/players/Y/YounDa01.htm',\n",
    "        'https://www.pro-football-reference.com/players/Y/YounDa20.htm',\n",
    "        'https://www.pro-football-reference.com/players/Y/YounKe03.htm',\n",
    "        'https://www.pro-football-reference.com/players/Y/YounLo00.htm',\n",
    "        'https://www.pro-football-reference.com/players/Y/YounMi20.htm',\n",
    "        'https://www.pro-football-reference.com/players/Y/YounSa21.htm',\n",
    "        'https://www.pro-football-reference.com/players/Y/YounSc20.htm',\n",
    "        '',\n",
    "        '',\n",
    "        '',\n",
    "        ''\n",
    "           \n",
    "        \n",
    "        \n",
    "       ]"
   ]
  },
  {
   "cell_type": "code",
   "execution_count": 73,
   "id": "bbb70228",
   "metadata": {},
   "outputs": [
    {
     "name": "stderr",
     "output_type": "stream",
     "text": [
      "C:\\Users\\antve\\AppData\\Local\\Temp\\ipykernel_31828\\2121620167.py:11: FutureWarning: The frame.append method is deprecated and will be removed from pandas in a future version. Use pandas.concat instead.\n",
      "  df2 = df2.append(stats, ignore_index=True)\n"
     ]
    },
    {
     "name": "stdout",
     "output_type": "stream",
     "text": [
      "                name wAV\n",
      "0  Olamide Zaccheaus  12\n"
     ]
    },
    {
     "name": "stderr",
     "output_type": "stream",
     "text": [
      "C:\\Users\\antve\\AppData\\Local\\Temp\\ipykernel_31828\\2121620167.py:11: FutureWarning: The frame.append method is deprecated and will be removed from pandas in a future version. Use pandas.concat instead.\n",
      "  df2 = df2.append(stats, ignore_index=True)\n"
     ]
    },
    {
     "name": "stdout",
     "output_type": "stream",
     "text": [
      "            name wAV\n",
      "0  Dave Zastudil  18\n"
     ]
    },
    {
     "name": "stderr",
     "output_type": "stream",
     "text": [
      "C:\\Users\\antve\\AppData\\Local\\Temp\\ipykernel_31828\\2121620167.py:11: FutureWarning: The frame.append method is deprecated and will be removed from pandas in a future version. Use pandas.concat instead.\n",
      "  df2 = df2.append(stats, ignore_index=True)\n"
     ]
    },
    {
     "name": "stdout",
     "output_type": "stream",
     "text": [
      "            name wAV\n",
      "0  Tom Zbikowski  11\n"
     ]
    },
    {
     "name": "stderr",
     "output_type": "stream",
     "text": [
      "C:\\Users\\antve\\AppData\\Local\\Temp\\ipykernel_31828\\2121620167.py:11: FutureWarning: The frame.append method is deprecated and will be removed from pandas in a future version. Use pandas.concat instead.\n",
      "  df2 = df2.append(stats, ignore_index=True)\n"
     ]
    },
    {
     "name": "stdout",
     "output_type": "stream",
     "text": [
      "                name wAV\n",
      "0  Dominique Zeigler   2\n"
     ]
    },
    {
     "name": "stderr",
     "output_type": "stream",
     "text": [
      "C:\\Users\\antve\\AppData\\Local\\Temp\\ipykernel_31828\\2121620167.py:11: FutureWarning: The frame.append method is deprecated and will be removed from pandas in a future version. Use pandas.concat instead.\n",
      "  df2 = df2.append(stats, ignore_index=True)\n"
     ]
    },
    {
     "name": "stdout",
     "output_type": "stream",
     "text": [
      "            name wAV\n",
      "0  Kevin Zeitler  56\n"
     ]
    },
    {
     "name": "stderr",
     "output_type": "stream",
     "text": [
      "C:\\Users\\antve\\AppData\\Local\\Temp\\ipykernel_31828\\2121620167.py:11: FutureWarning: The frame.append method is deprecated and will be removed from pandas in a future version. Use pandas.concat instead.\n",
      "  df2 = df2.append(stats, ignore_index=True)\n"
     ]
    },
    {
     "name": "stdout",
     "output_type": "stream",
     "text": [
      "          name wAV\n",
      "0  Zach Zenner   6\n"
     ]
    },
    {
     "name": "stderr",
     "output_type": "stream",
     "text": [
      "C:\\Users\\antve\\AppData\\Local\\Temp\\ipykernel_31828\\2121620167.py:11: FutureWarning: The frame.append method is deprecated and will be removed from pandas in a future version. Use pandas.concat instead.\n",
      "  df2 = df2.append(stats, ignore_index=True)\n"
     ]
    },
    {
     "name": "stdout",
     "output_type": "stream",
     "text": [
      "             name wAV\n",
      "0  Anthony Zettel   9\n"
     ]
    },
    {
     "name": "stderr",
     "output_type": "stream",
     "text": [
      "C:\\Users\\antve\\AppData\\Local\\Temp\\ipykernel_31828\\2121620167.py:11: FutureWarning: The frame.append method is deprecated and will be removed from pandas in a future version. Use pandas.concat instead.\n",
      "  df2 = df2.append(stats, ignore_index=True)\n"
     ]
    },
    {
     "name": "stdout",
     "output_type": "stream",
     "text": [
      "            name wAV\n",
      "0  Chris Ziemann   1\n"
     ]
    },
    {
     "name": "stderr",
     "output_type": "stream",
     "text": [
      "C:\\Users\\antve\\AppData\\Local\\Temp\\ipykernel_31828\\2121620167.py:11: FutureWarning: The frame.append method is deprecated and will be removed from pandas in a future version. Use pandas.concat instead.\n",
      "  df2 = df2.append(stats, ignore_index=True)\n"
     ]
    },
    {
     "name": "stdout",
     "output_type": "stream",
     "text": [
      "         name wAV\n",
      "0  Lee Ziemba   1\n"
     ]
    },
    {
     "name": "stderr",
     "output_type": "stream",
     "text": [
      "C:\\Users\\antve\\AppData\\Local\\Temp\\ipykernel_31828\\2121620167.py:11: FutureWarning: The frame.append method is deprecated and will be removed from pandas in a future version. Use pandas.concat instead.\n",
      "  df2 = df2.append(stats, ignore_index=True)\n"
     ]
    },
    {
     "name": "stdout",
     "output_type": "stream",
     "text": [
      "            name wAV\n",
      "0  Justin Zimmer   3\n"
     ]
    },
    {
     "name": "stderr",
     "output_type": "stream",
     "text": [
      "C:\\Users\\antve\\AppData\\Local\\Temp\\ipykernel_31828\\2121620167.py:11: FutureWarning: The frame.append method is deprecated and will be removed from pandas in a future version. Use pandas.concat instead.\n",
      "  df2 = df2.append(stats, ignore_index=True)\n"
     ]
    },
    {
     "name": "stdout",
     "output_type": "stream",
     "text": [
      "           name wAV\n",
      "0  Keith Zinger   0\n"
     ]
    },
    {
     "name": "stderr",
     "output_type": "stream",
     "text": [
      "C:\\Users\\antve\\AppData\\Local\\Temp\\ipykernel_31828\\2121620167.py:11: FutureWarning: The frame.append method is deprecated and will be removed from pandas in a future version. Use pandas.concat instead.\n",
      "  df2 = df2.append(stats, ignore_index=True)\n"
     ]
    },
    {
     "name": "stdout",
     "output_type": "stream",
     "text": [
      "          name wAV\n",
      "0  Frank Zombo  23\n"
     ]
    },
    {
     "name": "stderr",
     "output_type": "stream",
     "text": [
      "C:\\Users\\antve\\AppData\\Local\\Temp\\ipykernel_31828\\2121620167.py:11: FutureWarning: The frame.append method is deprecated and will be removed from pandas in a future version. Use pandas.concat instead.\n",
      "  df2 = df2.append(stats, ignore_index=True)\n"
     ]
    },
    {
     "name": "stdout",
     "output_type": "stream",
     "text": [
      "            name wAV\n",
      "0  Greg Zuerlein  26\n"
     ]
    },
    {
     "name": "stderr",
     "output_type": "stream",
     "text": [
      "C:\\Users\\antve\\AppData\\Local\\Temp\\ipykernel_31828\\2121620167.py:11: FutureWarning: The frame.append method is deprecated and will be removed from pandas in a future version. Use pandas.concat instead.\n",
      "  df2 = df2.append(stats, ignore_index=True)\n"
     ]
    },
    {
     "name": "stdout",
     "output_type": "stream",
     "text": [
      "             name wAV\n",
      "0  Paul Zukauskas   9\n"
     ]
    },
    {
     "name": "stderr",
     "output_type": "stream",
     "text": [
      "C:\\Users\\antve\\AppData\\Local\\Temp\\ipykernel_31828\\2121620167.py:11: FutureWarning: The frame.append method is deprecated and will be removed from pandas in a future version. Use pandas.concat instead.\n",
      "  df2 = df2.append(stats, ignore_index=True)\n"
     ]
    },
    {
     "name": "stdout",
     "output_type": "stream",
     "text": [
      "            name wAV\n",
      "0  Jeremy Zuttah  46\n"
     ]
    },
    {
     "name": "stderr",
     "output_type": "stream",
     "text": [
      "C:\\Users\\antve\\AppData\\Local\\Temp\\ipykernel_31828\\2121620167.py:11: FutureWarning: The frame.append method is deprecated and will be removed from pandas in a future version. Use pandas.concat instead.\n",
      "  df2 = df2.append(stats, ignore_index=True)\n"
     ]
    },
    {
     "name": "stdout",
     "output_type": "stream",
     "text": [
      "              name wAV\n",
      "0  Brandon Zylstra   3\n"
     ]
    }
   ],
   "source": [
    "for x in urls:\n",
    "    wAV_extract(x)\n",
    "    sleep(5)"
   ]
  },
  {
   "cell_type": "code",
   "execution_count": null,
   "id": "b449a7aa",
   "metadata": {},
   "outputs": [],
   "source": []
  },
  {
   "cell_type": "code",
   "execution_count": null,
   "id": "f6e7f886",
   "metadata": {},
   "outputs": [],
   "source": []
  },
  {
   "cell_type": "code",
   "execution_count": 46,
   "id": "0aef046d",
   "metadata": {},
   "outputs": [],
   "source": []
  },
  {
   "cell_type": "code",
   "execution_count": null,
   "id": "303c0269",
   "metadata": {},
   "outputs": [],
   "source": []
  },
  {
   "cell_type": "code",
   "execution_count": null,
   "id": "2eb3ea70",
   "metadata": {},
   "outputs": [],
   "source": []
  }
 ],
 "metadata": {
  "kernelspec": {
   "display_name": "Python 3 (ipykernel)",
   "language": "python",
   "name": "python3"
  },
  "language_info": {
   "codemirror_mode": {
    "name": "ipython",
    "version": 3
   },
   "file_extension": ".py",
   "mimetype": "text/x-python",
   "name": "python",
   "nbconvert_exporter": "python",
   "pygments_lexer": "ipython3",
   "version": "3.9.13"
  }
 },
 "nbformat": 4,
 "nbformat_minor": 5
}
