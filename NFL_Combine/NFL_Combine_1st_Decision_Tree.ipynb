{
 "cells": [
  {
   "cell_type": "code",
   "execution_count": 13,
   "id": "b0dc8b99",
   "metadata": {},
   "outputs": [],
   "source": [
    "import pandas as pd\n",
    "import numpy as np\n",
    "import matplotlib.pyplot as plt\n",
    "\n",
    "from sklearn.model_selection import train_test_split\n",
    "from sklearn.tree import DecisionTreeClassifier\n",
    "from sklearn.metrics import accuracy_score\n",
    "from sklearn import tree"
   ]
  },
  {
   "cell_type": "markdown",
   "id": "b43385b9",
   "metadata": {},
   "source": [
    "# Will a Player get Drafted?"
   ]
  },
  {
   "cell_type": "markdown",
   "id": "99ca1043",
   "metadata": {},
   "source": [
    "# Why use a Decision Tree?"
   ]
  },
  {
   "cell_type": "markdown",
   "id": "c448905b",
   "metadata": {},
   "source": [
    "Here we are going to build a model that predicts whether or not a player will be drafted based on their combine performance (a binary outcome). Decision Trees are often used forbinary classification tasks because they are relatively easy to interpret and can handle a large number of input features. Additionally, they bring insight to feature importance, which can be useful for understanding which input features are most relevant to the prediction of the binary outcome and can guide future decisions!"
   ]
  },
  {
   "cell_type": "code",
   "execution_count": null,
   "id": "c58f82c8",
   "metadata": {},
   "outputs": [],
   "source": []
  },
  {
   "cell_type": "markdown",
   "id": "2110748f",
   "metadata": {},
   "source": [
    "# We will start by ingesting the data"
   ]
  },
  {
   "cell_type": "code",
   "execution_count": 11,
   "id": "250cab6b",
   "metadata": {},
   "outputs": [
    {
     "data": {
      "text/html": [
       "<div>\n",
       "<style scoped>\n",
       "    .dataframe tbody tr th:only-of-type {\n",
       "        vertical-align: middle;\n",
       "    }\n",
       "\n",
       "    .dataframe tbody tr th {\n",
       "        vertical-align: top;\n",
       "    }\n",
       "\n",
       "    .dataframe thead th {\n",
       "        text-align: right;\n",
       "    }\n",
       "</style>\n",
       "<table border=\"1\" class=\"dataframe\">\n",
       "  <thead>\n",
       "    <tr style=\"text-align: right;\">\n",
       "      <th></th>\n",
       "      <th>Year</th>\n",
       "      <th>Player</th>\n",
       "      <th>Age</th>\n",
       "      <th>School</th>\n",
       "      <th>Height</th>\n",
       "      <th>Weight</th>\n",
       "      <th>Sprint_40yd</th>\n",
       "      <th>Vertical_Jump</th>\n",
       "      <th>Bench_Press_Reps</th>\n",
       "      <th>Broad_Jump</th>\n",
       "      <th>Agility_3cone</th>\n",
       "      <th>Shuttle</th>\n",
       "      <th>Drafted..tm.rnd.yr.</th>\n",
       "      <th>BMI</th>\n",
       "      <th>Player_Type</th>\n",
       "      <th>Position_Type</th>\n",
       "      <th>Position</th>\n",
       "      <th>Drafted</th>\n",
       "    </tr>\n",
       "  </thead>\n",
       "  <tbody>\n",
       "    <tr>\n",
       "      <th>0</th>\n",
       "      <td>2009</td>\n",
       "      <td>Beanie Wells\\WellCh00</td>\n",
       "      <td>20.0</td>\n",
       "      <td>Ohio St.</td>\n",
       "      <td>1.8542</td>\n",
       "      <td>106.594207</td>\n",
       "      <td>4.38</td>\n",
       "      <td>85.09</td>\n",
       "      <td>25.0</td>\n",
       "      <td>325.12</td>\n",
       "      <td>NaN</td>\n",
       "      <td>NaN</td>\n",
       "      <td>Arizona Cardinals / 1st / 31st pick / 2009</td>\n",
       "      <td>31.004194</td>\n",
       "      <td>offense</td>\n",
       "      <td>backs_receivers</td>\n",
       "      <td>RB</td>\n",
       "      <td>Yes</td>\n",
       "    </tr>\n",
       "    <tr>\n",
       "      <th>1</th>\n",
       "      <td>2009</td>\n",
       "      <td>Will Davis\\DaviWi99</td>\n",
       "      <td>22.0</td>\n",
       "      <td>Illinois</td>\n",
       "      <td>1.8796</td>\n",
       "      <td>118.387609</td>\n",
       "      <td>4.84</td>\n",
       "      <td>83.82</td>\n",
       "      <td>27.0</td>\n",
       "      <td>292.10</td>\n",
       "      <td>7.38</td>\n",
       "      <td>4.45</td>\n",
       "      <td>Arizona Cardinals / 6th / 204th pick / 2009</td>\n",
       "      <td>33.510073</td>\n",
       "      <td>defense</td>\n",
       "      <td>defensive_lineman</td>\n",
       "      <td>DE</td>\n",
       "      <td>Yes</td>\n",
       "    </tr>\n",
       "    <tr>\n",
       "      <th>2</th>\n",
       "      <td>2009</td>\n",
       "      <td>Herman Johnson\\JohnHe23</td>\n",
       "      <td>24.0</td>\n",
       "      <td>LSU</td>\n",
       "      <td>2.0066</td>\n",
       "      <td>165.107623</td>\n",
       "      <td>5.50</td>\n",
       "      <td>NaN</td>\n",
       "      <td>21.0</td>\n",
       "      <td>NaN</td>\n",
       "      <td>NaN</td>\n",
       "      <td>NaN</td>\n",
       "      <td>Arizona Cardinals / 5th / 167th pick / 2009</td>\n",
       "      <td>41.005821</td>\n",
       "      <td>offense</td>\n",
       "      <td>offensive_lineman</td>\n",
       "      <td>OG</td>\n",
       "      <td>Yes</td>\n",
       "    </tr>\n",
       "    <tr>\n",
       "      <th>3</th>\n",
       "      <td>2009</td>\n",
       "      <td>Rashad Johnson\\JohnRa98</td>\n",
       "      <td>23.0</td>\n",
       "      <td>Alabama</td>\n",
       "      <td>1.8034</td>\n",
       "      <td>92.079251</td>\n",
       "      <td>4.49</td>\n",
       "      <td>93.98</td>\n",
       "      <td>15.0</td>\n",
       "      <td>304.80</td>\n",
       "      <td>7.09</td>\n",
       "      <td>4.23</td>\n",
       "      <td>Arizona Cardinals / 3rd / 95th pick / 2009</td>\n",
       "      <td>28.312463</td>\n",
       "      <td>defense</td>\n",
       "      <td>defensive_back</td>\n",
       "      <td>FS</td>\n",
       "      <td>Yes</td>\n",
       "    </tr>\n",
       "    <tr>\n",
       "      <th>4</th>\n",
       "      <td>2009</td>\n",
       "      <td>Cody Brown\\BrowCo96</td>\n",
       "      <td>22.0</td>\n",
       "      <td>Connecticut</td>\n",
       "      <td>1.8796</td>\n",
       "      <td>110.676538</td>\n",
       "      <td>4.76</td>\n",
       "      <td>92.71</td>\n",
       "      <td>26.0</td>\n",
       "      <td>304.80</td>\n",
       "      <td>7.10</td>\n",
       "      <td>4.40</td>\n",
       "      <td>Arizona Cardinals / 2nd / 63rd pick / 2009</td>\n",
       "      <td>31.327425</td>\n",
       "      <td>defense</td>\n",
       "      <td>line_backer</td>\n",
       "      <td>OLB</td>\n",
       "      <td>Yes</td>\n",
       "    </tr>\n",
       "  </tbody>\n",
       "</table>\n",
       "</div>"
      ],
      "text/plain": [
       "   Year                   Player   Age       School  Height      Weight  \\\n",
       "0  2009    Beanie Wells\\WellCh00  20.0     Ohio St.  1.8542  106.594207   \n",
       "1  2009      Will Davis\\DaviWi99  22.0     Illinois  1.8796  118.387609   \n",
       "2  2009  Herman Johnson\\JohnHe23  24.0          LSU  2.0066  165.107623   \n",
       "3  2009  Rashad Johnson\\JohnRa98  23.0      Alabama  1.8034   92.079251   \n",
       "4  2009      Cody Brown\\BrowCo96  22.0  Connecticut  1.8796  110.676538   \n",
       "\n",
       "   Sprint_40yd  Vertical_Jump  Bench_Press_Reps  Broad_Jump  Agility_3cone  \\\n",
       "0         4.38          85.09              25.0      325.12            NaN   \n",
       "1         4.84          83.82              27.0      292.10           7.38   \n",
       "2         5.50            NaN              21.0         NaN            NaN   \n",
       "3         4.49          93.98              15.0      304.80           7.09   \n",
       "4         4.76          92.71              26.0      304.80           7.10   \n",
       "\n",
       "   Shuttle                          Drafted..tm.rnd.yr.        BMI  \\\n",
       "0      NaN   Arizona Cardinals / 1st / 31st pick / 2009  31.004194   \n",
       "1     4.45  Arizona Cardinals / 6th / 204th pick / 2009  33.510073   \n",
       "2      NaN  Arizona Cardinals / 5th / 167th pick / 2009  41.005821   \n",
       "3     4.23   Arizona Cardinals / 3rd / 95th pick / 2009  28.312463   \n",
       "4     4.40   Arizona Cardinals / 2nd / 63rd pick / 2009  31.327425   \n",
       "\n",
       "  Player_Type      Position_Type Position Drafted  \n",
       "0     offense    backs_receivers       RB     Yes  \n",
       "1     defense  defensive_lineman       DE     Yes  \n",
       "2     offense  offensive_lineman       OG     Yes  \n",
       "3     defense     defensive_back       FS     Yes  \n",
       "4     defense        line_backer      OLB     Yes  "
      ]
     },
     "execution_count": 11,
     "metadata": {},
     "output_type": "execute_result"
    }
   ],
   "source": [
    "master_table = master_table = pd.read_csv(\"NFL.csv\")\n",
    "master_table.head()"
   ]
  },
  {
   "cell_type": "markdown",
   "id": "779c887b",
   "metadata": {},
   "source": [
    "### Let's take a surface level look"
   ]
  },
  {
   "cell_type": "code",
   "execution_count": 16,
   "id": "a77a75f0",
   "metadata": {},
   "outputs": [
    {
     "name": "stdout",
     "output_type": "stream",
     "text": [
      "<class 'pandas.core.frame.DataFrame'>\n",
      "RangeIndex: 3477 entries, 0 to 3476\n",
      "Data columns (total 18 columns):\n",
      " #   Column               Non-Null Count  Dtype  \n",
      "---  ------               --------------  -----  \n",
      " 0   Year                 3477 non-null   int64  \n",
      " 1   Player               3477 non-null   object \n",
      " 2   Age                  2927 non-null   float64\n",
      " 3   School               3477 non-null   object \n",
      " 4   Height               3477 non-null   float64\n",
      " 5   Weight               3477 non-null   float64\n",
      " 6   Sprint_40yd          3303 non-null   float64\n",
      " 7   Vertical_Jump        2780 non-null   float64\n",
      " 8   Bench_Press_Reps     2572 non-null   float64\n",
      " 9   Broad_Jump           2749 non-null   float64\n",
      " 10  Agility_3cone        2260 non-null   float64\n",
      " 11  Shuttle              2337 non-null   float64\n",
      " 12  Drafted..tm.rnd.yr.  2254 non-null   object \n",
      " 13  BMI                  3477 non-null   float64\n",
      " 14  Player_Type          3477 non-null   object \n",
      " 15  Position_Type        3477 non-null   object \n",
      " 16  Position             3477 non-null   object \n",
      " 17  Drafted              3477 non-null   object \n",
      "dtypes: float64(10), int64(1), object(7)\n",
      "memory usage: 489.1+ KB\n"
     ]
    }
   ],
   "source": [
    "master_table.info()"
   ]
  },
  {
   "cell_type": "markdown",
   "id": "b5e697a7",
   "metadata": {},
   "source": [
    "For this model we only want to look at combine \"performance\" metrics, not attributes such as height, weight, etc. So let's filter the columns out that we want to use as features."
   ]
  },
  {
   "cell_type": "code",
   "execution_count": 21,
   "id": "fff3c2e2",
   "metadata": {},
   "outputs": [
    {
     "data": {
      "text/html": [
       "<div>\n",
       "<style scoped>\n",
       "    .dataframe tbody tr th:only-of-type {\n",
       "        vertical-align: middle;\n",
       "    }\n",
       "\n",
       "    .dataframe tbody tr th {\n",
       "        vertical-align: top;\n",
       "    }\n",
       "\n",
       "    .dataframe thead th {\n",
       "        text-align: right;\n",
       "    }\n",
       "</style>\n",
       "<table border=\"1\" class=\"dataframe\">\n",
       "  <thead>\n",
       "    <tr style=\"text-align: right;\">\n",
       "      <th></th>\n",
       "      <th>Year</th>\n",
       "      <th>Player</th>\n",
       "      <th>School</th>\n",
       "      <th>Sprint_40yd</th>\n",
       "      <th>Vertical_Jump</th>\n",
       "      <th>Bench_Press_Reps</th>\n",
       "      <th>Broad_Jump</th>\n",
       "      <th>Agility_3cone</th>\n",
       "      <th>Shuttle</th>\n",
       "      <th>Player_Type</th>\n",
       "      <th>Position_Type</th>\n",
       "      <th>Position</th>\n",
       "      <th>Drafted</th>\n",
       "    </tr>\n",
       "  </thead>\n",
       "  <tbody>\n",
       "    <tr>\n",
       "      <th>0</th>\n",
       "      <td>2009</td>\n",
       "      <td>Beanie Wells\\WellCh00</td>\n",
       "      <td>Ohio St.</td>\n",
       "      <td>4.38</td>\n",
       "      <td>85.09</td>\n",
       "      <td>25.0</td>\n",
       "      <td>325.12</td>\n",
       "      <td>NaN</td>\n",
       "      <td>NaN</td>\n",
       "      <td>offense</td>\n",
       "      <td>backs_receivers</td>\n",
       "      <td>RB</td>\n",
       "      <td>Yes</td>\n",
       "    </tr>\n",
       "    <tr>\n",
       "      <th>1</th>\n",
       "      <td>2009</td>\n",
       "      <td>Will Davis\\DaviWi99</td>\n",
       "      <td>Illinois</td>\n",
       "      <td>4.84</td>\n",
       "      <td>83.82</td>\n",
       "      <td>27.0</td>\n",
       "      <td>292.10</td>\n",
       "      <td>7.38</td>\n",
       "      <td>4.45</td>\n",
       "      <td>defense</td>\n",
       "      <td>defensive_lineman</td>\n",
       "      <td>DE</td>\n",
       "      <td>Yes</td>\n",
       "    </tr>\n",
       "    <tr>\n",
       "      <th>2</th>\n",
       "      <td>2009</td>\n",
       "      <td>Herman Johnson\\JohnHe23</td>\n",
       "      <td>LSU</td>\n",
       "      <td>5.50</td>\n",
       "      <td>NaN</td>\n",
       "      <td>21.0</td>\n",
       "      <td>NaN</td>\n",
       "      <td>NaN</td>\n",
       "      <td>NaN</td>\n",
       "      <td>offense</td>\n",
       "      <td>offensive_lineman</td>\n",
       "      <td>OG</td>\n",
       "      <td>Yes</td>\n",
       "    </tr>\n",
       "    <tr>\n",
       "      <th>3</th>\n",
       "      <td>2009</td>\n",
       "      <td>Rashad Johnson\\JohnRa98</td>\n",
       "      <td>Alabama</td>\n",
       "      <td>4.49</td>\n",
       "      <td>93.98</td>\n",
       "      <td>15.0</td>\n",
       "      <td>304.80</td>\n",
       "      <td>7.09</td>\n",
       "      <td>4.23</td>\n",
       "      <td>defense</td>\n",
       "      <td>defensive_back</td>\n",
       "      <td>FS</td>\n",
       "      <td>Yes</td>\n",
       "    </tr>\n",
       "    <tr>\n",
       "      <th>4</th>\n",
       "      <td>2009</td>\n",
       "      <td>Cody Brown\\BrowCo96</td>\n",
       "      <td>Connecticut</td>\n",
       "      <td>4.76</td>\n",
       "      <td>92.71</td>\n",
       "      <td>26.0</td>\n",
       "      <td>304.80</td>\n",
       "      <td>7.10</td>\n",
       "      <td>4.40</td>\n",
       "      <td>defense</td>\n",
       "      <td>line_backer</td>\n",
       "      <td>OLB</td>\n",
       "      <td>Yes</td>\n",
       "    </tr>\n",
       "    <tr>\n",
       "      <th>...</th>\n",
       "      <td>...</td>\n",
       "      <td>...</td>\n",
       "      <td>...</td>\n",
       "      <td>...</td>\n",
       "      <td>...</td>\n",
       "      <td>...</td>\n",
       "      <td>...</td>\n",
       "      <td>...</td>\n",
       "      <td>...</td>\n",
       "      <td>...</td>\n",
       "      <td>...</td>\n",
       "      <td>...</td>\n",
       "      <td>...</td>\n",
       "    </tr>\n",
       "    <tr>\n",
       "      <th>3472</th>\n",
       "      <td>2019</td>\n",
       "      <td>Xavier Crawford</td>\n",
       "      <td>Central Michigan</td>\n",
       "      <td>4.48</td>\n",
       "      <td>95.25</td>\n",
       "      <td>11.0</td>\n",
       "      <td>NaN</td>\n",
       "      <td>NaN</td>\n",
       "      <td>NaN</td>\n",
       "      <td>defense</td>\n",
       "      <td>defensive_back</td>\n",
       "      <td>CB</td>\n",
       "      <td>No</td>\n",
       "    </tr>\n",
       "    <tr>\n",
       "      <th>3473</th>\n",
       "      <td>2019</td>\n",
       "      <td>Jordan Brown</td>\n",
       "      <td>South Dakota St.</td>\n",
       "      <td>4.51</td>\n",
       "      <td>100.33</td>\n",
       "      <td>13.0</td>\n",
       "      <td>325.12</td>\n",
       "      <td>NaN</td>\n",
       "      <td>NaN</td>\n",
       "      <td>defense</td>\n",
       "      <td>defensive_back</td>\n",
       "      <td>CB</td>\n",
       "      <td>No</td>\n",
       "    </tr>\n",
       "    <tr>\n",
       "      <th>3474</th>\n",
       "      <td>2019</td>\n",
       "      <td>Corey Ballentine</td>\n",
       "      <td>Washburn</td>\n",
       "      <td>4.47</td>\n",
       "      <td>100.33</td>\n",
       "      <td>15.0</td>\n",
       "      <td>342.90</td>\n",
       "      <td>6.82</td>\n",
       "      <td>4.14</td>\n",
       "      <td>defense</td>\n",
       "      <td>defensive_back</td>\n",
       "      <td>CB</td>\n",
       "      <td>No</td>\n",
       "    </tr>\n",
       "    <tr>\n",
       "      <th>3475</th>\n",
       "      <td>2019</td>\n",
       "      <td>Ugo Amadi</td>\n",
       "      <td>Oregon</td>\n",
       "      <td>4.51</td>\n",
       "      <td>82.55</td>\n",
       "      <td>18.0</td>\n",
       "      <td>292.10</td>\n",
       "      <td>7.21</td>\n",
       "      <td>4.19</td>\n",
       "      <td>defense</td>\n",
       "      <td>defensive_back</td>\n",
       "      <td>S</td>\n",
       "      <td>No</td>\n",
       "    </tr>\n",
       "    <tr>\n",
       "      <th>3476</th>\n",
       "      <td>2019</td>\n",
       "      <td>Nasir Adderley</td>\n",
       "      <td>Delaware</td>\n",
       "      <td>NaN</td>\n",
       "      <td>NaN</td>\n",
       "      <td>NaN</td>\n",
       "      <td>NaN</td>\n",
       "      <td>NaN</td>\n",
       "      <td>NaN</td>\n",
       "      <td>defense</td>\n",
       "      <td>defensive_back</td>\n",
       "      <td>S</td>\n",
       "      <td>No</td>\n",
       "    </tr>\n",
       "  </tbody>\n",
       "</table>\n",
       "<p>3477 rows × 13 columns</p>\n",
       "</div>"
      ],
      "text/plain": [
       "      Year                   Player            School  Sprint_40yd  \\\n",
       "0     2009    Beanie Wells\\WellCh00          Ohio St.         4.38   \n",
       "1     2009      Will Davis\\DaviWi99          Illinois         4.84   \n",
       "2     2009  Herman Johnson\\JohnHe23               LSU         5.50   \n",
       "3     2009  Rashad Johnson\\JohnRa98           Alabama         4.49   \n",
       "4     2009      Cody Brown\\BrowCo96       Connecticut         4.76   \n",
       "...    ...                      ...               ...          ...   \n",
       "3472  2019          Xavier Crawford  Central Michigan         4.48   \n",
       "3473  2019             Jordan Brown  South Dakota St.         4.51   \n",
       "3474  2019         Corey Ballentine          Washburn         4.47   \n",
       "3475  2019                Ugo Amadi            Oregon         4.51   \n",
       "3476  2019           Nasir Adderley          Delaware          NaN   \n",
       "\n",
       "      Vertical_Jump  Bench_Press_Reps  Broad_Jump  Agility_3cone  Shuttle  \\\n",
       "0             85.09              25.0      325.12            NaN      NaN   \n",
       "1             83.82              27.0      292.10           7.38     4.45   \n",
       "2               NaN              21.0         NaN            NaN      NaN   \n",
       "3             93.98              15.0      304.80           7.09     4.23   \n",
       "4             92.71              26.0      304.80           7.10     4.40   \n",
       "...             ...               ...         ...            ...      ...   \n",
       "3472          95.25              11.0         NaN            NaN      NaN   \n",
       "3473         100.33              13.0      325.12            NaN      NaN   \n",
       "3474         100.33              15.0      342.90           6.82     4.14   \n",
       "3475          82.55              18.0      292.10           7.21     4.19   \n",
       "3476            NaN               NaN         NaN            NaN      NaN   \n",
       "\n",
       "     Player_Type      Position_Type Position Drafted  \n",
       "0        offense    backs_receivers       RB     Yes  \n",
       "1        defense  defensive_lineman       DE     Yes  \n",
       "2        offense  offensive_lineman       OG     Yes  \n",
       "3        defense     defensive_back       FS     Yes  \n",
       "4        defense        line_backer      OLB     Yes  \n",
       "...          ...                ...      ...     ...  \n",
       "3472     defense     defensive_back       CB      No  \n",
       "3473     defense     defensive_back       CB      No  \n",
       "3474     defense     defensive_back       CB      No  \n",
       "3475     defense     defensive_back        S      No  \n",
       "3476     defense     defensive_back        S      No  \n",
       "\n",
       "[3477 rows x 13 columns]"
      ]
     },
     "execution_count": 21,
     "metadata": {},
     "output_type": "execute_result"
    }
   ],
   "source": [
    "master_table = master_table[['Year','Player','School','Sprint_40yd','Vertical_Jump','Bench_Press_Reps','Broad_Jump','Agility_3cone','Shuttle','Player_Type','Position_Type','Position','Drafted']]\n",
    "master_table                          "
   ]
  },
  {
   "cell_type": "markdown",
   "id": "4dceeaa6",
   "metadata": {},
   "source": [
    "### Prepare for the Decision Tree"
   ]
  },
  {
   "cell_type": "markdown",
   "id": "c2547657",
   "metadata": {},
   "source": [
    "For our feature selection we are going to take the 6 combine performance metrics ('Sprint_40yd','Vertical_Jump','Bench_Press_Reps','Broad_Jump','Agility_3cone','Shuttle').\n",
    "We will then separate these input features from the outcome variable (Here: Whether or not a player was drafted). \n",
    "\n",
    "We do this by separating the data into a Feature dataframe (X) and a Series containing the binary classification (Y)."
   ]
  },
  {
   "cell_type": "code",
   "execution_count": 31,
   "id": "2547422a",
   "metadata": {},
   "outputs": [],
   "source": [
    "X = master_table.iloc[:,3:9]\n",
    "Y = master_table.iloc[:,-1]"
   ]
  },
  {
   "cell_type": "code",
   "execution_count": 32,
   "id": "f5eac863",
   "metadata": {},
   "outputs": [
    {
     "data": {
      "text/html": [
       "<div>\n",
       "<style scoped>\n",
       "    .dataframe tbody tr th:only-of-type {\n",
       "        vertical-align: middle;\n",
       "    }\n",
       "\n",
       "    .dataframe tbody tr th {\n",
       "        vertical-align: top;\n",
       "    }\n",
       "\n",
       "    .dataframe thead th {\n",
       "        text-align: right;\n",
       "    }\n",
       "</style>\n",
       "<table border=\"1\" class=\"dataframe\">\n",
       "  <thead>\n",
       "    <tr style=\"text-align: right;\">\n",
       "      <th></th>\n",
       "      <th>Sprint_40yd</th>\n",
       "      <th>Vertical_Jump</th>\n",
       "      <th>Bench_Press_Reps</th>\n",
       "      <th>Broad_Jump</th>\n",
       "      <th>Agility_3cone</th>\n",
       "      <th>Shuttle</th>\n",
       "    </tr>\n",
       "  </thead>\n",
       "  <tbody>\n",
       "    <tr>\n",
       "      <th>0</th>\n",
       "      <td>4.38</td>\n",
       "      <td>85.09</td>\n",
       "      <td>25.0</td>\n",
       "      <td>325.12</td>\n",
       "      <td>NaN</td>\n",
       "      <td>NaN</td>\n",
       "    </tr>\n",
       "    <tr>\n",
       "      <th>1</th>\n",
       "      <td>4.84</td>\n",
       "      <td>83.82</td>\n",
       "      <td>27.0</td>\n",
       "      <td>292.10</td>\n",
       "      <td>7.38</td>\n",
       "      <td>4.45</td>\n",
       "    </tr>\n",
       "    <tr>\n",
       "      <th>2</th>\n",
       "      <td>5.50</td>\n",
       "      <td>NaN</td>\n",
       "      <td>21.0</td>\n",
       "      <td>NaN</td>\n",
       "      <td>NaN</td>\n",
       "      <td>NaN</td>\n",
       "    </tr>\n",
       "    <tr>\n",
       "      <th>3</th>\n",
       "      <td>4.49</td>\n",
       "      <td>93.98</td>\n",
       "      <td>15.0</td>\n",
       "      <td>304.80</td>\n",
       "      <td>7.09</td>\n",
       "      <td>4.23</td>\n",
       "    </tr>\n",
       "    <tr>\n",
       "      <th>4</th>\n",
       "      <td>4.76</td>\n",
       "      <td>92.71</td>\n",
       "      <td>26.0</td>\n",
       "      <td>304.80</td>\n",
       "      <td>7.10</td>\n",
       "      <td>4.40</td>\n",
       "    </tr>\n",
       "    <tr>\n",
       "      <th>...</th>\n",
       "      <td>...</td>\n",
       "      <td>...</td>\n",
       "      <td>...</td>\n",
       "      <td>...</td>\n",
       "      <td>...</td>\n",
       "      <td>...</td>\n",
       "    </tr>\n",
       "    <tr>\n",
       "      <th>3472</th>\n",
       "      <td>4.48</td>\n",
       "      <td>95.25</td>\n",
       "      <td>11.0</td>\n",
       "      <td>NaN</td>\n",
       "      <td>NaN</td>\n",
       "      <td>NaN</td>\n",
       "    </tr>\n",
       "    <tr>\n",
       "      <th>3473</th>\n",
       "      <td>4.51</td>\n",
       "      <td>100.33</td>\n",
       "      <td>13.0</td>\n",
       "      <td>325.12</td>\n",
       "      <td>NaN</td>\n",
       "      <td>NaN</td>\n",
       "    </tr>\n",
       "    <tr>\n",
       "      <th>3474</th>\n",
       "      <td>4.47</td>\n",
       "      <td>100.33</td>\n",
       "      <td>15.0</td>\n",
       "      <td>342.90</td>\n",
       "      <td>6.82</td>\n",
       "      <td>4.14</td>\n",
       "    </tr>\n",
       "    <tr>\n",
       "      <th>3475</th>\n",
       "      <td>4.51</td>\n",
       "      <td>82.55</td>\n",
       "      <td>18.0</td>\n",
       "      <td>292.10</td>\n",
       "      <td>7.21</td>\n",
       "      <td>4.19</td>\n",
       "    </tr>\n",
       "    <tr>\n",
       "      <th>3476</th>\n",
       "      <td>NaN</td>\n",
       "      <td>NaN</td>\n",
       "      <td>NaN</td>\n",
       "      <td>NaN</td>\n",
       "      <td>NaN</td>\n",
       "      <td>NaN</td>\n",
       "    </tr>\n",
       "  </tbody>\n",
       "</table>\n",
       "<p>3477 rows × 6 columns</p>\n",
       "</div>"
      ],
      "text/plain": [
       "      Sprint_40yd  Vertical_Jump  Bench_Press_Reps  Broad_Jump  Agility_3cone  \\\n",
       "0            4.38          85.09              25.0      325.12            NaN   \n",
       "1            4.84          83.82              27.0      292.10           7.38   \n",
       "2            5.50            NaN              21.0         NaN            NaN   \n",
       "3            4.49          93.98              15.0      304.80           7.09   \n",
       "4            4.76          92.71              26.0      304.80           7.10   \n",
       "...           ...            ...               ...         ...            ...   \n",
       "3472         4.48          95.25              11.0         NaN            NaN   \n",
       "3473         4.51         100.33              13.0      325.12            NaN   \n",
       "3474         4.47         100.33              15.0      342.90           6.82   \n",
       "3475         4.51          82.55              18.0      292.10           7.21   \n",
       "3476          NaN            NaN               NaN         NaN            NaN   \n",
       "\n",
       "      Shuttle  \n",
       "0         NaN  \n",
       "1        4.45  \n",
       "2         NaN  \n",
       "3        4.23  \n",
       "4        4.40  \n",
       "...       ...  \n",
       "3472      NaN  \n",
       "3473      NaN  \n",
       "3474     4.14  \n",
       "3475     4.19  \n",
       "3476      NaN  \n",
       "\n",
       "[3477 rows x 6 columns]"
      ]
     },
     "execution_count": 32,
     "metadata": {},
     "output_type": "execute_result"
    }
   ],
   "source": [
    "#Features\n",
    "X"
   ]
  },
  {
   "cell_type": "code",
   "execution_count": 34,
   "id": "81e3b433",
   "metadata": {},
   "outputs": [
    {
     "data": {
      "text/plain": [
       "0       Yes\n",
       "1       Yes\n",
       "2       Yes\n",
       "3       Yes\n",
       "4       Yes\n",
       "       ... \n",
       "3472     No\n",
       "3473     No\n",
       "3474     No\n",
       "3475     No\n",
       "3476     No\n",
       "Name: Drafted, Length: 3477, dtype: object"
      ]
     },
     "execution_count": 34,
     "metadata": {},
     "output_type": "execute_result"
    }
   ],
   "source": [
    "# Classfication\n",
    "Y"
   ]
  },
  {
   "cell_type": "markdown",
   "id": "c37ffa1e",
   "metadata": {},
   "source": [
    "### As always, we need to do some data cleaning"
   ]
  },
  {
   "cell_type": "code",
   "execution_count": 37,
   "id": "ec085f56",
   "metadata": {},
   "outputs": [
    {
     "data": {
      "text/plain": [
       "Sprint_40yd          174\n",
       "Vertical_Jump        697\n",
       "Bench_Press_Reps     905\n",
       "Broad_Jump           728\n",
       "Agility_3cone       1217\n",
       "Shuttle             1140\n",
       "dtype: int64"
      ]
     },
     "execution_count": 37,
     "metadata": {},
     "output_type": "execute_result"
    }
   ],
   "source": [
    "X.isnull().sum()"
   ]
  },
  {
   "cell_type": "markdown",
   "id": "a3c54a4e",
   "metadata": {},
   "source": [
    "There are several ways to \"handle\" null values. In this exercise, I do not want to focus on cleaning as much as the thought and fundamentals of a decision tree, so we will simply drop the records containing null values here. This is not something I advise as best practice. Over the course, as we get into more advanced concepts and projects, I will go over handling null values more thoroughly."
   ]
  },
  {
   "cell_type": "code",
   "execution_count": 42,
   "id": "7f704544",
   "metadata": {},
   "outputs": [
    {
     "data": {
      "text/plain": [
       "Sprint_40yd         0\n",
       "Vertical_Jump       0\n",
       "Bench_Press_Reps    0\n",
       "Broad_Jump          0\n",
       "Agility_3cone       0\n",
       "Shuttle             0\n",
       "dtype: int64"
      ]
     },
     "execution_count": 42,
     "metadata": {},
     "output_type": "execute_result"
    }
   ],
   "source": [
    "#Drop Records Containing Null Values\n",
    "X.dropna(inplace=True)  \n",
    "X.isnull().sum() #Check"
   ]
  },
  {
   "cell_type": "markdown",
   "id": "7cda9b61",
   "metadata": {},
   "source": [
    "Now we have to remove the SAME records from the Y series. Since both X and Y have retained their index, we can use them to match records!"
   ]
  },
  {
   "cell_type": "code",
   "execution_count": 45,
   "id": "241e3841",
   "metadata": {},
   "outputs": [],
   "source": [
    "Y = Y[Y.index.isin(X.index)]"
   ]
  },
  {
   "cell_type": "markdown",
   "id": "d5a7ffc7",
   "metadata": {},
   "source": [
    "Now obviously, the lengths of X and Y should be the same and let's check that:"
   ]
  },
  {
   "cell_type": "code",
   "execution_count": 49,
   "id": "114b0b23",
   "metadata": {},
   "outputs": [
    {
     "name": "stdout",
     "output_type": "stream",
     "text": [
      "Length X: 1731\n",
      "Length Y: 1731\n"
     ]
    }
   ],
   "source": [
    "print(\"Length X:\", len(X))\n",
    "print(\"Length Y:\", len(Y))"
   ]
  },
  {
   "cell_type": "markdown",
   "id": "9eb0eda0",
   "metadata": {},
   "source": [
    "### \"Split\" the data into training and testing sets"
   ]
  },
  {
   "cell_type": "markdown",
   "id": "d6dccc22",
   "metadata": {},
   "source": [
    "This is a technique used in machine learning algorithms in order to evaluate the performance of a model without bias.\n"
   ]
  },
  {
   "cell_type": "markdown",
   "id": "c456c0f4",
   "metadata": {},
   "source": [
    "__The training set__ is the portion of the data that is used to train the machine learning model. In this dataset, the model \"knows\" the outcome (it is presented with the output label from Y), and it will use this information to \"fit\" a model that will be able to generalize to new and \"unseen\" data."
   ]
  },
  {
   "cell_type": "markdown",
   "id": "7c2a780a",
   "metadata": {},
   "source": [
    "__The test set__ is used to evaluate how well the trained model performs on new, unseen data. The testing data includes both input data and corresponding output labels, but the output labels are __not__ used during testing. Instead, the model makes predictions on the testing data, and the predicted outputs are compared to the actual outputs to evaluate the model's performance."
   ]
  },
  {
   "cell_type": "markdown",
   "id": "24c6188d",
   "metadata": {},
   "source": [
    "sklearn has a built in function to help us do this: train_test_split"
   ]
  },
  {
   "cell_type": "code",
   "execution_count": 50,
   "id": "a5ff7235",
   "metadata": {},
   "outputs": [],
   "source": [
    "X_train, X_test, y_train, y_test = train_test_split(X,Y, test_size = 0.3, random_state=100)"
   ]
  },
  {
   "cell_type": "markdown",
   "id": "55eaf690",
   "metadata": {},
   "source": [
    "What is this doing? It is taking 30% (0.3) of the data and assigning it to the \"test\" set. A 70/30 or 80/20 split are usually the most common and considered the gold standard for splitting. The \"random_state\" assignment is used so that you can get the same \"random\" split in the future for reproducibility or debugging. "
   ]
  },
  {
   "cell_type": "markdown",
   "id": "c8d12ad0",
   "metadata": {},
   "source": [
    "#### So what do we have now?"
   ]
  },
  {
   "cell_type": "code",
   "execution_count": 55,
   "id": "fb8e5711",
   "metadata": {},
   "outputs": [
    {
     "name": "stdout",
     "output_type": "stream",
     "text": [
      "X_train Length 1211\n",
      "X_test Length 520\n",
      "y_train Length 1211\n",
      "y_test Length 520\n"
     ]
    }
   ],
   "source": [
    "print(\"X_train Length\", len(X_train))\n",
    "print(\"X_test Length\", len(X_test))\n",
    "print(\"y_train Length\", len(y_train))\n",
    "print(\"y_test Length\", len(y_test))"
   ]
  },
  {
   "cell_type": "markdown",
   "id": "ae584724",
   "metadata": {},
   "source": [
    "The split worked and we are ready to train our model!"
   ]
  },
  {
   "cell_type": "markdown",
   "id": "7090b529",
   "metadata": {},
   "source": [
    "## Training and Evaluating the Model"
   ]
  },
  {
   "cell_type": "markdown",
   "id": "712bbba6",
   "metadata": {},
   "source": [
    "We will use the DecisionTreeClassifier in sklearn. The first step is to create an instance of the class and specify any hyperparameters you want to use. Some of the commonly used hyperparameters include:\n",
    "- __max_depth__: the maximum depth of the decision tree\n",
    "- __min_samples_split__: the minimum number of samples required to split an internal node\n",
    "- __criterion__: the function used to measure the quality of a split (e.g., 'gini' or 'entropy')\n",
    "\n",
    "We will not use more than this for now. And I encourage you to read the sklearn documentation for more info!\n",
    "https://scikit-learn.org/stable/modules/generated/sklearn.tree.DecisionTreeClassifier.html"
   ]
  },
  {
   "cell_type": "code",
   "execution_count": 62,
   "id": "38e7ea45",
   "metadata": {},
   "outputs": [],
   "source": [
    "clf = DecisionTreeClassifier(criterion = 'gini',min_samples_split = 3, max_depth = 3)"
   ]
  },
  {
   "cell_type": "markdown",
   "id": "c2713bed",
   "metadata": {},
   "source": [
    "We then need to \"fit\" the model on the training data"
   ]
  },
  {
   "cell_type": "code",
   "execution_count": 63,
   "id": "3f232620",
   "metadata": {},
   "outputs": [
    {
     "data": {
      "text/plain": [
       "DecisionTreeClassifier(max_depth=3, min_samples_split=3)"
      ]
     },
     "execution_count": 63,
     "metadata": {},
     "output_type": "execute_result"
    }
   ],
   "source": [
    "clf.fit(X_train, y_train)"
   ]
  },
  {
   "cell_type": "markdown",
   "id": "f9a2efbe",
   "metadata": {},
   "source": [
    "#### Let's now try to \"Predict\" on our test data!"
   ]
  },
  {
   "cell_type": "code",
   "execution_count": 65,
   "id": "d03b663b",
   "metadata": {},
   "outputs": [],
   "source": [
    "y_pred = clf.predict(X_test)"
   ]
  },
  {
   "cell_type": "markdown",
   "id": "e3533998",
   "metadata": {},
   "source": [
    "#### And to evaluate"
   ]
  },
  {
   "cell_type": "code",
   "execution_count": 72,
   "id": "88d98d6e",
   "metadata": {},
   "outputs": [
    {
     "name": "stdout",
     "output_type": "stream",
     "text": [
      " Accuracy score: 0.7115384615384616\n"
     ]
    }
   ],
   "source": [
    "print(f\" Accuracy score: {accuracy_score(y_test,y_pred)}\")"
   ]
  },
  {
   "cell_type": "markdown",
   "id": "4aad2c95",
   "metadata": {},
   "source": [
    "Not a fantastic accuracy but not terrible. Above 70% is usually considered \"good\". There are several things that can be done to make this model better in the future including hyperparameter turning, adding more features, etc. We will cover that more in the course as we progress. "
   ]
  },
  {
   "cell_type": "code",
   "execution_count": null,
   "id": "3f465f3d",
   "metadata": {},
   "outputs": [],
   "source": []
  },
  {
   "cell_type": "markdown",
   "id": "0e342e93",
   "metadata": {},
   "source": [
    "#### And we can even visualize what the \"thought\" process was and how decisions were made!"
   ]
  },
  {
   "cell_type": "markdown",
   "id": "eef2f3d0",
   "metadata": {},
   "source": [
    "A pretty cool feature of a decision tree is the visualizations they can provide. Where you can essentially see the cutoff point for each feature in the decision making, how many samples were classified in each class, and the gini index which is the measure of how well a given attribute separates the training examples in a decision tree."
   ]
  },
  {
   "cell_type": "code",
   "execution_count": 75,
   "id": "625a06e4",
   "metadata": {},
   "outputs": [
    {
     "data": {
      "image/png": "[encoded data removed]",
      "text/plain": [
       "<Figure size 1200x800 with 1 Axes>"
      ]
     },
     "metadata": {},
     "output_type": "display_data"
    }
   ],
   "source": [
    "plt.figure(figsize=(12,8))\n",
    "from sklearn import tree\n",
    "tree.plot_tree(clf.fit(X_train,y_train), feature_names = X_train.columns )\n",
    "plt.show()"
   ]
  },
  {
   "cell_type": "markdown",
   "id": "be2096b3",
   "metadata": {},
   "source": [
    "I wouldn't recommend always plotting out this diagram as for very large models, it can become quite time consuming and you will not get much usable information out of it! But it is very useful for understanding how a decision tree works."
   ]
  },
  {
   "cell_type": "markdown",
   "id": "154bd1a0",
   "metadata": {},
   "source": [
    "## Feature Importance"
   ]
  },
  {
   "cell_type": "markdown",
   "id": "3b71186b",
   "metadata": {},
   "source": [
    "A very cool feature of a decision tree is the generation of feature importance. Feature importance in a decision tree refers to a measure of how important each feature or input variable is in determining the final output of the tree."
   ]
  },
  {
   "cell_type": "markdown",
   "id": "851eb786",
   "metadata": {},
   "source": [
    "#### Gathering and Visualizing Feature Importance"
   ]
  },
  {
   "cell_type": "code",
   "execution_count": 82,
   "id": "5cab2d69",
   "metadata": {},
   "outputs": [],
   "source": [
    "# let's create a dictionary of features and their importance values\n",
    "feat_dict= {}\n",
    "for col, val in sorted(zip(X_train.columns, clf.feature_importances_),key=lambda x:x[1],reverse=True):\n",
    "  feat_dict[col]=val"
   ]
  },
  {
   "cell_type": "markdown",
   "id": "aafc0291",
   "metadata": {},
   "source": [
    "Let's now create a dataframe to show the importances of each feature numerically."
   ]
  },
  {
   "cell_type": "code",
   "execution_count": 83,
   "id": "b6d0ce88",
   "metadata": {},
   "outputs": [
    {
     "data": {
      "text/html": [
       "<div>\n",
       "<style scoped>\n",
       "    .dataframe tbody tr th:only-of-type {\n",
       "        vertical-align: middle;\n",
       "    }\n",
       "\n",
       "    .dataframe tbody tr th {\n",
       "        vertical-align: top;\n",
       "    }\n",
       "\n",
       "    .dataframe thead th {\n",
       "        text-align: right;\n",
       "    }\n",
       "</style>\n",
       "<table border=\"1\" class=\"dataframe\">\n",
       "  <thead>\n",
       "    <tr style=\"text-align: right;\">\n",
       "      <th></th>\n",
       "      <th>Feature</th>\n",
       "      <th>Importance</th>\n",
       "    </tr>\n",
       "  </thead>\n",
       "  <tbody>\n",
       "    <tr>\n",
       "      <th>0</th>\n",
       "      <td>Sprint_40yd</td>\n",
       "      <td>0.324925</td>\n",
       "    </tr>\n",
       "    <tr>\n",
       "      <th>1</th>\n",
       "      <td>Vertical_Jump</td>\n",
       "      <td>0.262829</td>\n",
       "    </tr>\n",
       "    <tr>\n",
       "      <th>2</th>\n",
       "      <td>Bench_Press_Reps</td>\n",
       "      <td>0.225738</td>\n",
       "    </tr>\n",
       "    <tr>\n",
       "      <th>3</th>\n",
       "      <td>Agility_3cone</td>\n",
       "      <td>0.135935</td>\n",
       "    </tr>\n",
       "    <tr>\n",
       "      <th>4</th>\n",
       "      <td>Broad_Jump</td>\n",
       "      <td>0.050573</td>\n",
       "    </tr>\n",
       "    <tr>\n",
       "      <th>5</th>\n",
       "      <td>Shuttle</td>\n",
       "      <td>0.000000</td>\n",
       "    </tr>\n",
       "  </tbody>\n",
       "</table>\n",
       "</div>"
      ],
      "text/plain": [
       "            Feature  Importance\n",
       "0       Sprint_40yd    0.324925\n",
       "1     Vertical_Jump    0.262829\n",
       "2  Bench_Press_Reps    0.225738\n",
       "3     Agility_3cone    0.135935\n",
       "4        Broad_Jump    0.050573\n",
       "5           Shuttle    0.000000"
      ]
     },
     "execution_count": 83,
     "metadata": {},
     "output_type": "execute_result"
    }
   ],
   "source": [
    "feat_df = pd.DataFrame({'Feature':feat_dict.keys(),'Importance':feat_dict.values()})\n",
    "feat_df"
   ]
  },
  {
   "cell_type": "markdown",
   "id": "ef0689cb",
   "metadata": {},
   "source": [
    "If you are an avid football fan and combine enthusiast, it would be no surprise to you that 40 yard dash is the most determinant factor in whether or not a player gets drafted!"
   ]
  },
  {
   "cell_type": "markdown",
   "id": "e2ff0bf3",
   "metadata": {},
   "source": [
    "And let's make a simple visual to illustrate"
   ]
  },
  {
   "cell_type": "code",
   "execution_count": 84,
   "id": "99be6d7a",
   "metadata": {},
   "outputs": [
    {
     "data": {
      "image/png": "[encoded data removed]",
      "text/plain": [
       "<Figure size 1000x800 with 1 Axes>"
      ]
     },
     "metadata": {},
     "output_type": "display_data"
    }
   ],
   "source": [
    "import seaborn as sns\n",
    "values = feat_df.Importance    \n",
    "idx = feat_df.Feature\n",
    "plt.figure(figsize=(10,8))\n",
    "clrs = ['green' if (x < max(values)) else 'red' for x in values ]\n",
    "sns.barplot(y=idx,x=values,palette=clrs).set(title='Feature Importance - Player Drafted (Y/N)')\n",
    "plt.show()"
   ]
  },
  {
   "cell_type": "markdown",
   "id": "c324ce8e",
   "metadata": {},
   "source": [
    "# Next Steps"
   ]
  },
  {
   "cell_type": "markdown",
   "id": "341926b4",
   "metadata": {},
   "source": [
    "This exercise lays the foundation for how to create and evaluate a decision tree classifier. I encourage you to take this dataset and create your own model(s)!"
   ]
  },
  {
   "cell_type": "markdown",
   "id": "3fdd0051",
   "metadata": {},
   "source": [
    "#### Some Ideas:\n",
    "1. Change/add hyperparameters\n",
    "2. Build a model for each position and see if that improves accuracy!\n",
    "3. Maybe try handling missing data differently?\n",
    "\n"
   ]
  },
  {
   "cell_type": "markdown",
   "id": "c21faebd",
   "metadata": {},
   "source": [
    "The possibilities here are endless. Get creative and use the tools you've learned thus far!"
   ]
  },
  {
   "cell_type": "code",
   "execution_count": 44,
   "id": "38fd9b9f",
   "metadata": {},
   "outputs": [],
   "source": []
  },
  {
   "cell_type": "code",
   "execution_count": null,
   "id": "c795ec8b",
   "metadata": {},
   "outputs": [],
   "source": []
  },
  {
   "cell_type": "code",
   "execution_count": null,
   "id": "0e7e7393",
   "metadata": {},
   "outputs": [],
   "source": []
  },
  {
   "cell_type": "code",
   "execution_count": null,
   "id": "412b46d6",
   "metadata": {},
   "outputs": [],
   "source": []
  },
  {
   "cell_type": "code",
   "execution_count": null,
   "id": "c7c4524f",
   "metadata": {},
   "outputs": [],
   "source": []
  },
  {
   "cell_type": "code",
   "execution_count": null,
   "id": "0fcc9b45",
   "metadata": {},
   "outputs": [],
   "source": []
  }
 ],
 "metadata": {
  "kernelspec": {
   "display_name": "Python 3 (ipykernel)",
   "language": "python",
   "name": "python3"
  },
  "language_info": {
   "codemirror_mode": {
    "name": "ipython",
    "version": 3
   },
   "file_extension": ".py",
   "mimetype": "text/x-python",
   "name": "python",
   "nbconvert_exporter": "python",
   "pygments_lexer": "ipython3",
   "version": "3.9.13"
  }
 },
 "nbformat": 4,
 "nbformat_minor": 5
}
