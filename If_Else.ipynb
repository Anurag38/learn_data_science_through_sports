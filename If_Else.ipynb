{
 "cells": [
  {
   "cell_type": "markdown",
   "id": "50312d85",
   "metadata": {},
   "source": [
    "# An if/else statement is a conditional statement. This means that it relies on the definition of a condition and response to that condition\n",
    "\n",
    "## If \"something\" then \"something else happens\""
   ]
  },
  {
   "cell_type": "markdown",
   "id": "66ddc758",
   "metadata": {},
   "source": [
    "A classic usecase in sports is simply determining if the home team won or not. We know how much each team scored (defined below), so what do we do?"
   ]
  },
  {
   "cell_type": "code",
   "execution_count": 3,
   "id": "124e97a9",
   "metadata": {},
   "outputs": [
    {
     "name": "stdout",
     "output_type": "stream",
     "text": [
      "Home Team has won!\n"
     ]
    }
   ],
   "source": [
    "home_team_score = 23\n",
    "away_team_score = 16\n",
    "\n",
    "if home_team_score > away_team_score:\n",
    "    print(\"Home Team has won!\")"
   ]
  },
  {
   "cell_type": "markdown",
   "id": "2183aa40",
   "metadata": {},
   "source": [
    "Now let's say we built the if statement condition the same, but we flip flopped the scores. WHat will happen?"
   ]
  },
  {
   "cell_type": "code",
   "execution_count": 4,
   "id": "67ea4680",
   "metadata": {},
   "outputs": [],
   "source": [
    "home_team_score = 16\n",
    "away_team_score = 23\n",
    "\n",
    "if home_team_score > away_team_score:\n",
    "    print(\"Home Team has won!\")"
   ]
  },
  {
   "cell_type": "markdown",
   "id": "da127c93",
   "metadata": {},
   "source": [
    "Nothing at all! Why? Because we haven't defined a response if the condition was NOT true. Let's add another portion."
   ]
  },
  {
   "cell_type": "code",
   "execution_count": 5,
   "id": "78fb6f9f",
   "metadata": {},
   "outputs": [
    {
     "name": "stdout",
     "output_type": "stream",
     "text": [
      "Home team has lost!\n"
     ]
    }
   ],
   "source": [
    "home_team_score = 16\n",
    "away_team_score = 23\n",
    "\n",
    "if home_team_score > away_team_score:\n",
    "    print(\"Home Team has won!\")\n",
    "elif home_team_score < away_team_score:\n",
    "    print(\"Home team has lost!\")"
   ]
  },
  {
   "cell_type": "markdown",
   "id": "07f298fa",
   "metadata": {},
   "source": [
    "An \"elif\" essentially is saying \"if the condition was not met, check and see if this one is met. If so, perform the defined operation."
   ]
  },
  {
   "cell_type": "markdown",
   "id": "1fee91b8",
   "metadata": {},
   "source": [
    "Now we have covered a win and a loss, but as we know there is another possibility...the dreaded tie (how boring). How can we incorporate that into this code. There are actually a few ways and I will break two of them down below."
   ]
  },
  {
   "cell_type": "code",
   "execution_count": 6,
   "id": "04da69c6",
   "metadata": {},
   "outputs": [
    {
     "name": "stdout",
     "output_type": "stream",
     "text": [
      "The game ends in a tie!\n"
     ]
    }
   ],
   "source": [
    "home_team_score = 17\n",
    "away_team_score = 17\n",
    "\n",
    "if home_team_score > away_team_score:\n",
    "    print(\"Home Team has won!\")\n",
    "elif home_team_score < away_team_score:\n",
    "    print(\"Home team has lost!\")\n",
    "elif home_team_score == away_team_score:\n",
    "    print(\"The game ends in a tie!\")"
   ]
  },
  {
   "cell_type": "markdown",
   "id": "69dbe7f4",
   "metadata": {},
   "source": [
    "The above example shows how you could incorporate a tie using an additional \"elif\" statement. But there is a trick for instances like these! If we have already covered a \"win\" condition and a \"loss\" condition, there is only one other possible scenario. So we can just use an \"else\" which essentially means \"no other conditions have been met, so run this\""
   ]
  },
  {
   "cell_type": "code",
   "execution_count": 7,
   "id": "296e6a88",
   "metadata": {},
   "outputs": [
    {
     "name": "stdout",
     "output_type": "stream",
     "text": [
      "The game ends in a tie!\n"
     ]
    }
   ],
   "source": [
    "home_team_score = 17\n",
    "away_team_score = 17\n",
    "\n",
    "if home_team_score > away_team_score:\n",
    "    print(\"Home Team has won!\")\n",
    "elif home_team_score < away_team_score:\n",
    "    print(\"Home team has lost!\")\n",
    "else:\n",
    "    print(\"The game ends in a tie!\")"
   ]
  },
  {
   "cell_type": "markdown",
   "id": "f27ea538",
   "metadata": {},
   "source": [
    "Notice this is a little cleaner looking and more efficient to type out"
   ]
  },
  {
   "cell_type": "markdown",
   "id": "221fa05d",
   "metadata": {},
   "source": [
    "## Let's step this up a bit"
   ]
  },
  {
   "cell_type": "markdown",
   "id": "23e72fa9",
   "metadata": {},
   "source": [
    "An if/else statement can combine conditional statements. Here is a very cool example using an NBA player's stats and determining if they achieved a triple double."
   ]
  },
  {
   "cell_type": "code",
   "execution_count": 9,
   "id": "944192cd",
   "metadata": {},
   "outputs": [
    {
     "name": "stdout",
     "output_type": "stream",
     "text": [
      "Russell Westbrook achieved a triple double!\n"
     ]
    }
   ],
   "source": [
    "player = 'Russell Westbrook'\n",
    "points = 28\n",
    "assists = 12\n",
    "rebounds = 14\n",
    "\n",
    "if points >=10 and assists >=10 and rebounds >=10:\n",
    "    print('Russell Westbrook achieved a triple double!')\n",
    "else:\n",
    "    print('Russell Westbrook did not achieve a triple double!')\n"
   ]
  },
  {
   "cell_type": "markdown",
   "id": "6ada165f",
   "metadata": {},
   "source": [
    "Notice the use of the \"and\" to combine conditional statements. Play around with the stats and make sure the logic all works!\n",
    "\n",
    "We can also use \"or\" and \"not\" in an if/else statement. Let's see some examples.\n",
    "\n",
    "Let's break down a classic scenario that always seems to occur at the end of the NFL season. The \"Playoff Hunt\". If x wins and y loses or z ties then team x makes the playoffs. Ya know, the classic puzzle that is the NFL playoff picture. So in the following example, the Patriots are playing the Jets. They need to win or they need the Dolphins to lose to the Vikings. How can we write this out?"
   ]
  },
  {
   "cell_type": "code",
   "execution_count": 10,
   "id": "46cc8a6c",
   "metadata": {},
   "outputs": [
    {
     "name": "stdout",
     "output_type": "stream",
     "text": [
      "Patriots are advancing to the playoffs!\n"
     ]
    }
   ],
   "source": [
    "Patriots_score = 35\n",
    "Jets_score = 7\n",
    "\n",
    "Dolphins_score = 28\n",
    "Vikings_score = 17\n",
    "\n",
    "if Patriots_score > Jets_score or Dolphins_score < Vikings_score:\n",
    "    print('Patriots are advancing to the playoffs!')"
   ]
  },
  {
   "cell_type": "markdown",
   "id": "d7eb172a",
   "metadata": {},
   "source": [
    "Let's make sure this same statement works when the Patriots lose but the Dolphins also lose"
   ]
  },
  {
   "cell_type": "code",
   "execution_count": 11,
   "id": "5781f23f",
   "metadata": {},
   "outputs": [
    {
     "name": "stdout",
     "output_type": "stream",
     "text": [
      "Patriots are advancing to the playoffs!\n"
     ]
    }
   ],
   "source": [
    "Patriots_score = 21\n",
    "Jets_score = 24\n",
    "\n",
    "Dolphins_score = 28\n",
    "Vikings_score = 35\n",
    "\n",
    "if Patriots_score > Jets_score or Dolphins_score < Vikings_score:\n",
    "    print('Patriots are advancing to the playoffs!')"
   ]
  },
  {
   "cell_type": "markdown",
   "id": "cfb3c5ea",
   "metadata": {},
   "source": [
    "There you have it, it works!\n",
    "\n",
    "This has been an intro to if/else statements! We will continue to get a little more advanced with these as the curriculum moves on. Hopefully by now you see some of the power Python has to offer the world of sports!"
   ]
  },
  {
   "cell_type": "code",
   "execution_count": null,
   "id": "274503a2",
   "metadata": {},
   "outputs": [],
   "source": []
  }
 ],
 "metadata": {
  "kernelspec": {
   "display_name": "Python 3 (ipykernel)",
   "language": "python",
   "name": "python3"
  },
  "language_info": {
   "codemirror_mode": {
    "name": "ipython",
    "version": 3
   },
   "file_extension": ".py",
   "mimetype": "text/x-python",
   "name": "python",
   "nbconvert_exporter": "python",
   "pygments_lexer": "ipython3",
   "version": "3.9.13"
  }
 },
 "nbformat": 4,
 "nbformat_minor": 5
}
