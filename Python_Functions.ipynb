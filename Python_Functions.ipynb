{
 "cells": [
  {
   "cell_type": "markdown",
   "id": "60efa67a",
   "metadata": {},
   "source": [
    "# Functions"
   ]
  },
  {
   "cell_type": "markdown",
   "id": "9588d1b3",
   "metadata": {},
   "source": [
    "Say we have a game by game breakdown of the last 10 games played by 5 different players. We want to quickly take that list of game performances and calculate some key metrics. Are we going to write the same piece of code 5 times (once for each player)? No we are not!"
   ]
  },
  {
   "cell_type": "markdown",
   "id": "6c28c8f9",
   "metadata": {},
   "source": [
    "First let's import numpy which is a key module for several arthithmetic operations."
   ]
  },
  {
   "cell_type": "code",
   "execution_count": 2,
   "id": "178d9b61",
   "metadata": {},
   "outputs": [],
   "source": [
    "import numpy as np"
   ]
  },
  {
   "cell_type": "code",
   "execution_count": 4,
   "id": "d53abef6",
   "metadata": {},
   "outputs": [],
   "source": [
    "# a list of the last 10 games points scored for each player\n",
    "\n",
    "damian_lillard = [32,27,31,24,16,43,34,22,29,39]\n",
    "anthony_davis =  [35,21,21,27,19,31,34,26,25,32]\n",
    "luka_doncic =  [39,40,28,25,29,30,36,28,27,31]\n",
    "zach_lavine =  [22,24,22,27,34,32,21,15,19,36]\n",
    "trae_toung = [20,21,27,30,31,29,29,19,22,38]"
   ]
  },
  {
   "cell_type": "markdown",
   "id": "de9ce7d4",
   "metadata": {},
   "source": [
    "We want to calculate some metrics for each player's last 10 games. Mean, median, maximum, minimum, and standard deviation. Doing this 5 separate times would be quite a tedious task. This is what Python functions are for!"
   ]
  },
  {
   "cell_type": "markdown",
   "id": "ffc4044a",
   "metadata": {},
   "source": [
    "A Python function is created using \"def\" then the functions name, then a set of parentheses (where arguments can be) followed by a colon."
   ]
  },
  {
   "cell_type": "code",
   "execution_count": 36,
   "id": "d79d78fc",
   "metadata": {},
   "outputs": [],
   "source": [
    "def point_metrics(player):\n",
    "    mean = np.mean(player)\n",
    "    median = np.median(player)\n",
    "    maximum = np.max(player)\n",
    "    minimum = np.min(player)\n",
    "    standard_deviation = np.std(player)\n",
    "    print(\"Mean:\", mean)\n",
    "    print(\"Median:\", median)\n",
    "    print(\"Maximum:\", maximum)\n",
    "    print(\"Minimum:\", minimum)\n",
    "    print(\"Standard Deviation:\", standard_deviation)\n",
    "    \n",
    "    "
   ]
  },
  {
   "cell_type": "markdown",
   "id": "52f9a33e",
   "metadata": {},
   "source": [
    "We can then use this function for each player by calling the function and putting the player's list name in as the argument."
   ]
  },
  {
   "cell_type": "code",
   "execution_count": 37,
   "id": "cd7a9a1c",
   "metadata": {},
   "outputs": [
    {
     "name": "stdout",
     "output_type": "stream",
     "text": [
      "Damian Lillard\n",
      "Mean: 29.7\n",
      "Median: 30.0\n",
      "Maximum: 43\n",
      "Minimum: 16\n",
      "Standard Deviation: 7.59012516365837\n",
      "Anthony Davis\n",
      "Mean: 27.1\n",
      "Median: 26.5\n",
      "Maximum: 35\n",
      "Minimum: 19\n",
      "Standard Deviation: 5.430469592954186\n",
      "Luka Doncic\n",
      "Mean: 31.3\n",
      "Median: 29.5\n",
      "Maximum: 40\n",
      "Minimum: 25\n",
      "Standard Deviation: 4.94064773081425\n",
      "Zach LaVine\n",
      "Mean: 25.2\n",
      "Median: 23.0\n",
      "Maximum: 36\n",
      "Minimum: 15\n",
      "Standard Deviation: 6.523802572120037\n",
      "Trae Young\n",
      "Mean: 26.6\n",
      "Median: 28.0\n",
      "Maximum: 38\n",
      "Minimum: 19\n",
      "Standard Deviation: 5.71314274283428\n"
     ]
    }
   ],
   "source": [
    "print(\"Damian Lillard\")\n",
    "point_metrics(damian_lillard)\n",
    "\n",
    "print(\"Anthony Davis\")\n",
    "point_metrics(anthony_davis)\n",
    "\n",
    "print(\"Luka Doncic\")\n",
    "point_metrics(luka_doncic)\n",
    "\n",
    "print(\"Zach LaVine\")\n",
    "point_metrics(zach_lavine)\n",
    "\n",
    "print(\"Trae Young\")\n",
    "point_metrics(trae_toung)"
   ]
  },
  {
   "cell_type": "markdown",
   "id": "8b0e4980",
   "metadata": {},
   "source": [
    "Much easier than typing the full code out 5 separate times!"
   ]
  },
  {
   "cell_type": "markdown",
   "id": "c5493d73",
   "metadata": {},
   "source": [
    "## Let's combine some of our previously learned logic to make this function even more powerful!"
   ]
  },
  {
   "cell_type": "markdown",
   "id": "967e7cce",
   "metadata": {},
   "source": [
    "Calling the function 5 separate times as shown above is efficient, but we can do even better by applying some additional logic!"
   ]
  },
  {
   "cell_type": "markdown",
   "id": "5098f187",
   "metadata": {},
   "source": [
    "### Combining functions, for loops, and dictionaries!"
   ]
  },
  {
   "cell_type": "markdown",
   "id": "ca59edf8",
   "metadata": {},
   "source": [
    "We know our 5 players of interest. Let's combine their names and point lists into a dictionary!"
   ]
  },
  {
   "cell_type": "code",
   "execution_count": 55,
   "id": "48200ec8",
   "metadata": {},
   "outputs": [],
   "source": [
    "player_dict = {'Damian Lillard':damian_lillard,\n",
    "              'Anthony Davis': anthony_davis,\n",
    "              'Luka Doncic': luka_doncic,\n",
    "              'Zach LaVine': zach_lavine,\n",
    "              'Trae Young': trae_toung}"
   ]
  },
  {
   "cell_type": "markdown",
   "id": "f55ab136",
   "metadata": {},
   "source": [
    "Now remember, we can iterate over a dictionary using a for loop. Let's see what we can do when we use the power of a for loop with a python function. Since a dictionary is a set of key-value pairs, we will now take in 2 arguments in the function!"
   ]
  },
  {
   "cell_type": "code",
   "execution_count": 63,
   "id": "44317300",
   "metadata": {},
   "outputs": [],
   "source": [
    "def point_metrics(player,points):\n",
    "    mean = np.mean(points)\n",
    "    median = np.median(points)\n",
    "    maximum = np.max(points)\n",
    "    minimum = np.min(points)\n",
    "    standard_deviation = np.std(points)\n",
    "    print(\"Player\", player)\n",
    "    print(\"Mean:\", mean)\n",
    "    print(\"Median:\", median)\n",
    "    print(\"Maximum:\", maximum)\n",
    "    print(\"Minimum:\", minimum)\n",
    "    print(\"Standard Deviation:\", standard_deviation)"
   ]
  },
  {
   "cell_type": "markdown",
   "id": "e7986dab",
   "metadata": {},
   "source": [
    "We refer to the \"keys\" here as \"player\" and the \"values\" as \"points\". Using this, we can automate the print portion from the above example!"
   ]
  },
  {
   "cell_type": "code",
   "execution_count": 66,
   "id": "c6857876",
   "metadata": {},
   "outputs": [
    {
     "name": "stdout",
     "output_type": "stream",
     "text": [
      "Player Damian Lillard\n",
      "Mean: 29.7\n",
      "Median: 30.0\n",
      "Maximum: 43\n",
      "Minimum: 16\n",
      "Standard Deviation: 7.59012516365837\n",
      "Player Anthony Davis\n",
      "Mean: 27.1\n",
      "Median: 26.5\n",
      "Maximum: 35\n",
      "Minimum: 19\n",
      "Standard Deviation: 5.430469592954186\n",
      "Player Luka Doncic\n",
      "Mean: 31.3\n",
      "Median: 29.5\n",
      "Maximum: 40\n",
      "Minimum: 25\n",
      "Standard Deviation: 4.94064773081425\n",
      "Player Zach LaVine\n",
      "Mean: 25.2\n",
      "Median: 23.0\n",
      "Maximum: 36\n",
      "Minimum: 15\n",
      "Standard Deviation: 6.523802572120037\n",
      "Player Trae Young\n",
      "Mean: 26.6\n",
      "Median: 28.0\n",
      "Maximum: 38\n",
      "Minimum: 19\n",
      "Standard Deviation: 5.71314274283428\n"
     ]
    }
   ],
   "source": [
    "for player, points in player_dict.items():\n",
    "    point_metrics(player,points)"
   ]
  },
  {
   "cell_type": "markdown",
   "id": "cf36911c",
   "metadata": {},
   "source": [
    "You will commonly get information in the format of dictionaries. Being able to build a function that incorporated a dictionary is a very useful skill. Being able to combine that with a for loop, is even better!"
   ]
  },
  {
   "cell_type": "markdown",
   "id": "b0230fc1",
   "metadata": {},
   "source": [
    "### The possibilities of functions are nearly endless! For now, understand the purpose behind them and the basic logical combinations you can create!"
   ]
  },
  {
   "cell_type": "code",
   "execution_count": null,
   "id": "041ea57a",
   "metadata": {},
   "outputs": [],
   "source": []
  }
 ],
 "metadata": {
  "kernelspec": {
   "display_name": "Python 3 (ipykernel)",
   "language": "python",
   "name": "python3"
  },
  "language_info": {
   "codemirror_mode": {
    "name": "ipython",
    "version": 3
   },
   "file_extension": ".py",
   "mimetype": "text/x-python",
   "name": "python",
   "nbconvert_exporter": "python",
   "pygments_lexer": "ipython3",
   "version": "3.9.13"
  }
 },
 "nbformat": 4,
 "nbformat_minor": 5
}
