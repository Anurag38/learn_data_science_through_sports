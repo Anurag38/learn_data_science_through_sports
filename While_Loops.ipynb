{
 "cells": [
  {
   "cell_type": "markdown",
   "id": "69dc8dea",
   "metadata": {},
   "source": [
    "# While Loops"
   ]
  },
  {
   "cell_type": "markdown",
   "id": "0258b2cd",
   "metadata": {},
   "source": [
    "## When a condition is true, run something!"
   ]
  },
  {
   "cell_type": "markdown",
   "id": "5786a42b",
   "metadata": {},
   "source": [
    "We have a player on a minutes restriction. They are just coming back from injury and we don't want them playing more than 8 consecutive minutes at any point during tonight's game. We don't have the staff or resources to keep track while the game is going on. We simply want to be alerted when the 8 minutes is up so we can take the player off the court."
   ]
  },
  {
   "cell_type": "code",
   "execution_count": 5,
   "id": "143f3ec1",
   "metadata": {},
   "outputs": [
    {
     "name": "stdout",
     "output_type": "stream",
     "text": [
      "0\n",
      "1\n",
      "2\n",
      "3\n",
      "4\n",
      "5\n",
      "6\n",
      "7\n",
      "8\n"
     ]
    }
   ],
   "source": [
    "# this will be using the sleep function which I have not introduced yet formally\n",
    "# All it is doing here is saying \"rest for 60 seconds\". To save time when you run this, adjust\n",
    "#the 60 to a lesser time interval\n",
    "\n",
    "import time\n",
    "from time import sleep\n",
    "\n",
    "minutes = 0 #the count is starting assuming they just got on the court\n",
    "\n",
    "while minutes <=8:\n",
    "    print(minutes)\n",
    "    sleep(60)\n",
    "    minutes +=1 #this part is crucial. It increments the \"minutes\". \n",
    "                #Without it, the loop would run forever"
   ]
  },
  {
   "cell_type": "markdown",
   "id": "8f6ad751",
   "metadata": {},
   "source": [
    "As you can see, this loop simply prints the minute number until 8 minutes is reached and then it stops! \n",
    "\n",
    "But simply stopping isn't very helpful or practical here. Instead we would want an action to occur once we are at the 8 minute mark!\n"
   ]
  },
  {
   "cell_type": "markdown",
   "id": "14410b85",
   "metadata": {},
   "source": [
    "## The While/Else Statement"
   ]
  },
  {
   "cell_type": "markdown",
   "id": "1aab815b",
   "metadata": {},
   "source": [
    "Here we can combine the logic of the above while loop with an \"else\" statement. This executes when the while condition is no longer true. So, when the player has reached their 8 minute limit, we can take action using this format."
   ]
  },
  {
   "cell_type": "code",
   "execution_count": 6,
   "id": "e0c8414b",
   "metadata": {},
   "outputs": [
    {
     "name": "stdout",
     "output_type": "stream",
     "text": [
      "0\n",
      "1\n",
      "2\n",
      "3\n",
      "4\n",
      "5\n",
      "6\n",
      "7\n",
      "8\n",
      "Take them out of the game!\n"
     ]
    }
   ],
   "source": [
    "import time\n",
    "from time import sleep\n",
    "\n",
    "minutes = 0 \n",
    "\n",
    "while minutes <=8:\n",
    "    print(minutes)\n",
    "    sleep(60)\n",
    "    minutes +=1\n",
    "else:\n",
    "    print(\"Take them out of the game!\")"
   ]
  },
  {
   "cell_type": "markdown",
   "id": "c530c1fa",
   "metadata": {},
   "source": [
    "For now we will stop here with While loops. This will be a piece of logic we use quite a bit as the material progresses."
   ]
  },
  {
   "cell_type": "code",
   "execution_count": null,
   "id": "bb05f354",
   "metadata": {},
   "outputs": [],
   "source": []
  }
 ],
 "metadata": {
  "kernelspec": {
   "display_name": "Python 3 (ipykernel)",
   "language": "python",
   "name": "python3"
  },
  "language_info": {
   "codemirror_mode": {
    "name": "ipython",
    "version": 3
   },
   "file_extension": ".py",
   "mimetype": "text/x-python",
   "name": "python",
   "nbconvert_exporter": "python",
   "pygments_lexer": "ipython3",
   "version": "3.9.13"
  }
 },
 "nbformat": 4,
 "nbformat_minor": 5
}
